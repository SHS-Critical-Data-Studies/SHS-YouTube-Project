{
 "cells": [
  {
   "cell_type": "code",
   "execution_count": 2,
   "metadata": {
    "collapsed": true,
    "pycharm": {
     "name": "#%%\n"
    }
   },
   "outputs": [],
   "source": [
    "import pandas as pd\n",
    "from gensim.models import LdaMulticore\n",
    "from helper_data import *\n",
    "from helper_preprocess import *\n",
    "\n",
    "\n",
    "%load_ext autoreload\n",
    "%autoreload 2"
   ]
  },
  {
   "cell_type": "markdown",
   "source": [
    "## Load the data"
   ],
   "metadata": {
    "collapsed": false,
    "pycharm": {
     "name": "#%% md\n"
    }
   }
  },
  {
   "cell_type": "code",
   "execution_count": 3,
   "outputs": [],
   "source": [
    "# Load data\n",
    "walks_folder = 'data/P3'\n",
    "walk_path = 'all_p3'\n",
    "#data = load_all_walks_comments(walks_folder, True)\n",
    "data = load_all_walks_tags(walks_folder, True)"
   ],
   "metadata": {
    "collapsed": false,
    "pycharm": {
     "name": "#%%\n"
    }
   }
  },
  {
   "cell_type": "code",
   "execution_count": 24,
   "outputs": [],
   "source": [
    "# Drop the videos where nan occurs\n",
    "data = data.dropna(subset='keywords')\n",
    "tags = data['keywords'].tolist()\n",
    "walks_id = data['walk'].tolist()"
   ],
   "metadata": {
    "collapsed": false,
    "pycharm": {
     "name": "#%%\n"
    }
   }
  },
  {
   "cell_type": "code",
   "execution_count": 9,
   "outputs": [
    {
     "data": {
      "text/plain": "491"
     },
     "execution_count": 9,
     "metadata": {},
     "output_type": "execute_result"
    }
   ],
   "source": [
    "len(tags)"
   ],
   "metadata": {
    "collapsed": false,
    "pycharm": {
     "name": "#%%\n"
    }
   }
  },
  {
   "cell_type": "markdown",
   "source": [
    "## Preprocessing"
   ],
   "metadata": {
    "collapsed": false,
    "pycharm": {
     "name": "#%% md\n"
    }
   }
  },
  {
   "cell_type": "code",
   "execution_count": 10,
   "outputs": [],
   "source": [
    "# Preprocess the data\n",
    "tags_prep = [preprocess(t, tag=True) for t in tags]"
   ],
   "metadata": {
    "collapsed": false,
    "pycharm": {
     "name": "#%%\n"
    }
   }
  },
  {
   "cell_type": "code",
   "execution_count": 14,
   "outputs": [],
   "source": [
    "# Filter out words that appear in more than 30% of the videos and words that\n",
    "# appear less than 3 times\n",
    "min_words = 3\n",
    "max_freq = 0.3\n",
    "\n",
    "dictionary, corpus = create_corpus(tags_prep, min_words, max_freq)"
   ],
   "metadata": {
    "collapsed": false,
    "pycharm": {
     "name": "#%%\n"
    }
   }
  },
  {
   "cell_type": "code",
   "execution_count": 15,
   "outputs": [
    {
     "data": {
      "text/plain": "491"
     },
     "execution_count": 15,
     "metadata": {},
     "output_type": "execute_result"
    }
   ],
   "source": [
    "len(corpus)"
   ],
   "metadata": {
    "collapsed": false,
    "pycharm": {
     "name": "#%%\n"
    }
   }
  },
  {
   "cell_type": "markdown",
   "source": [
    "## LDA"
   ],
   "metadata": {
    "collapsed": false,
    "pycharm": {
     "name": "#%% md\n"
    }
   }
  },
  {
   "cell_type": "code",
   "execution_count": 16,
   "outputs": [],
   "source": [
    "# LDA parameters\n",
    "workers = 3\n",
    "passes = 1000\n",
    "random_state = 123\n",
    "num_topics = 12\n",
    "alpha = 0.05 # < 1 gives sparse topics distributions\n",
    "eta = 0.05 # < 1 gives sparse words distribution inside each topic\n",
    "\n",
    "lda_model = LdaMulticore(corpus=corpus, num_topics=num_topics, id2word=dictionary, workers=workers, passes=passes, random_state=random_state, alpha=alpha, eta=eta)"
   ],
   "metadata": {
    "collapsed": false,
    "pycharm": {
     "name": "#%%\n"
    }
   }
  },
  {
   "cell_type": "code",
   "execution_count": 17,
   "outputs": [
    {
     "data": {
      "text/plain": "[(0,\n  [('cover', 0.052822966),\n   ('official', 0.05234242),\n   ('new', 0.04690687),\n   ('pump', 0.03907302),\n   ('exposed', 0.03907293),\n   ('water', 0.038978178),\n   ('cave', 0.036781315),\n   ('cliff', 0.036781315),\n   ('acoustic', 0.034382347),\n   ('tiktok', 0.03428929)]),\n (1,\n  [('make', 0.10497042),\n   ('hack', 0.05668948),\n   ('cooking', 0.053971186),\n   ('britney', 0.052525472),\n   ('spear', 0.052525472),\n   ('food', 0.04824831),\n   ('home', 0.04482339),\n   ('recipe', 0.040202744),\n   ('easy', 0.03712178),\n   ('idea', 0.036898907)]),\n (2,\n  [('idea', 0.09421545),\n   ('cement', 0.07142932),\n   ('video', 0.061155934),\n   ('official', 0.05502963),\n   ('table', 0.051621787),\n   ('music', 0.051285602),\n   ('make', 0.043451615),\n   ('gas', 0.028986081),\n   ('remastered', 0.028986065),\n   ('creative', 0.027692785)]),\n (3,\n  [('ed', 0.09383112),\n   ('sheeran', 0.07768113),\n   ('houston', 0.04861124),\n   ('love', 0.04461002),\n   ('whitney', 0.04215125),\n   ('mod', 0.038707845),\n   ('wuggy', 0.03569064),\n   ('music', 0.03501908),\n   ('without', 0.03246123),\n   ('lyric', 0.031985432)]),\n (4,\n  [('brown', 0.08986682),\n   ('chris', 0.086716354),\n   ('rock', 0.08514114),\n   ('song', 0.07519972),\n   ('music', 0.06000514),\n   ('night', 0.045848712),\n   ('friday', 0.042279277),\n   ('best', 0.037884172),\n   ('funkin', 0.03750571),\n   ('fnf', 0.034733657)]),\n (5,\n  [('wood', 0.10155712),\n   ('stove', 0.062161546),\n   ('security', 0.052125134),\n   ('breach', 0.052125134),\n   ('hamster', 0.04381034),\n   ('wheel', 0.04173471),\n   ('ice', 0.041734666),\n   ('water', 0.034807794),\n   ('night', 0.033729006),\n   ('light', 0.03134429)]),\n (6,\n  [('bottle', 0.11472239),\n   ('flip', 0.10880318),\n   ('perfect', 0.08660597),\n   ('dude', 0.08660597),\n   ('shot', 0.074027546),\n   ('trick', 0.07399596),\n   ('family', 0.06366884),\n   ('water', 0.062918864),\n   ('world', 0.04438613),\n   ('record', 0.035552394)]),\n (7,\n  [('free', 0.13825266),\n   ('phone', 0.1248703),\n   ('camera', 0.12237545),\n   ('battery', 0.07996182),\n   ('repair', 0.040043205),\n   ('beauty', 0.030063394),\n   ('custom', 0.030063072),\n   ('acid', 0.02756844),\n   ('vevo', 0.025073757),\n   ('cole', 0.022578837)]),\n (8,\n  [('minecraft', 0.38991854),\n   ('family', 0.058657877),\n   ('house', 0.04147731),\n   ('hardcore', 0.036768734),\n   ('day', 0.031882443),\n   ('soul', 0.029439107),\n   ('say', 0.022109892),\n   ('drama', 0.019666942),\n   ('tutorial', 0.01966692),\n   ('skip', 0.017223813)]),\n (9,\n  [('new', 0.08082027),\n   ('restoration', 0.057475355),\n   ('machine', 0.054646894),\n   ('year', 0.04916112),\n   ('compressor', 0.042978525),\n   ('electric', 0.039089095),\n   ('motor', 0.035199624),\n   ('eve', 0.03519954),\n   ('generator', 0.031310137),\n   ('old', 0.030635023)]),\n (10,\n  [('record', 0.08470789),\n   ('poppy', 0.07804432),\n   ('life', 0.07354038),\n   ('game', 0.057498705),\n   ('train', 0.044185527),\n   ('online', 0.044185523),\n   ('playtime', 0.040460363),\n   ('story', 0.033838876),\n   ('simulator', 0.030641994),\n   ('real', 0.030641954)]),\n (11,\n  [('hip', 0.11280167),\n   ('hop', 0.11040416),\n   ('mix', 0.07923694),\n   ('old', 0.051760335),\n   ('craft', 0.048989013),\n   ('school', 0.045672055),\n   ('party', 0.040877048),\n   ('rnb', 0.0288895),\n   ('life', 0.024315014),\n   ('mechanic', 0.024094656)])]"
     },
     "execution_count": 17,
     "metadata": {},
     "output_type": "execute_result"
    }
   ],
   "source": [
    "lda_model.show_topics(formatted=False, num_topics=num_topics, num_words=10)"
   ],
   "metadata": {
    "collapsed": false,
    "pycharm": {
     "name": "#%%\n"
    }
   }
  },
  {
   "cell_type": "markdown",
   "source": [
    "Tests made :\n",
    "passes=10 for below\n",
    "- alpha=0.5, eta=1, num_topics=10 :\n",
    "    - Individual topics easily interpretable, but some are a bit mixed -> decrease alpha and maybe eta too, to get more polarized topics in each video and more specific vocabulary in each topic\n",
    "    - Multiple topics about the same subject : especially music -> reduce number of topics\n",
    "- alpha=0.2, eta=1, num_topics=10 :\n",
    "    - More polarized topics as wanted\n",
    "    - Still some mixed topics\n",
    "    - Still multiple topics about the same subjects (especially music again)\n",
    "- alpha=0.2, eta=1, num_topics=7 :\n",
    "    - Fewer similar topics, but kind of more mixed words in each topic\n",
    "- alpha=0.2, eta=0.8, num_topics=7 :\n",
    "    - Still approx. 2 topics on music -> reduce num_topics\n",
    "- alpha=0.2, eta=0.8, num_topics=6 :\n",
    "    - More or less distinct topics\n",
    "    - First 4 are easily interpretable but last 2 are more mixed (music-minecraft)\n",
    "- alpha=0.2, eta=0.8, num_topics=5 :\n",
    "    - Even more mixed up topics -> need more than 5 topics to fit well\n",
    "\n",
    "\n",
    "passes=50 for below (training time is still very short)\n",
    "- alpha=0.1, eta=0.7, num_topics=7 :\n",
    "    - Still a bit mixed up topics in the last 2 -> might actually need to increase num_topics but set sharper alpha and eta\n",
    "- alpha=0.1, eta=0.1, num_topics=8 :\n",
    "    - Again the first few topics are very good but the last ones are more mixed up\n",
    "\n",
    "Observation : might want to remove the word \"official\", appears often in the topics (e.g. for music, etc) but not really informative about the subject\n",
    "\n",
    "passes=100 for below (training time is still very short)\n",
    "- alpha=0.1, eta=0.1, num_topics=8 :\n",
    "    - Similar to passes=50\n",
    "- alpha=50/num_topics (typical value used in practice), eta=0.1, num_topics=8 :\n",
    "    - Quite good topics but somewhat mixed -> try to lower the 50\n",
    "- alpha=25/num_topics, eta=0.1, num_topics=8 :\n",
    "    - Quite good topics\n",
    "- alpha=25/num_topics, eta=0.1, num_topics=7 :\n",
    "    - Quite good topics but a bit more mixed -> keep num_topics=8\n",
    "- alpha=1, eta=0.1, num_topics=8 :\n",
    "    - Quite good topics but got two music topics\n",
    "- alpha=25/num_topics, eta=0.01, num_topics=8 :\n",
    "    - Topics very similar to previous setup\n",
    "    - Again 2 topics on music\n",
    "- alpha=10/num_topics, eta=0.01, num_topics=8 :\n",
    "    - Again very similar to previous setup\n",
    "    - And again 2 topics on music\n",
    "- alpha=0.99, eta=0.1, num_topics=15 :\n",
    "    - Not so bad : many similar topics but more interpretable (less mixed)\n",
    "\n",
    "\n",
    "In the end -> have to tune with final data"
   ],
   "metadata": {
    "collapsed": false,
    "pycharm": {
     "name": "#%% md\n"
    }
   }
  },
  {
   "cell_type": "markdown",
   "source": [
    "## Clustering the videos"
   ],
   "metadata": {
    "collapsed": false,
    "pycharm": {
     "name": "#%% md\n"
    }
   }
  },
  {
   "cell_type": "code",
   "execution_count": 18,
   "outputs": [],
   "source": [
    "# Build the \"embeddings\" for each document using its topics distribution\n",
    "embeddings = np.zeros((len(corpus), num_topics))\n",
    "for i, doc_bow in enumerate(corpus):\n",
    "    topics_distr = lda_model.get_document_topics(doc_bow)\n",
    "    embedding = [0.0] * num_topics\n",
    "\n",
    "    for id, p in topics_distr:\n",
    "        embedding[id] = p\n",
    "\n",
    "    embeddings[i, :] = embedding"
   ],
   "metadata": {
    "collapsed": false,
    "pycharm": {
     "name": "#%%\n"
    }
   }
  },
  {
   "cell_type": "code",
   "execution_count": 19,
   "outputs": [
    {
     "name": "stderr",
     "output_type": "stream",
     "text": [
      "/home/cpittet/anaconda3/envs/shs/lib/python3.9/site-packages/sklearn/manifold/_t_sne.py:982: FutureWarning: The PCA initialization in TSNE will change to have the standard deviation of PC1 equal to 1e-4 in 1.2. This will ensure better convergence.\n",
      "  warnings.warn(\n"
     ]
    }
   ],
   "source": [
    "from sklearn.manifold import TSNE\n",
    "\n",
    "# Init pca is more stable,\n",
    "tsne = TSNE(n_components=2, init='pca', learning_rate='auto', random_state=random_state)\n",
    "corpus_emb = tsne.fit_transform(embeddings)"
   ],
   "metadata": {
    "collapsed": false,
    "pycharm": {
     "name": "#%%\n"
    }
   }
  },
  {
   "cell_type": "code",
   "execution_count": 20,
   "outputs": [
    {
     "data": {
      "text/plain": "<Figure size 1008x1008 with 1 Axes>",
      "image/png": "[encoded data removed]"
     },
     "metadata": {
      "needs_background": "light"
     },
     "output_type": "display_data"
    }
   ],
   "source": [
    "import matplotlib.pyplot as plt\n",
    "plt.rcParams[\"figure.figsize\"] = (14,14)\n",
    "\n",
    "plt.scatter(corpus_emb[:, 0], corpus_emb[:, 1])\n",
    "plt.show()"
   ],
   "metadata": {
    "collapsed": false,
    "pycharm": {
     "name": "#%%\n"
    }
   }
  },
  {
   "cell_type": "code",
   "execution_count": 32,
   "outputs": [
    {
     "data": {
      "text/html": "\n    <div class=\"bk-root\">\n        <a href=\"https://bokeh.org\" target=\"_blank\" class=\"bk-logo bk-logo-small bk-logo-notebook\"></a>\n        <span id=\"1101\">Loading BokehJS ...</span>\n    </div>"
     },
     "metadata": {},
     "output_type": "display_data"
    },
    {
     "data": {
      "application/javascript": "\n(function(root) {\n  function now() {\n    return new Date();\n  }\n\n  const force = true;\n\n  if (typeof root._bokeh_onload_callbacks === \"undefined\" || force === true) {\n    root._bokeh_onload_callbacks = [];\n    root._bokeh_is_loading = undefined;\n  }\n\n  const JS_MIME_TYPE = 'application/javascript';\n  const HTML_MIME_TYPE = 'text/html';\n  const EXEC_MIME_TYPE = 'application/vnd.bokehjs_exec.v0+json';\n  const CLASS_NAME = 'output_bokeh rendered_html';\n\n  /**\n   * Render data to the DOM node\n   */\n  function render(props, node) {\n    const script = document.createElement(\"script\");\n    node.appendChild(script);\n  }\n\n  /**\n   * Handle when an output is cleared or removed\n   */\n  function handleClearOutput(event, handle) {\n    const cell = handle.cell;\n\n    const id = cell.output_area._bokeh_element_id;\n    const server_id = cell.output_area._bokeh_server_id;\n    // Clean up Bokeh references\n    if (id != null && id in Bokeh.index) {\n      Bokeh.index[id].model.document.clear();\n      delete Bokeh.index[id];\n    }\n\n    if (server_id !== undefined) {\n      // Clean up Bokeh references\n      const cmd_clean = \"from bokeh.io.state import curstate; print(curstate().uuid_to_server['\" + server_id + \"'].get_sessions()[0].document.roots[0]._id)\";\n      cell.notebook.kernel.execute(cmd_clean, {\n        iopub: {\n          output: function(msg) {\n            const id = msg.content.text.trim();\n            if (id in Bokeh.index) {\n              Bokeh.index[id].model.document.clear();\n              delete Bokeh.index[id];\n            }\n          }\n        }\n      });\n      // Destroy server and session\n      const cmd_destroy = \"import bokeh.io.notebook as ion; ion.destroy_server('\" + server_id + \"')\";\n      cell.notebook.kernel.execute(cmd_destroy);\n    }\n  }\n\n  /**\n   * Handle when a new output is added\n   */\n  function handleAddOutput(event, handle) {\n    const output_area = handle.output_area;\n    const output = handle.output;\n\n    // limit handleAddOutput to display_data with EXEC_MIME_TYPE content only\n    if ((output.output_type != \"display_data\") || (!Object.prototype.hasOwnProperty.call(output.data, EXEC_MIME_TYPE))) {\n      return\n    }\n\n    const toinsert = output_area.element.find(\".\" + CLASS_NAME.split(' ')[0]);\n\n    if (output.metadata[EXEC_MIME_TYPE][\"id\"] !== undefined) {\n      toinsert[toinsert.length - 1].firstChild.textContent = output.data[JS_MIME_TYPE];\n      // store reference to embed id on output_area\n      output_area._bokeh_element_id = output.metadata[EXEC_MIME_TYPE][\"id\"];\n    }\n    if (output.metadata[EXEC_MIME_TYPE][\"server_id\"] !== undefined) {\n      const bk_div = document.createElement(\"div\");\n      bk_div.innerHTML = output.data[HTML_MIME_TYPE];\n      const script_attrs = bk_div.children[0].attributes;\n      for (let i = 0; i < script_attrs.length; i++) {\n        toinsert[toinsert.length - 1].firstChild.setAttribute(script_attrs[i].name, script_attrs[i].value);\n        toinsert[toinsert.length - 1].firstChild.textContent = bk_div.children[0].textContent\n      }\n      // store reference to server id on output_area\n      output_area._bokeh_server_id = output.metadata[EXEC_MIME_TYPE][\"server_id\"];\n    }\n  }\n\n  function register_renderer(events, OutputArea) {\n\n    function append_mime(data, metadata, element) {\n      // create a DOM node to render to\n      const toinsert = this.create_output_subarea(\n        metadata,\n        CLASS_NAME,\n        EXEC_MIME_TYPE\n      );\n      this.keyboard_manager.register_events(toinsert);\n      // Render to node\n      const props = {data: data, metadata: metadata[EXEC_MIME_TYPE]};\n      render(props, toinsert[toinsert.length - 1]);\n      element.append(toinsert);\n      return toinsert\n    }\n\n    /* Handle when an output is cleared or removed */\n    events.on('clear_output.CodeCell', handleClearOutput);\n    events.on('delete.Cell', handleClearOutput);\n\n    /* Handle when a new output is added */\n    events.on('output_added.OutputArea', handleAddOutput);\n\n    /**\n     * Register the mime type and append_mime function with output_area\n     */\n    OutputArea.prototype.register_mime_type(EXEC_MIME_TYPE, append_mime, {\n      /* Is output safe? */\n      safe: true,\n      /* Index of renderer in `output_area.display_order` */\n      index: 0\n    });\n  }\n\n  // register the mime type if in Jupyter Notebook environment and previously unregistered\n  if (root.Jupyter !== undefined) {\n    const events = require('base/js/events');\n    const OutputArea = require('notebook/js/outputarea').OutputArea;\n\n    if (OutputArea.prototype.mime_types().indexOf(EXEC_MIME_TYPE) == -1) {\n      register_renderer(events, OutputArea);\n    }\n  }\n\n  \n  if (typeof (root._bokeh_timeout) === \"undefined\" || force === true) {\n    root._bokeh_timeout = Date.now() + 5000;\n    root._bokeh_failed_load = false;\n  }\n\n  const NB_LOAD_WARNING = {'data': {'text/html':\n     \"<div style='background-color: #fdd'>\\n\"+\n     \"<p>\\n\"+\n     \"BokehJS does not appear to have successfully loaded. If loading BokehJS from CDN, this \\n\"+\n     \"may be due to a slow or bad network connection. Possible fixes:\\n\"+\n     \"</p>\\n\"+\n     \"<ul>\\n\"+\n     \"<li>re-rerun `output_notebook()` to attempt to load from CDN again, or</li>\\n\"+\n     \"<li>use INLINE resources instead, as so:</li>\\n\"+\n     \"</ul>\\n\"+\n     \"<code>\\n\"+\n     \"from bokeh.resources import INLINE\\n\"+\n     \"output_notebook(resources=INLINE)\\n\"+\n     \"</code>\\n\"+\n     \"</div>\"}};\n\n  function display_loaded() {\n    const el = document.getElementById(\"1101\");\n    if (el != null) {\n      el.textContent = \"BokehJS is loading...\";\n    }\n    if (root.Bokeh !== undefined) {\n      if (el != null) {\n        el.textContent = \"BokehJS \" + root.Bokeh.version + \" successfully loaded.\";\n      }\n    } else if (Date.now() < root._bokeh_timeout) {\n      setTimeout(display_loaded, 100)\n    }\n  }\n\n\n  function run_callbacks() {\n    try {\n      root._bokeh_onload_callbacks.forEach(function(callback) {\n        if (callback != null)\n          callback();\n      });\n    } finally {\n      delete root._bokeh_onload_callbacks\n    }\n    console.debug(\"Bokeh: all callbacks have finished\");\n  }\n\n  function load_libs(css_urls, js_urls, callback) {\n    if (css_urls == null) css_urls = [];\n    if (js_urls == null) js_urls = [];\n\n    root._bokeh_onload_callbacks.push(callback);\n    if (root._bokeh_is_loading > 0) {\n      console.debug(\"Bokeh: BokehJS is being loaded, scheduling callback at\", now());\n      return null;\n    }\n    if (js_urls == null || js_urls.length === 0) {\n      run_callbacks();\n      return null;\n    }\n    console.debug(\"Bokeh: BokehJS not loaded, scheduling load and callback at\", now());\n    root._bokeh_is_loading = css_urls.length + js_urls.length;\n\n    function on_load() {\n      root._bokeh_is_loading--;\n      if (root._bokeh_is_loading === 0) {\n        console.debug(\"Bokeh: all BokehJS libraries/stylesheets loaded\");\n        run_callbacks()\n      }\n    }\n\n    function on_error(url) {\n      console.error(\"failed to load \" + url);\n    }\n\n    for (let i = 0; i < css_urls.length; i++) {\n      const url = css_urls[i];\n      const element = document.createElement(\"link\");\n      element.onload = on_load;\n      element.onerror = on_error.bind(null, url);\n      element.rel = \"stylesheet\";\n      element.type = \"text/css\";\n      element.href = url;\n      console.debug(\"Bokeh: injecting link tag for BokehJS stylesheet: \", url);\n      document.body.appendChild(element);\n    }\n\n    for (let i = 0; i < js_urls.length; i++) {\n      const url = js_urls[i];\n      const element = document.createElement('script');\n      element.onload = on_load;\n      element.onerror = on_error.bind(null, url);\n      element.async = false;\n      element.src = url;\n      console.debug(\"Bokeh: injecting script tag for BokehJS library: \", url);\n      document.head.appendChild(element);\n    }\n  };\n\n  function inject_raw_css(css) {\n    const element = document.createElement(\"style\");\n    element.appendChild(document.createTextNode(css));\n    document.body.appendChild(element);\n  }\n\n  \n  const js_urls = [\"https://cdn.bokeh.org/bokeh/release/bokeh-2.4.2.min.js\", \"https://cdn.bokeh.org/bokeh/release/bokeh-gl-2.4.2.min.js\", \"https://cdn.bokeh.org/bokeh/release/bokeh-widgets-2.4.2.min.js\", \"https://cdn.bokeh.org/bokeh/release/bokeh-tables-2.4.2.min.js\", \"https://cdn.bokeh.org/bokeh/release/bokeh-mathjax-2.4.2.min.js\"];\n  const css_urls = [];\n  \n\n  const inline_js = [\n    function(Bokeh) {\n      Bokeh.set_log_level(\"info\");\n    },\n    function(Bokeh) {\n    \n    \n    }\n  ];\n\n  function run_inline_js() {\n    \n    if (root.Bokeh !== undefined || force === true) {\n      \n    for (let i = 0; i < inline_js.length; i++) {\n      inline_js[i].call(root, root.Bokeh);\n    }\n    if (force === true) {\n        display_loaded();\n      }} else if (Date.now() < root._bokeh_timeout) {\n      setTimeout(run_inline_js, 100);\n    } else if (!root._bokeh_failed_load) {\n      console.log(\"Bokeh: BokehJS failed to load within specified timeout.\");\n      root._bokeh_failed_load = true;\n    } else if (force !== true) {\n      const cell = $(document.getElementById(\"1101\")).parents('.cell').data().cell;\n      cell.output_area.append_execute_result(NB_LOAD_WARNING)\n    }\n\n  }\n\n  if (root._bokeh_is_loading === 0) {\n    console.debug(\"Bokeh: BokehJS loaded, going straight to plotting\");\n    run_inline_js();\n  } else {\n    load_libs(css_urls, js_urls, function() {\n      console.debug(\"Bokeh: BokehJS plotting callback run at\", now());\n      run_inline_js();\n    });\n  }\n}(window));",
      "application/vnd.bokehjs_load.v0+json": "\n(function(root) {\n  function now() {\n    return new Date();\n  }\n\n  const force = true;\n\n  if (typeof root._bokeh_onload_callbacks === \"undefined\" || force === true) {\n    root._bokeh_onload_callbacks = [];\n    root._bokeh_is_loading = undefined;\n  }\n\n  \n\n  \n  if (typeof (root._bokeh_timeout) === \"undefined\" || force === true) {\n    root._bokeh_timeout = Date.now() + 5000;\n    root._bokeh_failed_load = false;\n  }\n\n  const NB_LOAD_WARNING = {'data': {'text/html':\n     \"<div style='background-color: #fdd'>\\n\"+\n     \"<p>\\n\"+\n     \"BokehJS does not appear to have successfully loaded. If loading BokehJS from CDN, this \\n\"+\n     \"may be due to a slow or bad network connection. Possible fixes:\\n\"+\n     \"</p>\\n\"+\n     \"<ul>\\n\"+\n     \"<li>re-rerun `output_notebook()` to attempt to load from CDN again, or</li>\\n\"+\n     \"<li>use INLINE resources instead, as so:</li>\\n\"+\n     \"</ul>\\n\"+\n     \"<code>\\n\"+\n     \"from bokeh.resources import INLINE\\n\"+\n     \"output_notebook(resources=INLINE)\\n\"+\n     \"</code>\\n\"+\n     \"</div>\"}};\n\n  function display_loaded() {\n    const el = document.getElementById(\"1101\");\n    if (el != null) {\n      el.textContent = \"BokehJS is loading...\";\n    }\n    if (root.Bokeh !== undefined) {\n      if (el != null) {\n        el.textContent = \"BokehJS \" + root.Bokeh.version + \" successfully loaded.\";\n      }\n    } else if (Date.now() < root._bokeh_timeout) {\n      setTimeout(display_loaded, 100)\n    }\n  }\n\n\n  function run_callbacks() {\n    try {\n      root._bokeh_onload_callbacks.forEach(function(callback) {\n        if (callback != null)\n          callback();\n      });\n    } finally {\n      delete root._bokeh_onload_callbacks\n    }\n    console.debug(\"Bokeh: all callbacks have finished\");\n  }\n\n  function load_libs(css_urls, js_urls, callback) {\n    if (css_urls == null) css_urls = [];\n    if (js_urls == null) js_urls = [];\n\n    root._bokeh_onload_callbacks.push(callback);\n    if (root._bokeh_is_loading > 0) {\n      console.debug(\"Bokeh: BokehJS is being loaded, scheduling callback at\", now());\n      return null;\n    }\n    if (js_urls == null || js_urls.length === 0) {\n      run_callbacks();\n      return null;\n    }\n    console.debug(\"Bokeh: BokehJS not loaded, scheduling load and callback at\", now());\n    root._bokeh_is_loading = css_urls.length + js_urls.length;\n\n    function on_load() {\n      root._bokeh_is_loading--;\n      if (root._bokeh_is_loading === 0) {\n        console.debug(\"Bokeh: all BokehJS libraries/stylesheets loaded\");\n        run_callbacks()\n      }\n    }\n\n    function on_error(url) {\n      console.error(\"failed to load \" + url);\n    }\n\n    for (let i = 0; i < css_urls.length; i++) {\n      const url = css_urls[i];\n      const element = document.createElement(\"link\");\n      element.onload = on_load;\n      element.onerror = on_error.bind(null, url);\n      element.rel = \"stylesheet\";\n      element.type = \"text/css\";\n      element.href = url;\n      console.debug(\"Bokeh: injecting link tag for BokehJS stylesheet: \", url);\n      document.body.appendChild(element);\n    }\n\n    for (let i = 0; i < js_urls.length; i++) {\n      const url = js_urls[i];\n      const element = document.createElement('script');\n      element.onload = on_load;\n      element.onerror = on_error.bind(null, url);\n      element.async = false;\n      element.src = url;\n      console.debug(\"Bokeh: injecting script tag for BokehJS library: \", url);\n      document.head.appendChild(element);\n    }\n  };\n\n  function inject_raw_css(css) {\n    const element = document.createElement(\"style\");\n    element.appendChild(document.createTextNode(css));\n    document.body.appendChild(element);\n  }\n\n  \n  const js_urls = [\"https://cdn.bokeh.org/bokeh/release/bokeh-2.4.2.min.js\", \"https://cdn.bokeh.org/bokeh/release/bokeh-gl-2.4.2.min.js\", \"https://cdn.bokeh.org/bokeh/release/bokeh-widgets-2.4.2.min.js\", \"https://cdn.bokeh.org/bokeh/release/bokeh-tables-2.4.2.min.js\", \"https://cdn.bokeh.org/bokeh/release/bokeh-mathjax-2.4.2.min.js\"];\n  const css_urls = [];\n  \n\n  const inline_js = [\n    function(Bokeh) {\n      Bokeh.set_log_level(\"info\");\n    },\n    function(Bokeh) {\n    \n    \n    }\n  ];\n\n  function run_inline_js() {\n    \n    if (root.Bokeh !== undefined || force === true) {\n      \n    for (let i = 0; i < inline_js.length; i++) {\n      inline_js[i].call(root, root.Bokeh);\n    }\n    if (force === true) {\n        display_loaded();\n      }} else if (Date.now() < root._bokeh_timeout) {\n      setTimeout(run_inline_js, 100);\n    } else if (!root._bokeh_failed_load) {\n      console.log(\"Bokeh: BokehJS failed to load within specified timeout.\");\n      root._bokeh_failed_load = true;\n    } else if (force !== true) {\n      const cell = $(document.getElementById(\"1101\")).parents('.cell').data().cell;\n      cell.output_area.append_execute_result(NB_LOAD_WARNING)\n    }\n\n  }\n\n  if (root._bokeh_is_loading === 0) {\n    console.debug(\"Bokeh: BokehJS loaded, going straight to plotting\");\n    run_inline_js();\n  } else {\n    load_libs(css_urls, js_urls, function() {\n      console.debug(\"Bokeh: BokehJS plotting callback run at\", now());\n      run_inline_js();\n    });\n  }\n}(window));"
     },
     "metadata": {},
     "output_type": "display_data"
    }
   ],
   "source": [
    "from bokeh.io import show, output_notebook\n",
    "from bokeh.plotting import figure, ColumnDataSource\n",
    "from bokeh.models import HoverTool, ResetTool, PanTool, WheelZoomTool, SaveTool\n",
    "output_notebook()\n",
    "\n",
    "from matplotlib.colors import rgb2hex\n",
    "cmap = plt.get_cmap('viridis')\n",
    "def val2rgb(val):\n",
    "    return rgb2hex(cmap(val)[:3])"
   ],
   "metadata": {
    "collapsed": false,
    "pycharm": {
     "name": "#%%\n"
    }
   }
  },
  {
   "cell_type": "code",
   "execution_count": 33,
   "outputs": [],
   "source": [
    "xs, ys = corpus_emb[:, 0], corpus_emb[:, 1]\n",
    "best_topic_ids = [np.argmax(row) for row in embeddings.tolist()]\n",
    "\n",
    "# We will need to separate runs, here we have all runs of P3\n",
    "colors = [val2rgb(i) for i in range(len(xs))]"
   ],
   "metadata": {
    "collapsed": false,
    "pycharm": {
     "name": "#%%\n"
    }
   }
  },
  {
   "cell_type": "code",
   "execution_count": 46,
   "outputs": [],
   "source": [
    "# Use pandas and plotly instead\n",
    "df = pd.DataFrame({'x': corpus_emb[:, 0], 'y': corpus_emb[:, 1], 'best_topic_id': best_topic_ids, 'walk_id': [str(i) for i in walks_id], 'color': colors})"
   ],
   "metadata": {
    "collapsed": false,
    "pycharm": {
     "name": "#%%\n"
    }
   }
  },
  {
   "cell_type": "code",
   "execution_count": 48,
   "outputs": [
    {
     "data": {
      "application/vnd.plotly.v1+json": {
       "data": [
        {
         "customdata": [
          [
           4
          ],
          [
           3
          ],
          [
           9
          ],
          [
           4
          ],
          [
           9
          ],
          [
           9
          ],
          [
           4
          ],
          [
           4
          ],
          [
           0
          ],
          [
           0
          ],
          [
           4
          ],
          [
           0
          ],
          [
           2
          ],
          [
           7
          ],
          [
           0
          ],
          [
           0
          ],
          [
           3
          ],
          [
           10
          ],
          [
           2
          ],
          [
           1
          ],
          [
           9
          ],
          [
           3
          ],
          [
           10
          ],
          [
           2
          ],
          [
           4
          ],
          [
           9
          ],
          [
           0
          ],
          [
           10
          ],
          [
           2
          ],
          [
           9
          ],
          [
           4
          ],
          [
           10
          ],
          [
           2
          ],
          [
           2
          ],
          [
           10
          ],
          [
           10
          ],
          [
           5
          ],
          [
           4
          ],
          [
           7
          ],
          [
           4
          ],
          [
           0
          ],
          [
           2
          ],
          [
           2
          ],
          [
           10
          ],
          [
           10
          ],
          [
           0
          ],
          [
           0
          ],
          [
           0
          ],
          [
           4
          ],
          [
           4
          ],
          [
           5
          ],
          [
           9
          ],
          [
           2
          ],
          [
           2
          ],
          [
           10
          ],
          [
           11
          ],
          [
           4
          ],
          [
           10
          ],
          [
           2
          ],
          [
           10
          ],
          [
           2
          ],
          [
           10
          ],
          [
           2
          ],
          [
           2
          ],
          [
           8
          ],
          [
           2
          ],
          [
           10
          ],
          [
           4
          ],
          [
           0
          ],
          [
           2
          ],
          [
           7
          ],
          [
           2
          ],
          [
           0
          ],
          [
           0
          ],
          [
           3
          ],
          [
           5
          ],
          [
           8
          ],
          [
           9
          ],
          [
           9
          ],
          [
           7
          ],
          [
           2
          ],
          [
           0
          ],
          [
           0
          ],
          [
           2
          ],
          [
           10
          ],
          [
           2
          ],
          [
           11
          ],
          [
           11
          ],
          [
           10
          ],
          [
           10
          ],
          [
           10
          ],
          [
           4
          ],
          [
           4
          ],
          [
           4
          ],
          [
           10
          ],
          [
           4
          ],
          [
           0
          ],
          [
           7
          ],
          [
           7
          ],
          [
           7
          ],
          [
           7
          ],
          [
           10
          ],
          [
           10
          ],
          [
           3
          ],
          [
           2
          ],
          [
           7
          ],
          [
           7
          ],
          [
           0
          ],
          [
           10
          ],
          [
           8
          ],
          [
           0
          ],
          [
           0
          ],
          [
           4
          ],
          [
           3
          ],
          [
           2
          ],
          [
           3
          ],
          [
           3
          ],
          [
           3
          ],
          [
           3
          ],
          [
           3
          ],
          [
           3
          ],
          [
           0
          ],
          [
           3
          ],
          [
           2
          ],
          [
           5
          ],
          [
           8
          ],
          [
           1
          ],
          [
           4
          ],
          [
           7
          ],
          [
           11
          ],
          [
           7
          ],
          [
           7
          ],
          [
           4
          ]
         ],
         "hovertemplate": "walk_id=0<br>x=%{x}<br>y=%{y}<br>best_topic_id=%{customdata[0]}<extra></extra>",
         "legendgroup": "0",
         "marker": {
          "color": "#636efa",
          "symbol": "circle"
         },
         "mode": "markers",
         "name": "0",
         "orientation": "v",
         "showlegend": true,
         "x": [
          3.4308953285217285,
          -4.290961265563965,
          -15.047564506530762,
          3.937432050704956,
          -14.347718238830566,
          -15.884437561035156,
          -1.3529998064041138,
          -0.8727853298187256,
          -24.617565155029297,
          -25.022109985351562,
          3.66405987739563,
          -2.593294620513916,
          -7.497027397155762,
          31.161170959472656,
          -3.0676350593566895,
          -3.5312469005584717,
          -3.3229305744171143,
          9.504432678222656,
          -5.028953552246094,
          -4.852370262145996,
          -13.526872634887695,
          -5.241386413574219,
          9.226194381713867,
          -6.833313465118408,
          -0.8727797865867615,
          -15.802644729614258,
          -21.288816452026367,
          8.640511512756348,
          -7.249558448791504,
          -14.559591293334961,
          2.529360294342041,
          7.607758522033691,
          -10.089014053344727,
          -7.970574378967285,
          7.73115348815918,
          9.736868858337402,
          2.3275270462036133,
          5.426022052764893,
          27.91044807434082,
          3.943058729171753,
          -2.5933425426483154,
          -8.942322731018066,
          -8.759913444519043,
          7.607758522033691,
          8.538877487182617,
          -25.159160614013672,
          -25.12748146057129,
          -24.234516143798828,
          4.629497528076172,
          2.4218990802764893,
          2.5012366771698,
          -15.605968475341797,
          -8.327644348144531,
          -1.915647268295288,
          7.293217182159424,
          3.7291922569274902,
          4.64053201675415,
          8.794785499572754,
          -7.693565368652344,
          7.783656120300293,
          -5.868545055389404,
          4.633418560028076,
          -7.9705729484558105,
          -7.912356376647949,
          -8.246018409729004,
          -7.6046600341796875,
          7.607758522033691,
          5.325756549835205,
          -22.55231285095215,
          -8.693572998046875,
          32.23870849609375,
          -9.200789451599121,
          -3.0676350593566895,
          -3.0676350593566895,
          -5.5250959396362305,
          2.503174066543579,
          -14.387191772460938,
          -4.967494010925293,
          -15.425942420959473,
          42.34416961669922,
          -7.654758453369141,
          -3.5312469005584717,
          -3.0676350593566895,
          -6.0078582763671875,
          8.175893783569336,
          -1.9296129941940308,
          4.294753551483154,
          4.329539775848389,
          -13.101991653442383,
          11.89487361907959,
          8.728070259094238,
          5.662004470825195,
          6.255398273468018,
          5.03409481048584,
          9.015583992004395,
          4.328498363494873,
          -22.75084114074707,
          40.71926498413086,
          42.344146728515625,
          42.103050231933594,
          27.91631507873535,
          -13.060550689697266,
          7.607758522033691,
          -4.667269706726074,
          -5.893488883972168,
          24.747692108154297,
          12.143439292907715,
          -19.846439361572266,
          5.912919044494629,
          -7.051860809326172,
          -23.6201114654541,
          -3.0676350593566895,
          -8.273900985717773,
          -4.752715110778809,
          -5.933018684387207,
          -5.47428560256958,
          -5.47428560256958,
          -4.651893138885498,
          -5.399290561676025,
          -5.005106449127197,
          -4.703330993652344,
          -4.3316264152526855,
          -4.816854476928711,
          -8.26899528503418,
          2.5006370544433594,
          -10.75914478302002,
          -4.083183765411377,
          4.568276882171631,
          31.517772674560547,
          2.565523862838745,
          25.711721420288086,
          31.770034790039062,
          3.5708389282226562
         ],
         "xaxis": "x",
         "y": [
          -13.52409553527832,
          -13.096318244934082,
          15.55212688446045,
          -17.623411178588867,
          14.007387161254883,
          15.125072479248047,
          -9.693709373474121,
          -18.80760955810547,
          -1.5674859285354614,
          -0.31483885645866394,
          -14.748217582702637,
          -8.942150115966797,
          -26.995281219482422,
          4.829440116882324,
          -8.129000663757324,
          -8.973929405212402,
          -11.712455749511719,
          4.474612236022949,
          -24.266517639160156,
          -0.9707232117652893,
          12.565394401550293,
          -13.392916679382324,
          3.2565128803253174,
          -24.000761032104492,
          -18.807662963867188,
          16.136432647705078,
          -0.5709066390991211,
          3.24143385887146,
          -26.777585983276367,
          15.524168968200684,
          -16.458724975585938,
          2.9223811626434326,
          -27.5595703125,
          -21.29587745666504,
          2.490131378173828,
          3.4317831993103027,
          16.858543395996094,
          -18.929101943969727,
          0.40955281257629395,
          -17.626136779785156,
          -8.94222354888916,
          -27.77534294128418,
          -27.786394119262695,
          2.9223811626434326,
          0.1786305159330368,
          -0.37930962443351746,
          -1.887778878211975,
          -1.1539205312728882,
          -18.920299530029297,
          -16.478862762451172,
          14.858821868896484,
          14.068096160888672,
          -24.852371215820312,
          -17.987497329711914,
          4.196949005126953,
          -9.016424179077148,
          -17.376239776611328,
          2.2421135902404785,
          -25.380826950073242,
          2.5118112564086914,
          -24.522802352905273,
          5.830834865570068,
          -21.295896530151367,
          -22.332866668701172,
          -10.016733169555664,
          -20.7432918548584,
          2.9223811626434326,
          -20.294055938720703,
          -1.6629642248153687,
          -27.09391975402832,
          6.1727190017700195,
          -27.28556251525879,
          -8.129000663757324,
          -8.129000663757324,
          -14.037542343139648,
          14.861543655395508,
          -10.007198333740234,
          -8.363731384277344,
          16.23525047302246,
          7.581824779510498,
          -23.78365707397461,
          -8.973929405212402,
          -8.129000663757324,
          -24.8897705078125,
          1.4480209350585938,
          -17.970287322998047,
          -9.088345527648926,
          -8.554617881774902,
          -7.334944248199463,
          -0.07863286137580872,
          3.1292498111724854,
          -20.289215087890625,
          -19.96485710144043,
          -19.317798614501953,
          1.780240774154663,
          -16.176063537597656,
          -1.1798335313796997,
          4.696043491363525,
          7.58180570602417,
          7.990512371063232,
          0.4323176145553589,
          -7.335887432098389,
          2.9223811626434326,
          -13.821269989013672,
          -22.351116180419922,
          2.796372413635254,
          -0.01598569005727768,
          -1.316892385482788,
          1.3093236684799194,
          -19.793865203857422,
          -1.1771970987319946,
          -8.129000663757324,
          -10.028544425964355,
          -13.025209426879883,
          -22.762557983398438,
          -13.688628196716309,
          -13.688628196716309,
          -14.121336936950684,
          -14.186272621154785,
          -14.346283912658691,
          -14.204071998596191,
          -6.375904560089111,
          -13.547532081604004,
          -28.180025100708008,
          14.85866928100586,
          -9.795085906982422,
          -0.32700419425964355,
          -18.389545440673828,
          4.478482246398926,
          -9.283467292785645,
          3.2656784057617188,
          5.103979587554932,
          -14.191925048828125
         ],
         "yaxis": "y",
         "type": "scatter"
        },
        {
         "customdata": [
          [
           11
          ],
          [
           11
          ],
          [
           11
          ],
          [
           4
          ],
          [
           4
          ],
          [
           11
          ],
          [
           7
          ],
          [
           4
          ],
          [
           11
          ],
          [
           11
          ],
          [
           11
          ],
          [
           4
          ],
          [
           4
          ],
          [
           4
          ],
          [
           4
          ],
          [
           4
          ],
          [
           7
          ],
          [
           7
          ],
          [
           4
          ],
          [
           4
          ],
          [
           0
          ],
          [
           4
          ]
         ],
         "hovertemplate": "walk_id=1<br>x=%{x}<br>y=%{y}<br>best_topic_id=%{customdata[0]}<extra></extra>",
         "legendgroup": "1",
         "marker": {
          "color": "#EF553B",
          "symbol": "circle"
         },
         "mode": "markers",
         "name": "1",
         "orientation": "v",
         "showlegend": true,
         "x": [
          5.934744834899902,
          5.437394618988037,
          3.5284483432769775,
          3.412301540374756,
          3.2319183349609375,
          5.883713245391846,
          25.711721420288086,
          4.824127197265625,
          4.768479347229004,
          5.638320446014404,
          5.20317268371582,
          5.482813358306885,
          4.288358211517334,
          6.427189826965332,
          6.372189521789551,
          5.942313194274902,
          38.90769958496094,
          37.97050094604492,
          5.855126857757568,
          5.65690803527832,
          -25.564373016357422,
          2.3902416229248047
         ],
         "xaxis": "x",
         "y": [
          -8.808920860290527,
          -9.48230266571045,
          -12.919506072998047,
          -18.870412826538086,
          -18.83029556274414,
          -9.114728927612305,
          3.2656784057617188,
          -19.766380310058594,
          -9.577188491821289,
          -8.331530570983887,
          -8.16582202911377,
          -19.226503372192383,
          -16.25368881225586,
          -19.601774215698242,
          -19.263856887817383,
          -20.14048957824707,
          7.5457329750061035,
          5.822498321533203,
          -19.50564193725586,
          -18.634592056274414,
          -0.6896194219589233,
          -18.73958969116211
         ],
         "yaxis": "y",
         "type": "scatter"
        },
        {
         "customdata": [
          [
           5
          ],
          [
           0
          ],
          [
           10
          ],
          [
           2
          ],
          [
           5
          ],
          [
           5
          ],
          [
           1
          ],
          [
           5
          ],
          [
           4
          ],
          [
           5
          ],
          [
           8
          ],
          [
           10
          ],
          [
           5
          ],
          [
           4
          ],
          [
           4
          ],
          [
           1
          ],
          [
           5
          ],
          [
           8
          ],
          [
           1
          ],
          [
           4
          ],
          [
           5
          ],
          [
           5
          ],
          [
           5
          ],
          [
           0
          ],
          [
           8
          ],
          [
           7
          ],
          [
           5
          ],
          [
           5
          ],
          [
           0
          ],
          [
           7
          ],
          [
           7
          ],
          [
           3
          ],
          [
           4
          ],
          [
           10
          ],
          [
           5
          ],
          [
           10
          ],
          [
           4
          ],
          [
           4
          ]
         ],
         "hovertemplate": "walk_id=2<br>x=%{x}<br>y=%{y}<br>best_topic_id=%{customdata[0]}<extra></extra>",
         "legendgroup": "2",
         "marker": {
          "color": "#00cc96",
          "symbol": "circle"
         },
         "mode": "markers",
         "name": "2",
         "orientation": "v",
         "showlegend": true,
         "x": [
          4.209879398345947,
          -21.065475463867188,
          10.069313049316406,
          -1.0732451677322388,
          1.4541280269622803,
          4.706270694732666,
          -3.789060354232788,
          3.079120397567749,
          5.550151824951172,
          3.6420013904571533,
          -14.653984069824219,
          6.215211868286133,
          3.904100179672241,
          6.198660850524902,
          6.198660850524902,
          -4.950278282165527,
          3.07912278175354,
          -12.753560066223145,
          -4.204826831817627,
          2.6864194869995117,
          3.091916561126709,
          4.469376087188721,
          2.3374383449554443,
          -23.61681365966797,
          -12.611624717712402,
          24.7891902923584,
          3.1690077781677246,
          3.4843828678131104,
          -22.749284744262695,
          37.97050094604492,
          24.7891902923584,
          -5.185661792755127,
          5.253016471862793,
          8.442704200744629,
          3.091916561126709,
          9.311667442321777,
          4.985754013061523,
          4.824395656585693
         ],
         "xaxis": "x",
         "y": [
          14.868087768554688,
          -3.3834471702575684,
          3.8517608642578125,
          -18.902708053588867,
          16.10651397705078,
          5.826128005981445,
          0.8115610480308533,
          16.02349853515625,
          -19.62818717956543,
          16.09383773803711,
          -9.465492248535156,
          0.2986375093460083,
          15.075719833374023,
          -18.808530807495117,
          -18.808530807495117,
          0.4845729172229767,
          16.02349281311035,
          -9.29629898071289,
          0.233053520321846,
          -16.73554801940918,
          13.85439395904541,
          5.952118396759033,
          16.96647071838379,
          -1.6450624465942383,
          -8.775835037231445,
          3.8759381771087646,
          16.7407283782959,
          16.81418800354004,
          -1.181156873703003,
          5.822498321533203,
          3.8759381771087646,
          -14.309120178222656,
          -18.149768829345703,
          3.5238897800445557,
          13.85439395904541,
          4.622200965881348,
          -20.092979431152344,
          -19.76612663269043
         ],
         "yaxis": "y",
         "type": "scatter"
        },
        {
         "customdata": [
          [
           7
          ],
          [
           7
          ],
          [
           7
          ],
          [
           7
          ],
          [
           7
          ],
          [
           7
          ],
          [
           7
          ],
          [
           7
          ],
          [
           7
          ],
          [
           7
          ],
          [
           7
          ],
          [
           7
          ],
          [
           7
          ],
          [
           7
          ],
          [
           7
          ],
          [
           7
          ],
          [
           7
          ],
          [
           7
          ],
          [
           7
          ],
          [
           7
          ],
          [
           7
          ],
          [
           7
          ],
          [
           7
          ],
          [
           10
          ],
          [
           10
          ],
          [
           10
          ],
          [
           10
          ],
          [
           7
          ],
          [
           7
          ],
          [
           7
          ],
          [
           7
          ],
          [
           7
          ],
          [
           7
          ],
          [
           7
          ],
          [
           7
          ]
         ],
         "hovertemplate": "walk_id=3<br>x=%{x}<br>y=%{y}<br>best_topic_id=%{customdata[0]}<extra></extra>",
         "legendgroup": "3",
         "marker": {
          "color": "#ab63fa",
          "symbol": "circle"
         },
         "mode": "markers",
         "name": "3",
         "orientation": "v",
         "showlegend": true,
         "x": [
          25.711721420288086,
          32.242183685302734,
          37.97050094604492,
          39.286773681640625,
          39.286773681640625,
          38.02125549316406,
          24.7891902923584,
          39.286773681640625,
          25.711721420288086,
          39.286773681640625,
          24.7891902923584,
          25.711721420288086,
          38.83235168457031,
          31.517772674560547,
          39.286773681640625,
          32.242183685302734,
          39.286773681640625,
          39.286773681640625,
          39.286773681640625,
          32.242183685302734,
          25.711721420288086,
          39.286773681640625,
          25.711721420288086,
          6.424100875854492,
          6.02597188949585,
          5.261916637420654,
          5.68627405166626,
          24.7891902923584,
          31.59368324279785,
          32.50651550292969,
          31.59368324279785,
          38.02125549316406,
          38.90769958496094,
          38.90769958496094,
          39.286773681640625
         ],
         "xaxis": "x",
         "y": [
          3.2656784057617188,
          4.562798500061035,
          5.822498321533203,
          6.245429992675781,
          6.245429992675781,
          6.98909854888916,
          3.8759381771087646,
          6.245429992675781,
          3.2656784057617188,
          6.245429992675781,
          3.8759381771087646,
          3.2656784057617188,
          4.993973731994629,
          4.478482246398926,
          6.245429992675781,
          4.562798500061035,
          6.245429992675781,
          6.245429992675781,
          6.245429992675781,
          4.562798500061035,
          3.2656784057617188,
          6.245429992675781,
          3.2656784057617188,
          3.2787578105926514,
          3.264087677001953,
          1.7076921463012695,
          2.1617472171783447,
          3.8759381771087646,
          5.88175630569458,
          5.517065048217773,
          5.88175630569458,
          6.98909854888916,
          7.5457329750061035,
          7.5457329750061035,
          6.245429992675781
         ],
         "yaxis": "y",
         "type": "scatter"
        },
        {
         "customdata": [
          [
           7
          ],
          [
           10
          ],
          [
           8
          ],
          [
           8
          ],
          [
           7
          ],
          [
           8
          ],
          [
           8
          ],
          [
           8
          ],
          [
           0
          ],
          [
           8
          ],
          [
           8
          ],
          [
           9
          ],
          [
           9
          ],
          [
           9
          ],
          [
           9
          ],
          [
           10
          ],
          [
           10
          ],
          [
           10
          ],
          [
           11
          ],
          [
           9
          ],
          [
           10
          ],
          [
           11
          ],
          [
           10
          ],
          [
           10
          ],
          [
           10
          ],
          [
           10
          ],
          [
           7
          ],
          [
           10
          ]
         ],
         "hovertemplate": "walk_id=4<br>x=%{x}<br>y=%{y}<br>best_topic_id=%{customdata[0]}<extra></extra>",
         "legendgroup": "4",
         "marker": {
          "color": "#FFA15A",
          "symbol": "circle"
         },
         "mode": "markers",
         "name": "4",
         "orientation": "v",
         "showlegend": true,
         "x": [
          32.743961334228516,
          5.1546125411987305,
          -16.1816349029541,
          -16.271913528442383,
          39.286773681640625,
          -16.393085479736328,
          -17.099637985229492,
          -15.98051643371582,
          -3.5312469005584717,
          -15.345492362976074,
          -15.290583610534668,
          -13.873067855834961,
          -14.589006423950195,
          -14.457463264465332,
          -14.457463264465332,
          8.8444185256958,
          9.186933517456055,
          8.699488639831543,
          5.162637710571289,
          -16.02251434326172,
          7.29031229019165,
          5.277413368225098,
          8.82343864440918,
          11.330517768859863,
          11.617079734802246,
          11.617079734802246,
          25.711721420288086,
          9.917072296142578
         ],
         "xaxis": "x",
         "y": [
          4.879095554351807,
          5.419336795806885,
          -10.265637397766113,
          -9.728846549987793,
          6.245429992675781,
          -10.382112503051758,
          -10.425857543945312,
          -10.615263938903809,
          -8.973929405212402,
          -9.901056289672852,
          -10.027828216552734,
          13.139148712158203,
          13.854256629943848,
          14.930981636047363,
          14.93098258972168,
          4.142440319061279,
          3.7849574089050293,
          0.9407166838645935,
          -8.828728675842285,
          15.734160423278809,
          3.8330001831054688,
          -9.42038631439209,
          1.6829754114151,
          0.17088425159454346,
          0.20436809957027435,
          0.2043685019016266,
          3.2656784057617188,
          4.100276947021484
         ],
         "yaxis": "y",
         "type": "scatter"
        },
        {
         "customdata": [
          [
           7
          ],
          [
           7
          ],
          [
           7
          ],
          [
           7
          ],
          [
           11
          ],
          [
           2
          ],
          [
           7
          ],
          [
           9
          ],
          [
           9
          ],
          [
           9
          ],
          [
           9
          ],
          [
           2
          ],
          [
           9
          ],
          [
           9
          ],
          [
           9
          ],
          [
           2
          ],
          [
           7
          ],
          [
           7
          ],
          [
           7
          ],
          [
           7
          ],
          [
           7
          ],
          [
           9
          ],
          [
           0
          ],
          [
           7
          ],
          [
           1
          ],
          [
           4
          ],
          [
           11
          ],
          [
           0
          ],
          [
           0
          ],
          [
           0
          ],
          [
           2
          ],
          [
           2
          ],
          [
           9
          ],
          [
           2
          ],
          [
           1
          ],
          [
           0
          ],
          [
           2
          ],
          [
           10
          ],
          [
           0
          ],
          [
           7
          ],
          [
           0
          ]
         ],
         "hovertemplate": "walk_id=5<br>x=%{x}<br>y=%{y}<br>best_topic_id=%{customdata[0]}<extra></extra>",
         "legendgroup": "5",
         "marker": {
          "color": "#19d3f3",
          "symbol": "circle"
         },
         "mode": "markers",
         "name": "5",
         "orientation": "v",
         "showlegend": true,
         "x": [
          41.97722244262695,
          32.50651550292969,
          37.97050094604492,
          24.7891902923584,
          4.613302230834961,
          -5.266831874847412,
          27.732351303100586,
          -15.884475708007812,
          -14.57992172241211,
          -15.150008201599121,
          -15.160223960876465,
          -9.086138725280762,
          -15.602394104003906,
          -14.579899787902832,
          -14.947564125061035,
          -6.832726001739502,
          25.406452178955078,
          26.936269760131836,
          42.54294204711914,
          27.88174057006836,
          30.097951889038086,
          -14.583965301513672,
          -3.5312469005584717,
          31.59368324279785,
          -3.7268497943878174,
          3.9374334812164307,
          -2.6113102436065674,
          -22.309852600097656,
          -25.142549514770508,
          -23.264148712158203,
          -9.29517936706543,
          -9.829325675964355,
          -13.986095428466797,
          -8.848380088806152,
          -4.685662746429443,
          -3.0676350593566895,
          -4.806676387786865,
          8.844456672668457,
          -22.10809898376465,
          31.091289520263672,
          -25.5351505279541
         ],
         "xaxis": "x",
         "y": [
          8.036437034606934,
          5.517065048217773,
          5.822498321533203,
          3.8759381771087646,
          -9.11741828918457,
          -22.76529312133789,
          0.104194775223732,
          15.125081062316895,
          16.123592376708984,
          16.341236114501953,
          15.7564115524292,
          -27.24782371520996,
          14.027095794677734,
          16.12358283996582,
          14.682875633239746,
          -24.001205444335938,
          5.471776485443115,
          4.875566482543945,
          7.437057018280029,
          0.3221112787723541,
          6.245739936828613,
          13.86243724822998,
          -8.973929405212402,
          5.88175630569458,
          0.5456164479255676,
          -17.6234130859375,
          -2.13071870803833,
          0.3897460699081421,
          -1.0529602766036987,
          -0.6816194653511047,
          -28.182819366455078,
          -27.1986026763916,
          15.52053165435791,
          -28.664968490600586,
          -0.3359740972518921,
          -8.129000663757324,
          -20.970460891723633,
          4.142370223999023,
          -0.27743688225746155,
          5.258698463439941,
          -1.3893001079559326
         ],
         "yaxis": "y",
         "type": "scatter"
        },
        {
         "customdata": [
          [
           7
          ],
          [
           7
          ],
          [
           0
          ],
          [
           0
          ],
          [
           0
          ],
          [
           7
          ],
          [
           11
          ],
          [
           8
          ],
          [
           8
          ],
          [
           1
          ],
          [
           10
          ],
          [
           0
          ],
          [
           8
          ],
          [
           2
          ],
          [
           8
          ],
          [
           5
          ],
          [
           4
          ],
          [
           5
          ],
          [
           7
          ],
          [
           8
          ],
          [
           8
          ],
          [
           10
          ],
          [
           10
          ],
          [
           0
          ],
          [
           0
          ],
          [
           0
          ],
          [
           1
          ],
          [
           9
          ],
          [
           0
          ],
          [
           0
          ],
          [
           0
          ],
          [
           10
          ],
          [
           10
          ],
          [
           1
          ]
         ],
         "hovertemplate": "walk_id=6<br>x=%{x}<br>y=%{y}<br>best_topic_id=%{customdata[0]}<extra></extra>",
         "legendgroup": "6",
         "marker": {
          "color": "#FF6692",
          "symbol": "circle"
         },
         "mode": "markers",
         "name": "6",
         "orientation": "v",
         "showlegend": true,
         "x": [
          32.50651550292969,
          31.59368324279785,
          -24.617568969726562,
          -24.57754135131836,
          -21.952146530151367,
          24.60297393798828,
          2.9274191856384277,
          -16.851648330688477,
          -16.851648330688477,
          -5.039104461669922,
          5.0133056640625,
          -21.92833137512207,
          -14.659960746765137,
          -7.693537712097168,
          -12.798971176147461,
          2.5281596183776855,
          4.568274974822998,
          1.7432259321212769,
          -4.522021293640137,
          -14.914860725402832,
          -15.983150482177734,
          9.746125221252441,
          9.87929916381836,
          -25.553953170776367,
          -3.0676350593566895,
          -24.23452377319336,
          -4.083199501037598,
          -15.632137298583984,
          -22.750843048095703,
          -21.501737594604492,
          -24.57754135131836,
          6.870389461517334,
          7.809079170227051,
          -4.572900772094727
         ],
         "xaxis": "x",
         "y": [
          5.517065048217773,
          5.88175630569458,
          -1.5674279928207397,
          -0.6981899738311768,
          0.7092509269714355,
          1.5675755739212036,
          -7.835565567016602,
          -10.85363483428955,
          -10.85363483428955,
          0.7760899066925049,
          1.66560697555542,
          -2.2017383575439453,
          -10.16988754272461,
          -25.380783081054688,
          -9.152982711791992,
          16.26469612121582,
          -18.389545440673828,
          14.409520149230957,
          -5.938830375671387,
          -8.743857383728027,
          -11.212661743164062,
          3.4188687801361084,
          4.391768932342529,
          -1.030904769897461,
          -8.129000663757324,
          -1.1540035009384155,
          -0.3270249664783478,
          15.58184814453125,
          -1.1798336505889893,
          -0.644101083278656,
          -0.6980472207069397,
          1.9987255334854126,
          2.509779930114746,
          1.6669961214065552
         ],
         "yaxis": "y",
         "type": "scatter"
        },
        {
         "customdata": [
          [
           5
          ],
          [
           8
          ],
          [
           0
          ],
          [
           0
          ],
          [
           0
          ],
          [
           8
          ],
          [
           8
          ],
          [
           0
          ],
          [
           7
          ],
          [
           0
          ],
          [
           0
          ],
          [
           7
          ],
          [
           8
          ],
          [
           2
          ],
          [
           8
          ],
          [
           7
          ],
          [
           8
          ],
          [
           8
          ],
          [
           7
          ],
          [
           8
          ],
          [
           8
          ],
          [
           7
          ],
          [
           7
          ],
          [
           8
          ],
          [
           0
          ],
          [
           0
          ],
          [
           0
          ],
          [
           0
          ],
          [
           0
          ],
          [
           0
          ],
          [
           6
          ],
          [
           0
          ],
          [
           8
          ],
          [
           7
          ],
          [
           7
          ],
          [
           8
          ],
          [
           1
          ],
          [
           8
          ],
          [
           8
          ],
          [
           7
          ],
          [
           1
          ],
          [
           7
          ],
          [
           7
          ],
          [
           3
          ],
          [
           7
          ]
         ],
         "hovertemplate": "walk_id=7<br>x=%{x}<br>y=%{y}<br>best_topic_id=%{customdata[0]}<extra></extra>",
         "legendgroup": "7",
         "marker": {
          "color": "#B6E880",
          "symbol": "circle"
         },
         "mode": "markers",
         "name": "7",
         "orientation": "v",
         "showlegend": true,
         "x": [
          2.954928159713745,
          -15.28030014038086,
          -3.0676350593566895,
          -3.5312469005584717,
          -20.778234481811523,
          -15.591068267822266,
          -17.065126419067383,
          -24.281475067138672,
          24.7891902923584,
          -20.64979362487793,
          -20.649789810180664,
          24.74327850341797,
          -15.485651016235352,
          -7.800939559936523,
          -19.968442916870117,
          31.77025604248047,
          -16.719388961791992,
          -14.400842666625977,
          37.97050094604492,
          -15.591045379638672,
          -16.61855125427246,
          31.091289520263672,
          39.286773681640625,
          -16.28257179260254,
          -23.73360252380371,
          -23.838455200195312,
          -23.837989807128906,
          -23.521209716796875,
          -20.47338104248047,
          -25.31745719909668,
          -5.686544895172119,
          -20.79020118713379,
          -8.119275093078613,
          39.286773681640625,
          39.286773681640625,
          -14.725065231323242,
          -4.1309494972229,
          -15.790459632873535,
          -16.71939468383789,
          39.286773681640625,
          -3.61655855178833,
          24.7891902923584,
          24.7891902923584,
          -5.047512531280518,
          24.7891902923584
         ],
         "xaxis": "x",
         "y": [
          17.30668830871582,
          -8.398913383483887,
          -8.129000663757324,
          -8.973929405212402,
          -4.208200454711914,
          -9.545390129089355,
          -10.198210716247559,
          -2.043501615524292,
          3.8759381771087646,
          -4.342541217803955,
          -4.342543601989746,
          2.7986106872558594,
          -10.455547332763672,
          -21.594192504882812,
          -5.053576946258545,
          5.103315353393555,
          -9.73465347290039,
          -8.416441917419434,
          5.822498321533203,
          -9.54539966583252,
          -11.17293930053711,
          5.258698463439941,
          6.245429992675781,
          -11.24825668334961,
          0.10639634728431702,
          -0.18017631769180298,
          -0.055782824754714966,
          -2.3553619384765625,
          -4.517405986785889,
          -1.694427728652954,
          38.146339416503906,
          -4.2153706550598145,
          -20.813377380371094,
          6.245429992675781,
          6.245429992675781,
          -10.99880599975586,
          -0.34060007333755493,
          -10.996706008911133,
          -9.734663963317871,
          6.245429992675781,
          1.0483076572418213,
          3.8759381771087646,
          3.8759381771087646,
          -12.891871452331543,
          3.8759381771087646
         ],
         "yaxis": "y",
         "type": "scatter"
        },
        {
         "customdata": [
          [
           1
          ],
          [
           11
          ],
          [
           11
          ],
          [
           11
          ],
          [
           11
          ],
          [
           1
          ],
          [
           1
          ],
          [
           11
          ],
          [
           11
          ],
          [
           1
          ],
          [
           1
          ],
          [
           1
          ],
          [
           1
          ],
          [
           11
          ],
          [
           2
          ],
          [
           2
          ],
          [
           2
          ],
          [
           11
          ],
          [
           2
          ],
          [
           2
          ],
          [
           2
          ],
          [
           5
          ],
          [
           7
          ],
          [
           5
          ],
          [
           5
          ],
          [
           2
          ],
          [
           5
          ],
          [
           2
          ],
          [
           0
          ],
          [
           2
          ],
          [
           1
          ],
          [
           2
          ],
          [
           7
          ],
          [
           2
          ],
          [
           2
          ],
          [
           2
          ],
          [
           2
          ],
          [
           2
          ],
          [
           2
          ],
          [
           2
          ],
          [
           2
          ],
          [
           5
          ],
          [
           9
          ],
          [
           5
          ],
          [
           5
          ]
         ],
         "hovertemplate": "walk_id=8<br>x=%{x}<br>y=%{y}<br>best_topic_id=%{customdata[0]}<extra></extra>",
         "legendgroup": "8",
         "marker": {
          "color": "#FF97FF",
          "symbol": "circle"
         },
         "mode": "markers",
         "name": "8",
         "orientation": "v",
         "showlegend": true,
         "x": [
          -4.492351531982422,
          5.745627403259277,
          5.122848033905029,
          5.2334980964660645,
          3.7049896717071533,
          -4.042597770690918,
          -4.727024555206299,
          4.566944122314453,
          5.608333587646484,
          -4.042597770690918,
          -4.932491302490234,
          -4.042597770690918,
          -5.092270374298096,
          2.9065871238708496,
          -9.605345726013184,
          -9.213691711425781,
          -9.91490364074707,
          3.142735004425049,
          -9.460479736328125,
          -10.007624626159668,
          -4.954809665679932,
          2.1719954013824463,
          32.50651550292969,
          2.6447970867156982,
          1.6530522108078003,
          -8.027286529541016,
          1.4370321035385132,
          0.9782772660255432,
          -3.5312469005584717,
          -9.09146499633789,
          -4.418783187866211,
          -8.252784729003906,
          38.02125549316406,
          -9.81999683380127,
          -8.335273742675781,
          -8.528979301452637,
          -9.481779098510742,
          -7.855779647827148,
          -9.254793167114258,
          -7.003947734832764,
          -6.831877708435059,
          22.884124755859375,
          -14.350092887878418,
          0.5191584825515747,
          3.3015198707580566
         ],
         "xaxis": "x",
         "y": [
          0.5321276187896729,
          -8.544323921203613,
          -8.77198600769043,
          -8.163090705871582,
          -9.719711303710938,
          1.4088093042373657,
          1.4742387533187866,
          -8.372087478637695,
          -9.31194019317627,
          1.4088093042373657,
          1.2817264795303345,
          1.4088093042373657,
          1.0410417318344116,
          -9.152563095092773,
          -28.6206111907959,
          -28.68453025817871,
          -28.294755935668945,
          -8.048803329467773,
          -26.437206268310547,
          -27.961837768554688,
          -24.25775718688965,
          14.956352233886719,
          5.517065048217773,
          17.358903884887695,
          15.551222801208496,
          -26.091548919677734,
          13.359596252441406,
          12.300481796264648,
          -8.973929405212402,
          -26.195728302001953,
          0.8456054329872131,
          -27.321210861206055,
          6.98909854888916,
          -27.2342586517334,
          -28.051715850830078,
          -28.53864860534668,
          -27.812179565429688,
          -27.491762161254883,
          -25.96693992614746,
          -25.86478042602539,
          -23.994129180908203,
          4.6643524169921875,
          14.004463195800781,
          14.839468955993652,
          17.08717918395996
         ],
         "yaxis": "y",
         "type": "scatter"
        },
        {
         "customdata": [
          [
           7
          ],
          [
           5
          ],
          [
           5
          ],
          [
           5
          ],
          [
           5
          ],
          [
           7
          ],
          [
           5
          ],
          [
           2
          ],
          [
           5
          ],
          [
           2
          ],
          [
           5
          ],
          [
           7
          ],
          [
           0
          ],
          [
           7
          ],
          [
           9
          ],
          [
           1
          ],
          [
           5
          ],
          [
           5
          ],
          [
           9
          ],
          [
           9
          ],
          [
           9
          ],
          [
           9
          ],
          [
           9
          ],
          [
           7
          ],
          [
           7
          ]
         ],
         "hovertemplate": "walk_id=9<br>x=%{x}<br>y=%{y}<br>best_topic_id=%{customdata[0]}<extra></extra>",
         "legendgroup": "9",
         "marker": {
          "color": "#FECB52",
          "symbol": "circle"
         },
         "mode": "markers",
         "name": "9",
         "orientation": "v",
         "showlegend": true,
         "x": [
          41.83863830566406,
          2.822129726409912,
          2.1719980239868164,
          -0.1102168932557106,
          1.9034343957901,
          39.286773681640625,
          1.5209769010543823,
          -8.297881126403809,
          1.4358152151107788,
          -8.327116966247559,
          2.526890993118286,
          39.286773681640625,
          -3.5312469005584717,
          39.286773681640625,
          -13.526941299438477,
          -2.949101448059082,
          2.3876571655273438,
          0.5086180567741394,
          -15.338172912597656,
          -14.947561264038086,
          -13.463909149169922,
          -15.045445442199707,
          -13.187972068786621,
          23.30194664001465,
          42.46137619018555
         ],
         "xaxis": "x",
         "y": [
          8.137622833251953,
          15.609892845153809,
          14.956324577331543,
          14.784966468811035,
          16.307165145874023,
          6.245429992675781,
          13.093658447265625,
          -26.207256317138672,
          13.011116981506348,
          -26.38896369934082,
          16.264781951904297,
          6.245429992675781,
          -8.973929405212402,
          6.245429992675781,
          14.432328224182129,
          -1.655854344367981,
          15.767526626586914,
          14.947469711303711,
          15.096776962280273,
          14.682878494262695,
          14.397561073303223,
          12.52981948852539,
          14.208699226379395,
          2.72078537940979,
          7.822319030761719
         ],
         "yaxis": "y",
         "type": "scatter"
        },
        {
         "customdata": [
          [
           6
          ],
          [
           6
          ],
          [
           6
          ],
          [
           6
          ],
          [
           6
          ],
          [
           6
          ],
          [
           6
          ],
          [
           6
          ],
          [
           6
          ],
          [
           6
          ],
          [
           6
          ],
          [
           6
          ],
          [
           6
          ],
          [
           6
          ],
          [
           6
          ],
          [
           6
          ],
          [
           6
          ],
          [
           6
          ],
          [
           6
          ],
          [
           6
          ],
          [
           6
          ],
          [
           6
          ],
          [
           6
          ],
          [
           6
          ],
          [
           6
          ],
          [
           6
          ],
          [
           6
          ],
          [
           6
          ],
          [
           6
          ],
          [
           6
          ],
          [
           6
          ],
          [
           6
          ],
          [
           6
          ],
          [
           6
          ],
          [
           6
          ],
          [
           6
          ],
          [
           6
          ],
          [
           6
          ],
          [
           6
          ],
          [
           6
          ],
          [
           6
          ],
          [
           6
          ],
          [
           6
          ],
          [
           6
          ],
          [
           6
          ]
         ],
         "hovertemplate": "walk_id=10<br>x=%{x}<br>y=%{y}<br>best_topic_id=%{customdata[0]}<extra></extra>",
         "legendgroup": "10",
         "marker": {
          "color": "#636efa",
          "symbol": "circle"
         },
         "mode": "markers",
         "name": "10",
         "orientation": "v",
         "showlegend": true,
         "x": [
          -8.90992259979248,
          -10.551863670349121,
          -7.828643321990967,
          -9.92372989654541,
          -8.427518844604492,
          -5.904730796813965,
          -5.961349964141846,
          -6.7333831787109375,
          -9.316349983215332,
          -9.055403709411621,
          -10.598883628845215,
          -7.409670829772949,
          -7.790322303771973,
          -6.546358108520508,
          -8.427518844604492,
          -7.139432907104492,
          -7.409670829772949,
          -9.055403709411621,
          -6.7333831787109375,
          -9.99321174621582,
          -9.92372989654541,
          -7.828643321990967,
          -6.546358108520508,
          -7.828643321990967,
          -9.055403709411621,
          -6.7333831787109375,
          -9.994782447814941,
          -9.055403709411621,
          -8.133119583129883,
          -9.790450096130371,
          -9.055403709411621,
          -5.973721981048584,
          -9.994782447814941,
          -9.790450096130371,
          -8.963512420654297,
          -9.994782447814941,
          -7.828643321990967,
          -5.949739933013916,
          -10.788516998291016,
          -8.133217811584473,
          -5.909633159637451,
          -9.994782447814941,
          -8.90992259979248,
          -10.680264472961426,
          -9.196268081665039
         ],
         "xaxis": "x",
         "y": [
          39.75699996948242,
          38.974483489990234,
          41.658145904541016,
          39.66756057739258,
          42.16917037963867,
          40.06201171875,
          38.61646270751953,
          42.301918029785156,
          38.85382080078125,
          40.802791595458984,
          38.36335372924805,
          43.136268615722656,
          42.58845138549805,
          43.22556686401367,
          42.16917037963867,
          42.80453872680664,
          43.136268615722656,
          40.802791595458984,
          42.301918029785156,
          38.31301498413086,
          39.66756057739258,
          41.658145904541016,
          43.22556686401367,
          41.658145904541016,
          40.802791595458984,
          42.301918029785156,
          40.52389144897461,
          40.802791595458984,
          40.84385299682617,
          39.01395034790039,
          40.802791595458984,
          42.786643981933594,
          40.52389144897461,
          39.01395034790039,
          41.663875579833984,
          40.52389144897461,
          41.658145904541016,
          38.88352966308594,
          39.201995849609375,
          40.84407043457031,
          40.023353576660156,
          40.52389144897461,
          39.75699996948242,
          39.695308685302734,
          39.88149642944336
         ],
         "yaxis": "y",
         "type": "scatter"
        }
       ],
       "layout": {
        "template": {
         "data": {
          "bar": [
           {
            "error_x": {
             "color": "#2a3f5f"
            },
            "error_y": {
             "color": "#2a3f5f"
            },
            "marker": {
             "line": {
              "color": "#E5ECF6",
              "width": 0.5
             },
             "pattern": {
              "fillmode": "overlay",
              "size": 10,
              "solidity": 0.2
             }
            },
            "type": "bar"
           }
          ],
          "barpolar": [
           {
            "marker": {
             "line": {
              "color": "#E5ECF6",
              "width": 0.5
             },
             "pattern": {
              "fillmode": "overlay",
              "size": 10,
              "solidity": 0.2
             }
            },
            "type": "barpolar"
           }
          ],
          "carpet": [
           {
            "aaxis": {
             "endlinecolor": "#2a3f5f",
             "gridcolor": "white",
             "linecolor": "white",
             "minorgridcolor": "white",
             "startlinecolor": "#2a3f5f"
            },
            "baxis": {
             "endlinecolor": "#2a3f5f",
             "gridcolor": "white",
             "linecolor": "white",
             "minorgridcolor": "white",
             "startlinecolor": "#2a3f5f"
            },
            "type": "carpet"
           }
          ],
          "choropleth": [
           {
            "colorbar": {
             "outlinewidth": 0,
             "ticks": ""
            },
            "type": "choropleth"
           }
          ],
          "contour": [
           {
            "colorbar": {
             "outlinewidth": 0,
             "ticks": ""
            },
            "colorscale": [
             [
              0.0,
              "#0d0887"
             ],
             [
              0.1111111111111111,
              "#46039f"
             ],
             [
              0.2222222222222222,
              "#7201a8"
             ],
             [
              0.3333333333333333,
              "#9c179e"
             ],
             [
              0.4444444444444444,
              "#bd3786"
             ],
             [
              0.5555555555555556,
              "#d8576b"
             ],
             [
              0.6666666666666666,
              "#ed7953"
             ],
             [
              0.7777777777777778,
              "#fb9f3a"
             ],
             [
              0.8888888888888888,
              "#fdca26"
             ],
             [
              1.0,
              "#f0f921"
             ]
            ],
            "type": "contour"
           }
          ],
          "contourcarpet": [
           {
            "colorbar": {
             "outlinewidth": 0,
             "ticks": ""
            },
            "type": "contourcarpet"
           }
          ],
          "heatmap": [
           {
            "colorbar": {
             "outlinewidth": 0,
             "ticks": ""
            },
            "colorscale": [
             [
              0.0,
              "#0d0887"
             ],
             [
              0.1111111111111111,
              "#46039f"
             ],
             [
              0.2222222222222222,
              "#7201a8"
             ],
             [
              0.3333333333333333,
              "#9c179e"
             ],
             [
              0.4444444444444444,
              "#bd3786"
             ],
             [
              0.5555555555555556,
              "#d8576b"
             ],
             [
              0.6666666666666666,
              "#ed7953"
             ],
             [
              0.7777777777777778,
              "#fb9f3a"
             ],
             [
              0.8888888888888888,
              "#fdca26"
             ],
             [
              1.0,
              "#f0f921"
             ]
            ],
            "type": "heatmap"
           }
          ],
          "heatmapgl": [
           {
            "colorbar": {
             "outlinewidth": 0,
             "ticks": ""
            },
            "colorscale": [
             [
              0.0,
              "#0d0887"
             ],
             [
              0.1111111111111111,
              "#46039f"
             ],
             [
              0.2222222222222222,
              "#7201a8"
             ],
             [
              0.3333333333333333,
              "#9c179e"
             ],
             [
              0.4444444444444444,
              "#bd3786"
             ],
             [
              0.5555555555555556,
              "#d8576b"
             ],
             [
              0.6666666666666666,
              "#ed7953"
             ],
             [
              0.7777777777777778,
              "#fb9f3a"
             ],
             [
              0.8888888888888888,
              "#fdca26"
             ],
             [
              1.0,
              "#f0f921"
             ]
            ],
            "type": "heatmapgl"
           }
          ],
          "histogram": [
           {
            "marker": {
             "pattern": {
              "fillmode": "overlay",
              "size": 10,
              "solidity": 0.2
             }
            },
            "type": "histogram"
           }
          ],
          "histogram2d": [
           {
            "colorbar": {
             "outlinewidth": 0,
             "ticks": ""
            },
            "colorscale": [
             [
              0.0,
              "#0d0887"
             ],
             [
              0.1111111111111111,
              "#46039f"
             ],
             [
              0.2222222222222222,
              "#7201a8"
             ],
             [
              0.3333333333333333,
              "#9c179e"
             ],
             [
              0.4444444444444444,
              "#bd3786"
             ],
             [
              0.5555555555555556,
              "#d8576b"
             ],
             [
              0.6666666666666666,
              "#ed7953"
             ],
             [
              0.7777777777777778,
              "#fb9f3a"
             ],
             [
              0.8888888888888888,
              "#fdca26"
             ],
             [
              1.0,
              "#f0f921"
             ]
            ],
            "type": "histogram2d"
           }
          ],
          "histogram2dcontour": [
           {
            "colorbar": {
             "outlinewidth": 0,
             "ticks": ""
            },
            "colorscale": [
             [
              0.0,
              "#0d0887"
             ],
             [
              0.1111111111111111,
              "#46039f"
             ],
             [
              0.2222222222222222,
              "#7201a8"
             ],
             [
              0.3333333333333333,
              "#9c179e"
             ],
             [
              0.4444444444444444,
              "#bd3786"
             ],
             [
              0.5555555555555556,
              "#d8576b"
             ],
             [
              0.6666666666666666,
              "#ed7953"
             ],
             [
              0.7777777777777778,
              "#fb9f3a"
             ],
             [
              0.8888888888888888,
              "#fdca26"
             ],
             [
              1.0,
              "#f0f921"
             ]
            ],
            "type": "histogram2dcontour"
           }
          ],
          "mesh3d": [
           {
            "colorbar": {
             "outlinewidth": 0,
             "ticks": ""
            },
            "type": "mesh3d"
           }
          ],
          "parcoords": [
           {
            "line": {
             "colorbar": {
              "outlinewidth": 0,
              "ticks": ""
             }
            },
            "type": "parcoords"
           }
          ],
          "pie": [
           {
            "automargin": true,
            "type": "pie"
           }
          ],
          "scatter": [
           {
            "marker": {
             "colorbar": {
              "outlinewidth": 0,
              "ticks": ""
             }
            },
            "type": "scatter"
           }
          ],
          "scatter3d": [
           {
            "line": {
             "colorbar": {
              "outlinewidth": 0,
              "ticks": ""
             }
            },
            "marker": {
             "colorbar": {
              "outlinewidth": 0,
              "ticks": ""
             }
            },
            "type": "scatter3d"
           }
          ],
          "scattercarpet": [
           {
            "marker": {
             "colorbar": {
              "outlinewidth": 0,
              "ticks": ""
             }
            },
            "type": "scattercarpet"
           }
          ],
          "scattergeo": [
           {
            "marker": {
             "colorbar": {
              "outlinewidth": 0,
              "ticks": ""
             }
            },
            "type": "scattergeo"
           }
          ],
          "scattergl": [
           {
            "marker": {
             "colorbar": {
              "outlinewidth": 0,
              "ticks": ""
             }
            },
            "type": "scattergl"
           }
          ],
          "scattermapbox": [
           {
            "marker": {
             "colorbar": {
              "outlinewidth": 0,
              "ticks": ""
             }
            },
            "type": "scattermapbox"
           }
          ],
          "scatterpolar": [
           {
            "marker": {
             "colorbar": {
              "outlinewidth": 0,
              "ticks": ""
             }
            },
            "type": "scatterpolar"
           }
          ],
          "scatterpolargl": [
           {
            "marker": {
             "colorbar": {
              "outlinewidth": 0,
              "ticks": ""
             }
            },
            "type": "scatterpolargl"
           }
          ],
          "scatterternary": [
           {
            "marker": {
             "colorbar": {
              "outlinewidth": 0,
              "ticks": ""
             }
            },
            "type": "scatterternary"
           }
          ],
          "surface": [
           {
            "colorbar": {
             "outlinewidth": 0,
             "ticks": ""
            },
            "colorscale": [
             [
              0.0,
              "#0d0887"
             ],
             [
              0.1111111111111111,
              "#46039f"
             ],
             [
              0.2222222222222222,
              "#7201a8"
             ],
             [
              0.3333333333333333,
              "#9c179e"
             ],
             [
              0.4444444444444444,
              "#bd3786"
             ],
             [
              0.5555555555555556,
              "#d8576b"
             ],
             [
              0.6666666666666666,
              "#ed7953"
             ],
             [
              0.7777777777777778,
              "#fb9f3a"
             ],
             [
              0.8888888888888888,
              "#fdca26"
             ],
             [
              1.0,
              "#f0f921"
             ]
            ],
            "type": "surface"
           }
          ],
          "table": [
           {
            "cells": {
             "fill": {
              "color": "#EBF0F8"
             },
             "line": {
              "color": "white"
             }
            },
            "header": {
             "fill": {
              "color": "#C8D4E3"
             },
             "line": {
              "color": "white"
             }
            },
            "type": "table"
           }
          ]
         },
         "layout": {
          "annotationdefaults": {
           "arrowcolor": "#2a3f5f",
           "arrowhead": 0,
           "arrowwidth": 1
          },
          "autotypenumbers": "strict",
          "coloraxis": {
           "colorbar": {
            "outlinewidth": 0,
            "ticks": ""
           }
          },
          "colorscale": {
           "diverging": [
            [
             0,
             "#8e0152"
            ],
            [
             0.1,
             "#c51b7d"
            ],
            [
             0.2,
             "#de77ae"
            ],
            [
             0.3,
             "#f1b6da"
            ],
            [
             0.4,
             "#fde0ef"
            ],
            [
             0.5,
             "#f7f7f7"
            ],
            [
             0.6,
             "#e6f5d0"
            ],
            [
             0.7,
             "#b8e186"
            ],
            [
             0.8,
             "#7fbc41"
            ],
            [
             0.9,
             "#4d9221"
            ],
            [
             1,
             "#276419"
            ]
           ],
           "sequential": [
            [
             0.0,
             "#0d0887"
            ],
            [
             0.1111111111111111,
             "#46039f"
            ],
            [
             0.2222222222222222,
             "#7201a8"
            ],
            [
             0.3333333333333333,
             "#9c179e"
            ],
            [
             0.4444444444444444,
             "#bd3786"
            ],
            [
             0.5555555555555556,
             "#d8576b"
            ],
            [
             0.6666666666666666,
             "#ed7953"
            ],
            [
             0.7777777777777778,
             "#fb9f3a"
            ],
            [
             0.8888888888888888,
             "#fdca26"
            ],
            [
             1.0,
             "#f0f921"
            ]
           ],
           "sequentialminus": [
            [
             0.0,
             "#0d0887"
            ],
            [
             0.1111111111111111,
             "#46039f"
            ],
            [
             0.2222222222222222,
             "#7201a8"
            ],
            [
             0.3333333333333333,
             "#9c179e"
            ],
            [
             0.4444444444444444,
             "#bd3786"
            ],
            [
             0.5555555555555556,
             "#d8576b"
            ],
            [
             0.6666666666666666,
             "#ed7953"
            ],
            [
             0.7777777777777778,
             "#fb9f3a"
            ],
            [
             0.8888888888888888,
             "#fdca26"
            ],
            [
             1.0,
             "#f0f921"
            ]
           ]
          },
          "colorway": [
           "#636efa",
           "#EF553B",
           "#00cc96",
           "#ab63fa",
           "#FFA15A",
           "#19d3f3",
           "#FF6692",
           "#B6E880",
           "#FF97FF",
           "#FECB52"
          ],
          "font": {
           "color": "#2a3f5f"
          },
          "geo": {
           "bgcolor": "white",
           "lakecolor": "white",
           "landcolor": "#E5ECF6",
           "showlakes": true,
           "showland": true,
           "subunitcolor": "white"
          },
          "hoverlabel": {
           "align": "left"
          },
          "hovermode": "closest",
          "mapbox": {
           "style": "light"
          },
          "paper_bgcolor": "white",
          "plot_bgcolor": "#E5ECF6",
          "polar": {
           "angularaxis": {
            "gridcolor": "white",
            "linecolor": "white",
            "ticks": ""
           },
           "bgcolor": "#E5ECF6",
           "radialaxis": {
            "gridcolor": "white",
            "linecolor": "white",
            "ticks": ""
           }
          },
          "scene": {
           "xaxis": {
            "backgroundcolor": "#E5ECF6",
            "gridcolor": "white",
            "gridwidth": 2,
            "linecolor": "white",
            "showbackground": true,
            "ticks": "",
            "zerolinecolor": "white"
           },
           "yaxis": {
            "backgroundcolor": "#E5ECF6",
            "gridcolor": "white",
            "gridwidth": 2,
            "linecolor": "white",
            "showbackground": true,
            "ticks": "",
            "zerolinecolor": "white"
           },
           "zaxis": {
            "backgroundcolor": "#E5ECF6",
            "gridcolor": "white",
            "gridwidth": 2,
            "linecolor": "white",
            "showbackground": true,
            "ticks": "",
            "zerolinecolor": "white"
           }
          },
          "shapedefaults": {
           "line": {
            "color": "#2a3f5f"
           }
          },
          "ternary": {
           "aaxis": {
            "gridcolor": "white",
            "linecolor": "white",
            "ticks": ""
           },
           "baxis": {
            "gridcolor": "white",
            "linecolor": "white",
            "ticks": ""
           },
           "bgcolor": "#E5ECF6",
           "caxis": {
            "gridcolor": "white",
            "linecolor": "white",
            "ticks": ""
           }
          },
          "title": {
           "x": 0.05
          },
          "xaxis": {
           "automargin": true,
           "gridcolor": "white",
           "linecolor": "white",
           "ticks": "",
           "title": {
            "standoff": 15
           },
           "zerolinecolor": "white",
           "zerolinewidth": 2
          },
          "yaxis": {
           "automargin": true,
           "gridcolor": "white",
           "linecolor": "white",
           "ticks": "",
           "title": {
            "standoff": 15
           },
           "zerolinecolor": "white",
           "zerolinewidth": 2
          }
         }
        },
        "xaxis": {
         "anchor": "y",
         "domain": [
          0.0,
          1.0
         ],
         "title": {
          "text": "x"
         }
        },
        "yaxis": {
         "anchor": "x",
         "domain": [
          0.0,
          1.0
         ],
         "title": {
          "text": "y"
         }
        },
        "legend": {
         "title": {
          "text": "walk_id"
         },
         "tracegroupgap": 0
        },
        "margin": {
         "t": 60
        },
        "height": 800,
        "width": 800
       },
       "config": {
        "plotlyServerURL": "https://plot.ly"
       }
      },
      "text/html": "<div>                            <div id=\"29a3ad36-3d27-4e1b-a72f-1d0019794e82\" class=\"plotly-graph-div\" style=\"height:800px; width:800px;\"></div>            <script type=\"text/javascript\">                require([\"plotly\"], function(Plotly) {                    window.PLOTLYENV=window.PLOTLYENV || {};                                    if (document.getElementById(\"29a3ad36-3d27-4e1b-a72f-1d0019794e82\")) {                    Plotly.newPlot(                        \"29a3ad36-3d27-4e1b-a72f-1d0019794e82\",                        [{\"customdata\":[[4],[3],[9],[4],[9],[9],[4],[4],[0],[0],[4],[0],[2],[7],[0],[0],[3],[10],[2],[1],[9],[3],[10],[2],[4],[9],[0],[10],[2],[9],[4],[10],[2],[2],[10],[10],[5],[4],[7],[4],[0],[2],[2],[10],[10],[0],[0],[0],[4],[4],[5],[9],[2],[2],[10],[11],[4],[10],[2],[10],[2],[10],[2],[2],[8],[2],[10],[4],[0],[2],[7],[2],[0],[0],[3],[5],[8],[9],[9],[7],[2],[0],[0],[2],[10],[2],[11],[11],[10],[10],[10],[4],[4],[4],[10],[4],[0],[7],[7],[7],[7],[10],[10],[3],[2],[7],[7],[0],[10],[8],[0],[0],[4],[3],[2],[3],[3],[3],[3],[3],[3],[0],[3],[2],[5],[8],[1],[4],[7],[11],[7],[7],[4]],\"hovertemplate\":\"walk_id=0<br>x=%{x}<br>y=%{y}<br>best_topic_id=%{customdata[0]}<extra></extra>\",\"legendgroup\":\"0\",\"marker\":{\"color\":\"#636efa\",\"symbol\":\"circle\"},\"mode\":\"markers\",\"name\":\"0\",\"orientation\":\"v\",\"showlegend\":true,\"x\":[3.4308953285217285,-4.290961265563965,-15.047564506530762,3.937432050704956,-14.347718238830566,-15.884437561035156,-1.3529998064041138,-0.8727853298187256,-24.617565155029297,-25.022109985351562,3.66405987739563,-2.593294620513916,-7.497027397155762,31.161170959472656,-3.0676350593566895,-3.5312469005584717,-3.3229305744171143,9.504432678222656,-5.028953552246094,-4.852370262145996,-13.526872634887695,-5.241386413574219,9.226194381713867,-6.833313465118408,-0.8727797865867615,-15.802644729614258,-21.288816452026367,8.640511512756348,-7.249558448791504,-14.559591293334961,2.529360294342041,7.607758522033691,-10.089014053344727,-7.970574378967285,7.73115348815918,9.736868858337402,2.3275270462036133,5.426022052764893,27.91044807434082,3.943058729171753,-2.5933425426483154,-8.942322731018066,-8.759913444519043,7.607758522033691,8.538877487182617,-25.159160614013672,-25.12748146057129,-24.234516143798828,4.629497528076172,2.4218990802764893,2.5012366771698,-15.605968475341797,-8.327644348144531,-1.915647268295288,7.293217182159424,3.7291922569274902,4.64053201675415,8.794785499572754,-7.693565368652344,7.783656120300293,-5.868545055389404,4.633418560028076,-7.9705729484558105,-7.912356376647949,-8.246018409729004,-7.6046600341796875,7.607758522033691,5.325756549835205,-22.55231285095215,-8.693572998046875,32.23870849609375,-9.200789451599121,-3.0676350593566895,-3.0676350593566895,-5.5250959396362305,2.503174066543579,-14.387191772460938,-4.967494010925293,-15.425942420959473,42.34416961669922,-7.654758453369141,-3.5312469005584717,-3.0676350593566895,-6.0078582763671875,8.175893783569336,-1.9296129941940308,4.294753551483154,4.329539775848389,-13.101991653442383,11.89487361907959,8.728070259094238,5.662004470825195,6.255398273468018,5.03409481048584,9.015583992004395,4.328498363494873,-22.75084114074707,40.71926498413086,42.344146728515625,42.103050231933594,27.91631507873535,-13.060550689697266,7.607758522033691,-4.667269706726074,-5.893488883972168,24.747692108154297,12.143439292907715,-19.846439361572266,5.912919044494629,-7.051860809326172,-23.6201114654541,-3.0676350593566895,-8.273900985717773,-4.752715110778809,-5.933018684387207,-5.47428560256958,-5.47428560256958,-4.651893138885498,-5.399290561676025,-5.005106449127197,-4.703330993652344,-4.3316264152526855,-4.816854476928711,-8.26899528503418,2.5006370544433594,-10.75914478302002,-4.083183765411377,4.568276882171631,31.517772674560547,2.565523862838745,25.711721420288086,31.770034790039062,3.5708389282226562],\"xaxis\":\"x\",\"y\":[-13.52409553527832,-13.096318244934082,15.55212688446045,-17.623411178588867,14.007387161254883,15.125072479248047,-9.693709373474121,-18.80760955810547,-1.5674859285354614,-0.31483885645866394,-14.748217582702637,-8.942150115966797,-26.995281219482422,4.829440116882324,-8.129000663757324,-8.973929405212402,-11.712455749511719,4.474612236022949,-24.266517639160156,-0.9707232117652893,12.565394401550293,-13.392916679382324,3.2565128803253174,-24.000761032104492,-18.807662963867188,16.136432647705078,-0.5709066390991211,3.24143385887146,-26.777585983276367,15.524168968200684,-16.458724975585938,2.9223811626434326,-27.5595703125,-21.29587745666504,2.490131378173828,3.4317831993103027,16.858543395996094,-18.929101943969727,0.40955281257629395,-17.626136779785156,-8.94222354888916,-27.77534294128418,-27.786394119262695,2.9223811626434326,0.1786305159330368,-0.37930962443351746,-1.887778878211975,-1.1539205312728882,-18.920299530029297,-16.478862762451172,14.858821868896484,14.068096160888672,-24.852371215820312,-17.987497329711914,4.196949005126953,-9.016424179077148,-17.376239776611328,2.2421135902404785,-25.380826950073242,2.5118112564086914,-24.522802352905273,5.830834865570068,-21.295896530151367,-22.332866668701172,-10.016733169555664,-20.7432918548584,2.9223811626434326,-20.294055938720703,-1.6629642248153687,-27.09391975402832,6.1727190017700195,-27.28556251525879,-8.129000663757324,-8.129000663757324,-14.037542343139648,14.861543655395508,-10.007198333740234,-8.363731384277344,16.23525047302246,7.581824779510498,-23.78365707397461,-8.973929405212402,-8.129000663757324,-24.8897705078125,1.4480209350585938,-17.970287322998047,-9.088345527648926,-8.554617881774902,-7.334944248199463,-0.07863286137580872,3.1292498111724854,-20.289215087890625,-19.96485710144043,-19.317798614501953,1.780240774154663,-16.176063537597656,-1.1798335313796997,4.696043491363525,7.58180570602417,7.990512371063232,0.4323176145553589,-7.335887432098389,2.9223811626434326,-13.821269989013672,-22.351116180419922,2.796372413635254,-0.01598569005727768,-1.316892385482788,1.3093236684799194,-19.793865203857422,-1.1771970987319946,-8.129000663757324,-10.028544425964355,-13.025209426879883,-22.762557983398438,-13.688628196716309,-13.688628196716309,-14.121336936950684,-14.186272621154785,-14.346283912658691,-14.204071998596191,-6.375904560089111,-13.547532081604004,-28.180025100708008,14.85866928100586,-9.795085906982422,-0.32700419425964355,-18.389545440673828,4.478482246398926,-9.283467292785645,3.2656784057617188,5.103979587554932,-14.191925048828125],\"yaxis\":\"y\",\"type\":\"scatter\"},{\"customdata\":[[11],[11],[11],[4],[4],[11],[7],[4],[11],[11],[11],[4],[4],[4],[4],[4],[7],[7],[4],[4],[0],[4]],\"hovertemplate\":\"walk_id=1<br>x=%{x}<br>y=%{y}<br>best_topic_id=%{customdata[0]}<extra></extra>\",\"legendgroup\":\"1\",\"marker\":{\"color\":\"#EF553B\",\"symbol\":\"circle\"},\"mode\":\"markers\",\"name\":\"1\",\"orientation\":\"v\",\"showlegend\":true,\"x\":[5.934744834899902,5.437394618988037,3.5284483432769775,3.412301540374756,3.2319183349609375,5.883713245391846,25.711721420288086,4.824127197265625,4.768479347229004,5.638320446014404,5.20317268371582,5.482813358306885,4.288358211517334,6.427189826965332,6.372189521789551,5.942313194274902,38.90769958496094,37.97050094604492,5.855126857757568,5.65690803527832,-25.564373016357422,2.3902416229248047],\"xaxis\":\"x\",\"y\":[-8.808920860290527,-9.48230266571045,-12.919506072998047,-18.870412826538086,-18.83029556274414,-9.114728927612305,3.2656784057617188,-19.766380310058594,-9.577188491821289,-8.331530570983887,-8.16582202911377,-19.226503372192383,-16.25368881225586,-19.601774215698242,-19.263856887817383,-20.14048957824707,7.5457329750061035,5.822498321533203,-19.50564193725586,-18.634592056274414,-0.6896194219589233,-18.73958969116211],\"yaxis\":\"y\",\"type\":\"scatter\"},{\"customdata\":[[5],[0],[10],[2],[5],[5],[1],[5],[4],[5],[8],[10],[5],[4],[4],[1],[5],[8],[1],[4],[5],[5],[5],[0],[8],[7],[5],[5],[0],[7],[7],[3],[4],[10],[5],[10],[4],[4]],\"hovertemplate\":\"walk_id=2<br>x=%{x}<br>y=%{y}<br>best_topic_id=%{customdata[0]}<extra></extra>\",\"legendgroup\":\"2\",\"marker\":{\"color\":\"#00cc96\",\"symbol\":\"circle\"},\"mode\":\"markers\",\"name\":\"2\",\"orientation\":\"v\",\"showlegend\":true,\"x\":[4.209879398345947,-21.065475463867188,10.069313049316406,-1.0732451677322388,1.4541280269622803,4.706270694732666,-3.789060354232788,3.079120397567749,5.550151824951172,3.6420013904571533,-14.653984069824219,6.215211868286133,3.904100179672241,6.198660850524902,6.198660850524902,-4.950278282165527,3.07912278175354,-12.753560066223145,-4.204826831817627,2.6864194869995117,3.091916561126709,4.469376087188721,2.3374383449554443,-23.61681365966797,-12.611624717712402,24.7891902923584,3.1690077781677246,3.4843828678131104,-22.749284744262695,37.97050094604492,24.7891902923584,-5.185661792755127,5.253016471862793,8.442704200744629,3.091916561126709,9.311667442321777,4.985754013061523,4.824395656585693],\"xaxis\":\"x\",\"y\":[14.868087768554688,-3.3834471702575684,3.8517608642578125,-18.902708053588867,16.10651397705078,5.826128005981445,0.8115610480308533,16.02349853515625,-19.62818717956543,16.09383773803711,-9.465492248535156,0.2986375093460083,15.075719833374023,-18.808530807495117,-18.808530807495117,0.4845729172229767,16.02349281311035,-9.29629898071289,0.233053520321846,-16.73554801940918,13.85439395904541,5.952118396759033,16.96647071838379,-1.6450624465942383,-8.775835037231445,3.8759381771087646,16.7407283782959,16.81418800354004,-1.181156873703003,5.822498321533203,3.8759381771087646,-14.309120178222656,-18.149768829345703,3.5238897800445557,13.85439395904541,4.622200965881348,-20.092979431152344,-19.76612663269043],\"yaxis\":\"y\",\"type\":\"scatter\"},{\"customdata\":[[7],[7],[7],[7],[7],[7],[7],[7],[7],[7],[7],[7],[7],[7],[7],[7],[7],[7],[7],[7],[7],[7],[7],[10],[10],[10],[10],[7],[7],[7],[7],[7],[7],[7],[7]],\"hovertemplate\":\"walk_id=3<br>x=%{x}<br>y=%{y}<br>best_topic_id=%{customdata[0]}<extra></extra>\",\"legendgroup\":\"3\",\"marker\":{\"color\":\"#ab63fa\",\"symbol\":\"circle\"},\"mode\":\"markers\",\"name\":\"3\",\"orientation\":\"v\",\"showlegend\":true,\"x\":[25.711721420288086,32.242183685302734,37.97050094604492,39.286773681640625,39.286773681640625,38.02125549316406,24.7891902923584,39.286773681640625,25.711721420288086,39.286773681640625,24.7891902923584,25.711721420288086,38.83235168457031,31.517772674560547,39.286773681640625,32.242183685302734,39.286773681640625,39.286773681640625,39.286773681640625,32.242183685302734,25.711721420288086,39.286773681640625,25.711721420288086,6.424100875854492,6.02597188949585,5.261916637420654,5.68627405166626,24.7891902923584,31.59368324279785,32.50651550292969,31.59368324279785,38.02125549316406,38.90769958496094,38.90769958496094,39.286773681640625],\"xaxis\":\"x\",\"y\":[3.2656784057617188,4.562798500061035,5.822498321533203,6.245429992675781,6.245429992675781,6.98909854888916,3.8759381771087646,6.245429992675781,3.2656784057617188,6.245429992675781,3.8759381771087646,3.2656784057617188,4.993973731994629,4.478482246398926,6.245429992675781,4.562798500061035,6.245429992675781,6.245429992675781,6.245429992675781,4.562798500061035,3.2656784057617188,6.245429992675781,3.2656784057617188,3.2787578105926514,3.264087677001953,1.7076921463012695,2.1617472171783447,3.8759381771087646,5.88175630569458,5.517065048217773,5.88175630569458,6.98909854888916,7.5457329750061035,7.5457329750061035,6.245429992675781],\"yaxis\":\"y\",\"type\":\"scatter\"},{\"customdata\":[[7],[10],[8],[8],[7],[8],[8],[8],[0],[8],[8],[9],[9],[9],[9],[10],[10],[10],[11],[9],[10],[11],[10],[10],[10],[10],[7],[10]],\"hovertemplate\":\"walk_id=4<br>x=%{x}<br>y=%{y}<br>best_topic_id=%{customdata[0]}<extra></extra>\",\"legendgroup\":\"4\",\"marker\":{\"color\":\"#FFA15A\",\"symbol\":\"circle\"},\"mode\":\"markers\",\"name\":\"4\",\"orientation\":\"v\",\"showlegend\":true,\"x\":[32.743961334228516,5.1546125411987305,-16.1816349029541,-16.271913528442383,39.286773681640625,-16.393085479736328,-17.099637985229492,-15.98051643371582,-3.5312469005584717,-15.345492362976074,-15.290583610534668,-13.873067855834961,-14.589006423950195,-14.457463264465332,-14.457463264465332,8.8444185256958,9.186933517456055,8.699488639831543,5.162637710571289,-16.02251434326172,7.29031229019165,5.277413368225098,8.82343864440918,11.330517768859863,11.617079734802246,11.617079734802246,25.711721420288086,9.917072296142578],\"xaxis\":\"x\",\"y\":[4.879095554351807,5.419336795806885,-10.265637397766113,-9.728846549987793,6.245429992675781,-10.382112503051758,-10.425857543945312,-10.615263938903809,-8.973929405212402,-9.901056289672852,-10.027828216552734,13.139148712158203,13.854256629943848,14.930981636047363,14.93098258972168,4.142440319061279,3.7849574089050293,0.9407166838645935,-8.828728675842285,15.734160423278809,3.8330001831054688,-9.42038631439209,1.6829754114151,0.17088425159454346,0.20436809957027435,0.2043685019016266,3.2656784057617188,4.100276947021484],\"yaxis\":\"y\",\"type\":\"scatter\"},{\"customdata\":[[7],[7],[7],[7],[11],[2],[7],[9],[9],[9],[9],[2],[9],[9],[9],[2],[7],[7],[7],[7],[7],[9],[0],[7],[1],[4],[11],[0],[0],[0],[2],[2],[9],[2],[1],[0],[2],[10],[0],[7],[0]],\"hovertemplate\":\"walk_id=5<br>x=%{x}<br>y=%{y}<br>best_topic_id=%{customdata[0]}<extra></extra>\",\"legendgroup\":\"5\",\"marker\":{\"color\":\"#19d3f3\",\"symbol\":\"circle\"},\"mode\":\"markers\",\"name\":\"5\",\"orientation\":\"v\",\"showlegend\":true,\"x\":[41.97722244262695,32.50651550292969,37.97050094604492,24.7891902923584,4.613302230834961,-5.266831874847412,27.732351303100586,-15.884475708007812,-14.57992172241211,-15.150008201599121,-15.160223960876465,-9.086138725280762,-15.602394104003906,-14.579899787902832,-14.947564125061035,-6.832726001739502,25.406452178955078,26.936269760131836,42.54294204711914,27.88174057006836,30.097951889038086,-14.583965301513672,-3.5312469005584717,31.59368324279785,-3.7268497943878174,3.9374334812164307,-2.6113102436065674,-22.309852600097656,-25.142549514770508,-23.264148712158203,-9.29517936706543,-9.829325675964355,-13.986095428466797,-8.848380088806152,-4.685662746429443,-3.0676350593566895,-4.806676387786865,8.844456672668457,-22.10809898376465,31.091289520263672,-25.5351505279541],\"xaxis\":\"x\",\"y\":[8.036437034606934,5.517065048217773,5.822498321533203,3.8759381771087646,-9.11741828918457,-22.76529312133789,0.104194775223732,15.125081062316895,16.123592376708984,16.341236114501953,15.7564115524292,-27.24782371520996,14.027095794677734,16.12358283996582,14.682875633239746,-24.001205444335938,5.471776485443115,4.875566482543945,7.437057018280029,0.3221112787723541,6.245739936828613,13.86243724822998,-8.973929405212402,5.88175630569458,0.5456164479255676,-17.6234130859375,-2.13071870803833,0.3897460699081421,-1.0529602766036987,-0.6816194653511047,-28.182819366455078,-27.1986026763916,15.52053165435791,-28.664968490600586,-0.3359740972518921,-8.129000663757324,-20.970460891723633,4.142370223999023,-0.27743688225746155,5.258698463439941,-1.3893001079559326],\"yaxis\":\"y\",\"type\":\"scatter\"},{\"customdata\":[[7],[7],[0],[0],[0],[7],[11],[8],[8],[1],[10],[0],[8],[2],[8],[5],[4],[5],[7],[8],[8],[10],[10],[0],[0],[0],[1],[9],[0],[0],[0],[10],[10],[1]],\"hovertemplate\":\"walk_id=6<br>x=%{x}<br>y=%{y}<br>best_topic_id=%{customdata[0]}<extra></extra>\",\"legendgroup\":\"6\",\"marker\":{\"color\":\"#FF6692\",\"symbol\":\"circle\"},\"mode\":\"markers\",\"name\":\"6\",\"orientation\":\"v\",\"showlegend\":true,\"x\":[32.50651550292969,31.59368324279785,-24.617568969726562,-24.57754135131836,-21.952146530151367,24.60297393798828,2.9274191856384277,-16.851648330688477,-16.851648330688477,-5.039104461669922,5.0133056640625,-21.92833137512207,-14.659960746765137,-7.693537712097168,-12.798971176147461,2.5281596183776855,4.568274974822998,1.7432259321212769,-4.522021293640137,-14.914860725402832,-15.983150482177734,9.746125221252441,9.87929916381836,-25.553953170776367,-3.0676350593566895,-24.23452377319336,-4.083199501037598,-15.632137298583984,-22.750843048095703,-21.501737594604492,-24.57754135131836,6.870389461517334,7.809079170227051,-4.572900772094727],\"xaxis\":\"x\",\"y\":[5.517065048217773,5.88175630569458,-1.5674279928207397,-0.6981899738311768,0.7092509269714355,1.5675755739212036,-7.835565567016602,-10.85363483428955,-10.85363483428955,0.7760899066925049,1.66560697555542,-2.2017383575439453,-10.16988754272461,-25.380783081054688,-9.152982711791992,16.26469612121582,-18.389545440673828,14.409520149230957,-5.938830375671387,-8.743857383728027,-11.212661743164062,3.4188687801361084,4.391768932342529,-1.030904769897461,-8.129000663757324,-1.1540035009384155,-0.3270249664783478,15.58184814453125,-1.1798336505889893,-0.644101083278656,-0.6980472207069397,1.9987255334854126,2.509779930114746,1.6669961214065552],\"yaxis\":\"y\",\"type\":\"scatter\"},{\"customdata\":[[5],[8],[0],[0],[0],[8],[8],[0],[7],[0],[0],[7],[8],[2],[8],[7],[8],[8],[7],[8],[8],[7],[7],[8],[0],[0],[0],[0],[0],[0],[6],[0],[8],[7],[7],[8],[1],[8],[8],[7],[1],[7],[7],[3],[7]],\"hovertemplate\":\"walk_id=7<br>x=%{x}<br>y=%{y}<br>best_topic_id=%{customdata[0]}<extra></extra>\",\"legendgroup\":\"7\",\"marker\":{\"color\":\"#B6E880\",\"symbol\":\"circle\"},\"mode\":\"markers\",\"name\":\"7\",\"orientation\":\"v\",\"showlegend\":true,\"x\":[2.954928159713745,-15.28030014038086,-3.0676350593566895,-3.5312469005584717,-20.778234481811523,-15.591068267822266,-17.065126419067383,-24.281475067138672,24.7891902923584,-20.64979362487793,-20.649789810180664,24.74327850341797,-15.485651016235352,-7.800939559936523,-19.968442916870117,31.77025604248047,-16.719388961791992,-14.400842666625977,37.97050094604492,-15.591045379638672,-16.61855125427246,31.091289520263672,39.286773681640625,-16.28257179260254,-23.73360252380371,-23.838455200195312,-23.837989807128906,-23.521209716796875,-20.47338104248047,-25.31745719909668,-5.686544895172119,-20.79020118713379,-8.119275093078613,39.286773681640625,39.286773681640625,-14.725065231323242,-4.1309494972229,-15.790459632873535,-16.71939468383789,39.286773681640625,-3.61655855178833,24.7891902923584,24.7891902923584,-5.047512531280518,24.7891902923584],\"xaxis\":\"x\",\"y\":[17.30668830871582,-8.398913383483887,-8.129000663757324,-8.973929405212402,-4.208200454711914,-9.545390129089355,-10.198210716247559,-2.043501615524292,3.8759381771087646,-4.342541217803955,-4.342543601989746,2.7986106872558594,-10.455547332763672,-21.594192504882812,-5.053576946258545,5.103315353393555,-9.73465347290039,-8.416441917419434,5.822498321533203,-9.54539966583252,-11.17293930053711,5.258698463439941,6.245429992675781,-11.24825668334961,0.10639634728431702,-0.18017631769180298,-0.055782824754714966,-2.3553619384765625,-4.517405986785889,-1.694427728652954,38.146339416503906,-4.2153706550598145,-20.813377380371094,6.245429992675781,6.245429992675781,-10.99880599975586,-0.34060007333755493,-10.996706008911133,-9.734663963317871,6.245429992675781,1.0483076572418213,3.8759381771087646,3.8759381771087646,-12.891871452331543,3.8759381771087646],\"yaxis\":\"y\",\"type\":\"scatter\"},{\"customdata\":[[1],[11],[11],[11],[11],[1],[1],[11],[11],[1],[1],[1],[1],[11],[2],[2],[2],[11],[2],[2],[2],[5],[7],[5],[5],[2],[5],[2],[0],[2],[1],[2],[7],[2],[2],[2],[2],[2],[2],[2],[2],[5],[9],[5],[5]],\"hovertemplate\":\"walk_id=8<br>x=%{x}<br>y=%{y}<br>best_topic_id=%{customdata[0]}<extra></extra>\",\"legendgroup\":\"8\",\"marker\":{\"color\":\"#FF97FF\",\"symbol\":\"circle\"},\"mode\":\"markers\",\"name\":\"8\",\"orientation\":\"v\",\"showlegend\":true,\"x\":[-4.492351531982422,5.745627403259277,5.122848033905029,5.2334980964660645,3.7049896717071533,-4.042597770690918,-4.727024555206299,4.566944122314453,5.608333587646484,-4.042597770690918,-4.932491302490234,-4.042597770690918,-5.092270374298096,2.9065871238708496,-9.605345726013184,-9.213691711425781,-9.91490364074707,3.142735004425049,-9.460479736328125,-10.007624626159668,-4.954809665679932,2.1719954013824463,32.50651550292969,2.6447970867156982,1.6530522108078003,-8.027286529541016,1.4370321035385132,0.9782772660255432,-3.5312469005584717,-9.09146499633789,-4.418783187866211,-8.252784729003906,38.02125549316406,-9.81999683380127,-8.335273742675781,-8.528979301452637,-9.481779098510742,-7.855779647827148,-9.254793167114258,-7.003947734832764,-6.831877708435059,22.884124755859375,-14.350092887878418,0.5191584825515747,3.3015198707580566],\"xaxis\":\"x\",\"y\":[0.5321276187896729,-8.544323921203613,-8.77198600769043,-8.163090705871582,-9.719711303710938,1.4088093042373657,1.4742387533187866,-8.372087478637695,-9.31194019317627,1.4088093042373657,1.2817264795303345,1.4088093042373657,1.0410417318344116,-9.152563095092773,-28.6206111907959,-28.68453025817871,-28.294755935668945,-8.048803329467773,-26.437206268310547,-27.961837768554688,-24.25775718688965,14.956352233886719,5.517065048217773,17.358903884887695,15.551222801208496,-26.091548919677734,13.359596252441406,12.300481796264648,-8.973929405212402,-26.195728302001953,0.8456054329872131,-27.321210861206055,6.98909854888916,-27.2342586517334,-28.051715850830078,-28.53864860534668,-27.812179565429688,-27.491762161254883,-25.96693992614746,-25.86478042602539,-23.994129180908203,4.6643524169921875,14.004463195800781,14.839468955993652,17.08717918395996],\"yaxis\":\"y\",\"type\":\"scatter\"},{\"customdata\":[[7],[5],[5],[5],[5],[7],[5],[2],[5],[2],[5],[7],[0],[7],[9],[1],[5],[5],[9],[9],[9],[9],[9],[7],[7]],\"hovertemplate\":\"walk_id=9<br>x=%{x}<br>y=%{y}<br>best_topic_id=%{customdata[0]}<extra></extra>\",\"legendgroup\":\"9\",\"marker\":{\"color\":\"#FECB52\",\"symbol\":\"circle\"},\"mode\":\"markers\",\"name\":\"9\",\"orientation\":\"v\",\"showlegend\":true,\"x\":[41.83863830566406,2.822129726409912,2.1719980239868164,-0.1102168932557106,1.9034343957901,39.286773681640625,1.5209769010543823,-8.297881126403809,1.4358152151107788,-8.327116966247559,2.526890993118286,39.286773681640625,-3.5312469005584717,39.286773681640625,-13.526941299438477,-2.949101448059082,2.3876571655273438,0.5086180567741394,-15.338172912597656,-14.947561264038086,-13.463909149169922,-15.045445442199707,-13.187972068786621,23.30194664001465,42.46137619018555],\"xaxis\":\"x\",\"y\":[8.137622833251953,15.609892845153809,14.956324577331543,14.784966468811035,16.307165145874023,6.245429992675781,13.093658447265625,-26.207256317138672,13.011116981506348,-26.38896369934082,16.264781951904297,6.245429992675781,-8.973929405212402,6.245429992675781,14.432328224182129,-1.655854344367981,15.767526626586914,14.947469711303711,15.096776962280273,14.682878494262695,14.397561073303223,12.52981948852539,14.208699226379395,2.72078537940979,7.822319030761719],\"yaxis\":\"y\",\"type\":\"scatter\"},{\"customdata\":[[6],[6],[6],[6],[6],[6],[6],[6],[6],[6],[6],[6],[6],[6],[6],[6],[6],[6],[6],[6],[6],[6],[6],[6],[6],[6],[6],[6],[6],[6],[6],[6],[6],[6],[6],[6],[6],[6],[6],[6],[6],[6],[6],[6],[6]],\"hovertemplate\":\"walk_id=10<br>x=%{x}<br>y=%{y}<br>best_topic_id=%{customdata[0]}<extra></extra>\",\"legendgroup\":\"10\",\"marker\":{\"color\":\"#636efa\",\"symbol\":\"circle\"},\"mode\":\"markers\",\"name\":\"10\",\"orientation\":\"v\",\"showlegend\":true,\"x\":[-8.90992259979248,-10.551863670349121,-7.828643321990967,-9.92372989654541,-8.427518844604492,-5.904730796813965,-5.961349964141846,-6.7333831787109375,-9.316349983215332,-9.055403709411621,-10.598883628845215,-7.409670829772949,-7.790322303771973,-6.546358108520508,-8.427518844604492,-7.139432907104492,-7.409670829772949,-9.055403709411621,-6.7333831787109375,-9.99321174621582,-9.92372989654541,-7.828643321990967,-6.546358108520508,-7.828643321990967,-9.055403709411621,-6.7333831787109375,-9.994782447814941,-9.055403709411621,-8.133119583129883,-9.790450096130371,-9.055403709411621,-5.973721981048584,-9.994782447814941,-9.790450096130371,-8.963512420654297,-9.994782447814941,-7.828643321990967,-5.949739933013916,-10.788516998291016,-8.133217811584473,-5.909633159637451,-9.994782447814941,-8.90992259979248,-10.680264472961426,-9.196268081665039],\"xaxis\":\"x\",\"y\":[39.75699996948242,38.974483489990234,41.658145904541016,39.66756057739258,42.16917037963867,40.06201171875,38.61646270751953,42.301918029785156,38.85382080078125,40.802791595458984,38.36335372924805,43.136268615722656,42.58845138549805,43.22556686401367,42.16917037963867,42.80453872680664,43.136268615722656,40.802791595458984,42.301918029785156,38.31301498413086,39.66756057739258,41.658145904541016,43.22556686401367,41.658145904541016,40.802791595458984,42.301918029785156,40.52389144897461,40.802791595458984,40.84385299682617,39.01395034790039,40.802791595458984,42.786643981933594,40.52389144897461,39.01395034790039,41.663875579833984,40.52389144897461,41.658145904541016,38.88352966308594,39.201995849609375,40.84407043457031,40.023353576660156,40.52389144897461,39.75699996948242,39.695308685302734,39.88149642944336],\"yaxis\":\"y\",\"type\":\"scatter\"}],                        {\"template\":{\"data\":{\"bar\":[{\"error_x\":{\"color\":\"#2a3f5f\"},\"error_y\":{\"color\":\"#2a3f5f\"},\"marker\":{\"line\":{\"color\":\"#E5ECF6\",\"width\":0.5},\"pattern\":{\"fillmode\":\"overlay\",\"size\":10,\"solidity\":0.2}},\"type\":\"bar\"}],\"barpolar\":[{\"marker\":{\"line\":{\"color\":\"#E5ECF6\",\"width\":0.5},\"pattern\":{\"fillmode\":\"overlay\",\"size\":10,\"solidity\":0.2}},\"type\":\"barpolar\"}],\"carpet\":[{\"aaxis\":{\"endlinecolor\":\"#2a3f5f\",\"gridcolor\":\"white\",\"linecolor\":\"white\",\"minorgridcolor\":\"white\",\"startlinecolor\":\"#2a3f5f\"},\"baxis\":{\"endlinecolor\":\"#2a3f5f\",\"gridcolor\":\"white\",\"linecolor\":\"white\",\"minorgridcolor\":\"white\",\"startlinecolor\":\"#2a3f5f\"},\"type\":\"carpet\"}],\"choropleth\":[{\"colorbar\":{\"outlinewidth\":0,\"ticks\":\"\"},\"type\":\"choropleth\"}],\"contour\":[{\"colorbar\":{\"outlinewidth\":0,\"ticks\":\"\"},\"colorscale\":[[0.0,\"#0d0887\"],[0.1111111111111111,\"#46039f\"],[0.2222222222222222,\"#7201a8\"],[0.3333333333333333,\"#9c179e\"],[0.4444444444444444,\"#bd3786\"],[0.5555555555555556,\"#d8576b\"],[0.6666666666666666,\"#ed7953\"],[0.7777777777777778,\"#fb9f3a\"],[0.8888888888888888,\"#fdca26\"],[1.0,\"#f0f921\"]],\"type\":\"contour\"}],\"contourcarpet\":[{\"colorbar\":{\"outlinewidth\":0,\"ticks\":\"\"},\"type\":\"contourcarpet\"}],\"heatmap\":[{\"colorbar\":{\"outlinewidth\":0,\"ticks\":\"\"},\"colorscale\":[[0.0,\"#0d0887\"],[0.1111111111111111,\"#46039f\"],[0.2222222222222222,\"#7201a8\"],[0.3333333333333333,\"#9c179e\"],[0.4444444444444444,\"#bd3786\"],[0.5555555555555556,\"#d8576b\"],[0.6666666666666666,\"#ed7953\"],[0.7777777777777778,\"#fb9f3a\"],[0.8888888888888888,\"#fdca26\"],[1.0,\"#f0f921\"]],\"type\":\"heatmap\"}],\"heatmapgl\":[{\"colorbar\":{\"outlinewidth\":0,\"ticks\":\"\"},\"colorscale\":[[0.0,\"#0d0887\"],[0.1111111111111111,\"#46039f\"],[0.2222222222222222,\"#7201a8\"],[0.3333333333333333,\"#9c179e\"],[0.4444444444444444,\"#bd3786\"],[0.5555555555555556,\"#d8576b\"],[0.6666666666666666,\"#ed7953\"],[0.7777777777777778,\"#fb9f3a\"],[0.8888888888888888,\"#fdca26\"],[1.0,\"#f0f921\"]],\"type\":\"heatmapgl\"}],\"histogram\":[{\"marker\":{\"pattern\":{\"fillmode\":\"overlay\",\"size\":10,\"solidity\":0.2}},\"type\":\"histogram\"}],\"histogram2d\":[{\"colorbar\":{\"outlinewidth\":0,\"ticks\":\"\"},\"colorscale\":[[0.0,\"#0d0887\"],[0.1111111111111111,\"#46039f\"],[0.2222222222222222,\"#7201a8\"],[0.3333333333333333,\"#9c179e\"],[0.4444444444444444,\"#bd3786\"],[0.5555555555555556,\"#d8576b\"],[0.6666666666666666,\"#ed7953\"],[0.7777777777777778,\"#fb9f3a\"],[0.8888888888888888,\"#fdca26\"],[1.0,\"#f0f921\"]],\"type\":\"histogram2d\"}],\"histogram2dcontour\":[{\"colorbar\":{\"outlinewidth\":0,\"ticks\":\"\"},\"colorscale\":[[0.0,\"#0d0887\"],[0.1111111111111111,\"#46039f\"],[0.2222222222222222,\"#7201a8\"],[0.3333333333333333,\"#9c179e\"],[0.4444444444444444,\"#bd3786\"],[0.5555555555555556,\"#d8576b\"],[0.6666666666666666,\"#ed7953\"],[0.7777777777777778,\"#fb9f3a\"],[0.8888888888888888,\"#fdca26\"],[1.0,\"#f0f921\"]],\"type\":\"histogram2dcontour\"}],\"mesh3d\":[{\"colorbar\":{\"outlinewidth\":0,\"ticks\":\"\"},\"type\":\"mesh3d\"}],\"parcoords\":[{\"line\":{\"colorbar\":{\"outlinewidth\":0,\"ticks\":\"\"}},\"type\":\"parcoords\"}],\"pie\":[{\"automargin\":true,\"type\":\"pie\"}],\"scatter\":[{\"marker\":{\"colorbar\":{\"outlinewidth\":0,\"ticks\":\"\"}},\"type\":\"scatter\"}],\"scatter3d\":[{\"line\":{\"colorbar\":{\"outlinewidth\":0,\"ticks\":\"\"}},\"marker\":{\"colorbar\":{\"outlinewidth\":0,\"ticks\":\"\"}},\"type\":\"scatter3d\"}],\"scattercarpet\":[{\"marker\":{\"colorbar\":{\"outlinewidth\":0,\"ticks\":\"\"}},\"type\":\"scattercarpet\"}],\"scattergeo\":[{\"marker\":{\"colorbar\":{\"outlinewidth\":0,\"ticks\":\"\"}},\"type\":\"scattergeo\"}],\"scattergl\":[{\"marker\":{\"colorbar\":{\"outlinewidth\":0,\"ticks\":\"\"}},\"type\":\"scattergl\"}],\"scattermapbox\":[{\"marker\":{\"colorbar\":{\"outlinewidth\":0,\"ticks\":\"\"}},\"type\":\"scattermapbox\"}],\"scatterpolar\":[{\"marker\":{\"colorbar\":{\"outlinewidth\":0,\"ticks\":\"\"}},\"type\":\"scatterpolar\"}],\"scatterpolargl\":[{\"marker\":{\"colorbar\":{\"outlinewidth\":0,\"ticks\":\"\"}},\"type\":\"scatterpolargl\"}],\"scatterternary\":[{\"marker\":{\"colorbar\":{\"outlinewidth\":0,\"ticks\":\"\"}},\"type\":\"scatterternary\"}],\"surface\":[{\"colorbar\":{\"outlinewidth\":0,\"ticks\":\"\"},\"colorscale\":[[0.0,\"#0d0887\"],[0.1111111111111111,\"#46039f\"],[0.2222222222222222,\"#7201a8\"],[0.3333333333333333,\"#9c179e\"],[0.4444444444444444,\"#bd3786\"],[0.5555555555555556,\"#d8576b\"],[0.6666666666666666,\"#ed7953\"],[0.7777777777777778,\"#fb9f3a\"],[0.8888888888888888,\"#fdca26\"],[1.0,\"#f0f921\"]],\"type\":\"surface\"}],\"table\":[{\"cells\":{\"fill\":{\"color\":\"#EBF0F8\"},\"line\":{\"color\":\"white\"}},\"header\":{\"fill\":{\"color\":\"#C8D4E3\"},\"line\":{\"color\":\"white\"}},\"type\":\"table\"}]},\"layout\":{\"annotationdefaults\":{\"arrowcolor\":\"#2a3f5f\",\"arrowhead\":0,\"arrowwidth\":1},\"autotypenumbers\":\"strict\",\"coloraxis\":{\"colorbar\":{\"outlinewidth\":0,\"ticks\":\"\"}},\"colorscale\":{\"diverging\":[[0,\"#8e0152\"],[0.1,\"#c51b7d\"],[0.2,\"#de77ae\"],[0.3,\"#f1b6da\"],[0.4,\"#fde0ef\"],[0.5,\"#f7f7f7\"],[0.6,\"#e6f5d0\"],[0.7,\"#b8e186\"],[0.8,\"#7fbc41\"],[0.9,\"#4d9221\"],[1,\"#276419\"]],\"sequential\":[[0.0,\"#0d0887\"],[0.1111111111111111,\"#46039f\"],[0.2222222222222222,\"#7201a8\"],[0.3333333333333333,\"#9c179e\"],[0.4444444444444444,\"#bd3786\"],[0.5555555555555556,\"#d8576b\"],[0.6666666666666666,\"#ed7953\"],[0.7777777777777778,\"#fb9f3a\"],[0.8888888888888888,\"#fdca26\"],[1.0,\"#f0f921\"]],\"sequentialminus\":[[0.0,\"#0d0887\"],[0.1111111111111111,\"#46039f\"],[0.2222222222222222,\"#7201a8\"],[0.3333333333333333,\"#9c179e\"],[0.4444444444444444,\"#bd3786\"],[0.5555555555555556,\"#d8576b\"],[0.6666666666666666,\"#ed7953\"],[0.7777777777777778,\"#fb9f3a\"],[0.8888888888888888,\"#fdca26\"],[1.0,\"#f0f921\"]]},\"colorway\":[\"#636efa\",\"#EF553B\",\"#00cc96\",\"#ab63fa\",\"#FFA15A\",\"#19d3f3\",\"#FF6692\",\"#B6E880\",\"#FF97FF\",\"#FECB52\"],\"font\":{\"color\":\"#2a3f5f\"},\"geo\":{\"bgcolor\":\"white\",\"lakecolor\":\"white\",\"landcolor\":\"#E5ECF6\",\"showlakes\":true,\"showland\":true,\"subunitcolor\":\"white\"},\"hoverlabel\":{\"align\":\"left\"},\"hovermode\":\"closest\",\"mapbox\":{\"style\":\"light\"},\"paper_bgcolor\":\"white\",\"plot_bgcolor\":\"#E5ECF6\",\"polar\":{\"angularaxis\":{\"gridcolor\":\"white\",\"linecolor\":\"white\",\"ticks\":\"\"},\"bgcolor\":\"#E5ECF6\",\"radialaxis\":{\"gridcolor\":\"white\",\"linecolor\":\"white\",\"ticks\":\"\"}},\"scene\":{\"xaxis\":{\"backgroundcolor\":\"#E5ECF6\",\"gridcolor\":\"white\",\"gridwidth\":2,\"linecolor\":\"white\",\"showbackground\":true,\"ticks\":\"\",\"zerolinecolor\":\"white\"},\"yaxis\":{\"backgroundcolor\":\"#E5ECF6\",\"gridcolor\":\"white\",\"gridwidth\":2,\"linecolor\":\"white\",\"showbackground\":true,\"ticks\":\"\",\"zerolinecolor\":\"white\"},\"zaxis\":{\"backgroundcolor\":\"#E5ECF6\",\"gridcolor\":\"white\",\"gridwidth\":2,\"linecolor\":\"white\",\"showbackground\":true,\"ticks\":\"\",\"zerolinecolor\":\"white\"}},\"shapedefaults\":{\"line\":{\"color\":\"#2a3f5f\"}},\"ternary\":{\"aaxis\":{\"gridcolor\":\"white\",\"linecolor\":\"white\",\"ticks\":\"\"},\"baxis\":{\"gridcolor\":\"white\",\"linecolor\":\"white\",\"ticks\":\"\"},\"bgcolor\":\"#E5ECF6\",\"caxis\":{\"gridcolor\":\"white\",\"linecolor\":\"white\",\"ticks\":\"\"}},\"title\":{\"x\":0.05},\"xaxis\":{\"automargin\":true,\"gridcolor\":\"white\",\"linecolor\":\"white\",\"ticks\":\"\",\"title\":{\"standoff\":15},\"zerolinecolor\":\"white\",\"zerolinewidth\":2},\"yaxis\":{\"automargin\":true,\"gridcolor\":\"white\",\"linecolor\":\"white\",\"ticks\":\"\",\"title\":{\"standoff\":15},\"zerolinecolor\":\"white\",\"zerolinewidth\":2}}},\"xaxis\":{\"anchor\":\"y\",\"domain\":[0.0,1.0],\"title\":{\"text\":\"x\"}},\"yaxis\":{\"anchor\":\"x\",\"domain\":[0.0,1.0],\"title\":{\"text\":\"y\"}},\"legend\":{\"title\":{\"text\":\"walk_id\"},\"tracegroupgap\":0},\"margin\":{\"t\":60},\"height\":800,\"width\":800},                        {\"responsive\": true}                    ).then(function(){\n                            \nvar gd = document.getElementById('29a3ad36-3d27-4e1b-a72f-1d0019794e82');\nvar x = new MutationObserver(function (mutations, observer) {{\n        var display = window.getComputedStyle(gd).display;\n        if (!display || display === 'none') {{\n            console.log([gd, 'removed!']);\n            Plotly.purge(gd);\n            observer.disconnect();\n        }}\n}});\n\n// Listen for the removal of the full notebook cells\nvar notebookContainer = gd.closest('#notebook-container');\nif (notebookContainer) {{\n    x.observe(notebookContainer, {childList: true});\n}}\n\n// Listen for the clearing of the current output cell\nvar outputEl = gd.closest('.output');\nif (outputEl) {{\n    x.observe(outputEl, {childList: true});\n}}\n\n                        })                };                });            </script>        </div>"
     },
     "metadata": {},
     "output_type": "display_data"
    }
   ],
   "source": [
    "import plotly.express as px\n",
    "\n",
    "fig = px.scatter(df, x='x', y='y', color='walk_id', hover_data=['best_topic_id'], width=800, height=800)\n",
    "fig.show()"
   ],
   "metadata": {
    "collapsed": false,
    "pycharm": {
     "name": "#%%\n"
    }
   }
  },
  {
   "cell_type": "code",
   "execution_count": null,
   "outputs": [],
   "source": [],
   "metadata": {
    "collapsed": false,
    "pycharm": {
     "name": "#%%\n"
    }
   }
  }
 ],
 "metadata": {
  "kernelspec": {
   "display_name": "Python 3",
   "language": "python",
   "name": "python3"
  },
  "language_info": {
   "codemirror_mode": {
    "name": "ipython",
    "version": 2
   },
   "file_extension": ".py",
   "mimetype": "text/x-python",
   "name": "python",
   "nbconvert_exporter": "python",
   "pygments_lexer": "ipython2",
   "version": "2.7.6"
  }
 },
 "nbformat": 4,
 "nbformat_minor": 0
}