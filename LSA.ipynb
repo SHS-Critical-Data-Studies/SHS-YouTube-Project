{
 "cells": [
  {
   "cell_type": "code",
   "execution_count": 15,
   "metadata": {
    "collapsed": true
   },
   "outputs": [],
   "source": [
    "import pickle\n",
    "\n",
    "import nltk\n",
    "import emoji\n",
    "import numpy as np\n",
    "import re\n",
    "\n",
    "import pandas as pd\n",
    "import scipy.sparse\n",
    "from nltk import WordNetLemmatizer\n",
    "from nltk.corpus import stopwords\n",
    "from sklearn.feature_extraction.text import TfidfVectorizer\n",
    "from sklearn.utils.extmath import randomized_svd\n",
    "\n",
    "en_stopwords = set(stopwords.words('english'))\n",
    "en_stopwords.update([s.capitalize() for s in stopwords.words('english')])\n",
    "\n",
    "fr_stopwords = set(stopwords.words('french'))\n",
    "fr_stopwords.update([s.capitalize() for s in stopwords.words('french')])"
   ]
  },
  {
   "cell_type": "markdown",
   "source": [
    "# Comments preprocessing pipeline"
   ],
   "metadata": {
    "collapsed": false
   }
  },
  {
   "cell_type": "markdown",
   "source": [
    "## Comment preprocessing"
   ],
   "metadata": {
    "collapsed": false
   }
  },
  {
   "cell_type": "code",
   "execution_count": 2,
   "outputs": [],
   "source": [
    "# Complete preprocessing\n",
    "def preprocess(comment):\n",
    "    \"\"\"\n",
    "    Preprocess a comment :\n",
    "        - remove numbers\n",
    "        - lower first letter of each sentence\n",
    "        - remove stopwords and words of 1 letter\n",
    "        - lower the words entirely in capital\n",
    "        - lemmatize\n",
    "        - remove again stopwords and words of 1 letter\n",
    "    :param comment: string containing the comment\n",
    "    :return: list of the tokens\n",
    "    \"\"\"\n",
    "    # Remove numbers\n",
    "    comment = re.sub(r'\\d+', '', comment)\n",
    "\n",
    "    # Lower first letter of each sentence\n",
    "    lower_first_word = lambda tab: ' '.join(tab[0].lower() + tab[1:])\n",
    "    comment = ' '.join([lower_first_word(sentence.split(' ')) for sentence in comment.split('.')])\n",
    "\n",
    "    # Tokenize by word\n",
    "    tokenizer = nltk.RegexpTokenizer(r'\\w+')\n",
    "    words_tokens = tokenizer.tokenize(comment)\n",
    "\n",
    "    # Remove stopwords and words of length 1\n",
    "    remove_stopwords = lambda wts: [w for w in wts if (not w in en_stopwords) and len(w) > 1]\n",
    "    words_tokens = remove_stopwords(words_tokens)\n",
    "\n",
    "    # Lower capital words\n",
    "    for i in range(len(words_tokens)):\n",
    "        if words_tokens[i].isupper():\n",
    "            words_tokens[i] = words_tokens[i].lower()\n",
    "\n",
    "    # Lemmatization with WordNet\n",
    "    lemmatizer = WordNetLemmatizer()\n",
    "    words_tokens = [lemmatizer.lemmatize(wt) for wt in words_tokens]\n",
    "\n",
    "    # Remove stopwords and words of length 1\n",
    "    words_tokens = remove_stopwords(words_tokens)\n",
    "\n",
    "    return words_tokens"
   ],
   "metadata": {
    "collapsed": false,
    "pycharm": {
     "name": "#%%\n"
    }
   }
  },
  {
   "cell_type": "code",
   "execution_count": 76,
   "outputs": [],
   "source": [
    "# Preprocessor and tokenizer to be used directly in TfidfVectorizer\n",
    "def preprocessor(comment):\n",
    "    \"\"\"\n",
    "    Preprocess a comment:\n",
    "        - remove numbers\n",
    "        - demojize the comment\n",
    "        - lower first letter of each sentence\n",
    "    :param comment: string containing the comment\n",
    "    :return: string containing the preprocessed comment\n",
    "    \"\"\"\n",
    "    # Remove numbers\n",
    "    comment = re.sub(r'\\d+', '', comment)\n",
    "\n",
    "    # Demojize the comment\n",
    "    comment = emoji.demojize(comment)\n",
    "\n",
    "    # Lower first letter of each sentence\n",
    "    lower_first_word = lambda tab: ' '.join([tab[0].lower()] + tab[1:])\n",
    "    comment = ' '.join([lower_first_word(sentence.split(' ')) for sentence in comment.split('.')])\n",
    "\n",
    "    return comment\n",
    "\n",
    "def tokenizer(comment):\n",
    "    \"\"\"\n",
    "    Tokenize and process the tokens of a comment :\n",
    "        - tokenize the comment by word\n",
    "        - remove stopwords and words of 1 letter\n",
    "        - lower the words entirely in capital\n",
    "        - lemmatize\n",
    "        - remove stopwords and words of 1 letter\n",
    "    :param comment: string containing the comment\n",
    "    :return: list of tokens for this comment\n",
    "    \"\"\"\n",
    "    # Tokenize by mot\n",
    "    tokenizer = nltk.RegexpTokenizer(r'\\w+|:\\w+:')\n",
    "    words_tokens = tokenizer.tokenize(comment)\n",
    "\n",
    "    # Remove stopwords and words of lenght 1\n",
    "    remove_stopwords = lambda wts: [w for w in wts if (not w in fr_stopwords) and len(w) > 1]\n",
    "    words_tokens = remove_stopwords(words_tokens)\n",
    "\n",
    "    # Lower capital words\n",
    "    for i in range(len(words_tokens)):\n",
    "        if words_tokens[i].isupper():\n",
    "            words_tokens[i] = words_tokens[i].lower()\n",
    "\n",
    "    # Lemmatization with WordNet\n",
    "    lemmatizer = WordNetLemmatizer()\n",
    "    words_tokens = [lemmatizer.lemmatize(wt) for wt in words_tokens]\n",
    "\n",
    "    # Remove stopwords and words of lenght 1\n",
    "    words_tokens = remove_stopwords(words_tokens)\n",
    "\n",
    "    return words_tokens"
   ],
   "metadata": {
    "collapsed": false,
    "pycharm": {
     "name": "#%%\n"
    }
   }
  },
  {
   "cell_type": "markdown",
   "source": [
    "## TF-IDF Matrix"
   ],
   "metadata": {
    "collapsed": false
   }
  },
  {
   "cell_type": "code",
   "execution_count": 77,
   "outputs": [],
   "source": [
    "# Load the data\n",
    "data = pd.read_csv('data/comments.csv', index_col=0)"
   ],
   "metadata": {
    "collapsed": false,
    "pycharm": {
     "name": "#%%\n"
    }
   }
  },
  {
   "cell_type": "code",
   "execution_count": 78,
   "outputs": [
    {
     "data": {
      "text/plain": "                                        channel_link      channel_name  \\\n0  https://www.youtube.com/channel/UCGRE-vFMetjgn...           No Name   \n1  https://www.youtube.com/channel/UCh259KSVuFzcq...               léa   \n2  https://www.youtube.com/channel/UC4pupP9eDgmtB...  Aurélie Manon FR   \n3  https://www.youtube.com/channel/UCyzr5c0CAxaGa...      Ethan Stähli   \n4  https://www.youtube.com/channel/UCGOLHrn4shwFq...       Emil Petrov   \n\n                                                text  nb_like  \n0  La RTS svp mettez le match entier sur Youtube ...     2300  \n1  Les meilleurs commentateurs, tout simplement! ...     2100  \n2  A 3-1 je suis partie défaitiste mais ce match ...     1400  \n3  Même des mois plus tard, chaques fois que je r...        9  \n4  Même si la suisse avait perdu, ce match rester...      777  ",
      "text/html": "<div>\n<style scoped>\n    .dataframe tbody tr th:only-of-type {\n        vertical-align: middle;\n    }\n\n    .dataframe tbody tr th {\n        vertical-align: top;\n    }\n\n    .dataframe thead th {\n        text-align: right;\n    }\n</style>\n<table border=\"1\" class=\"dataframe\">\n  <thead>\n    <tr style=\"text-align: right;\">\n      <th></th>\n      <th>channel_link</th>\n      <th>channel_name</th>\n      <th>text</th>\n      <th>nb_like</th>\n    </tr>\n  </thead>\n  <tbody>\n    <tr>\n      <th>0</th>\n      <td>https://www.youtube.com/channel/UCGRE-vFMetjgn...</td>\n      <td>No Name</td>\n      <td>La RTS svp mettez le match entier sur Youtube ...</td>\n      <td>2300</td>\n    </tr>\n    <tr>\n      <th>1</th>\n      <td>https://www.youtube.com/channel/UCh259KSVuFzcq...</td>\n      <td>léa</td>\n      <td>Les meilleurs commentateurs, tout simplement! ...</td>\n      <td>2100</td>\n    </tr>\n    <tr>\n      <th>2</th>\n      <td>https://www.youtube.com/channel/UC4pupP9eDgmtB...</td>\n      <td>Aurélie Manon FR</td>\n      <td>A 3-1 je suis partie défaitiste mais ce match ...</td>\n      <td>1400</td>\n    </tr>\n    <tr>\n      <th>3</th>\n      <td>https://www.youtube.com/channel/UCyzr5c0CAxaGa...</td>\n      <td>Ethan Stähli</td>\n      <td>Même des mois plus tard, chaques fois que je r...</td>\n      <td>9</td>\n    </tr>\n    <tr>\n      <th>4</th>\n      <td>https://www.youtube.com/channel/UCGOLHrn4shwFq...</td>\n      <td>Emil Petrov</td>\n      <td>Même si la suisse avait perdu, ce match rester...</td>\n      <td>777</td>\n    </tr>\n  </tbody>\n</table>\n</div>"
     },
     "execution_count": 78,
     "metadata": {},
     "output_type": "execute_result"
    }
   ],
   "source": [
    "data.head()"
   ],
   "metadata": {
    "collapsed": false,
    "pycharm": {
     "name": "#%%\n"
    }
   }
  },
  {
   "cell_type": "code",
   "execution_count": 79,
   "outputs": [],
   "source": [
    "comments = data['text'].tolist()"
   ],
   "metadata": {
    "collapsed": false,
    "pycharm": {
     "name": "#%%\n"
    }
   }
  },
  {
   "cell_type": "code",
   "execution_count": 80,
   "outputs": [
    {
     "data": {
      "text/plain": "['La RTS svp mettez le match entier sur Youtube c’est historique ! Liker en masse',\n \"Les meilleurs commentateurs, tout simplement! Leur émotion, leur sympathie et leur joie à toute épreuve font d'eux des trésors nationaux.\",\n \"A 3-1 je suis partie défaitiste mais ce match m'a donné la leçon de ma vie : ne jamais désespérer peu importe qui tu as en face de toi, continues à te battre. Merci mon pays de me rappeler les bases ce soir 🇨🇭\",\n 'Même des mois plus tard, chaques fois que je regarde ce match, je suis tellement contennntt, les sensations sont incroyable, la chaire de poule, le sourire\\nMerci la Nati️️',\n \"Même si la suisse avait perdu, ce match resterait magnifique. Intense du début à la fin, on a su revenir dans le dernier quart d'heure !\",\n 'J’ai vécu la soirée de sport la plus intense de toute ma vie. Lors du 3-1 j’étais sûr à 100% qu’on allait perdre. Merci pour tout c’était exceptionnel. Et l’ambiance dans les rues de Neuchâtel, de la pure folie.',\n 'INCROYABLE c’est tellement merité franchement repect aux Suisse! 🇨🇭🇨🇭🇨🇭\\nBravo a la france aussi évidemment \\nC’etait un magnifique match',\n 'Sûrement un des plus beau matches de l’histoire de l’equipe de Suisse 🇨🇭 HOPP SUISSEEEE',\n 'Personne ne remercie Granit alors je me permets de le faire. Bravo Xhaka ! Un vrai monstre !',\n \"L'un des plus beaux matchs que j'ai vu. Avec beaucoup d'émotion, dévouement, 2 équipes que prenaient leurs responsabilités. Juste magnifique. Je suis brésilien, j'aime le foot et depuis 2009 j'habite en suisse, j'adore ce pays(suisse) et cet equipe suisse m'a rendu les larmes aux yeux. Un match intense du debut à la fin. avec une equipe que sur le papier était inférieur, les suisses ont pu montré que quand on est sur le terrain, c'est la volonté et la résilience qui peuvent prendre le dessus sur les qualités techniques. Bravo la suisse.  Un match historique. J'espère que ça va motiver encore plus les nouvelles générations et aussi les sponsors. HOP SUISSE 🇨🇭🇨🇭🇨🇭. Merci la RTS. Mettez le match complet en ligne  svp. Et puis les commentateurs,  vraiment incroyable. On voyait que ça venait du fond du cœur. Soirée parfaite\",\n 'Vous avez été incroyable ce soir malgré le 3-1 vous avez remonté la pente en égalisant et gagner au penalty. ON A BATTU LES CHAMPIONS DU MONDE HOP SUISSE🇨🇭🇨🇭🇨🇭',\n \"Ramener les bleus à la maison, aller Sommer, aller !\\nQuel match, quel mental, j'y croyais plus honnêtement après le 3-1. Merci la Nati, et vive la Suisse 🇨🇭\",\n 'Les gens disent que la france a mal joué mais moi je dis que la Suisse a super bien joué, il en faut du courage et des nerfs d’aciers pour remonter un 3:1 et réussir à dévier le tir de la \"star mondiale\". 🇨🇭🇨🇭🇨🇭🇨🇭🇨🇭🇨🇭🇨🇭🇨🇭🇨🇭',\n 'Les autres matchs : 2 min de temps forts\\nSuisse - France : 13 minutes de temps fort.',\n \"Jamais je n'ai eu autant d'émotions lors d'un match de football, et ça me rend d'autant plus fier d'être suisse🇨🇭🇨🇭🇨🇭\",\n \"Félicitations à la Suisse de la part d'un français ! C'était vraiment un magnifique match.\",\n \"3ème fois que je regarde ce résumé, j'en reviens toujours pas. Quel match ! Quel exploit ! Tout simplement historique, merci l'équipe Suisse.\",\n \"Le match le foot le plus émouvant que je n'ai jamais regardé..je le raconterai dans 20 ans à mes enfants..quelles émotions après tant d'années d'attente et de frustration! Juste merci à cette équipe qui n'a jamais abandonné et ces commentaires qui donnent des frissons!\",\n 'C’était un match pour l’histoire et avec ces deux commentateurs c’était magnifique 🇨🇭️',\n \"Un match magnifique!\\nSommer est le best selon moi! Il a fait plusieurs arrêts décisifs et a qualifié la Suisse!\\nSuspense de ouf ce match! \\nC'était énorme !\",\n 'Finalment la Suisse a montré ses efforts payés dans ce match contre une équipe assez forte comme la France. Continuez comme ça 🇨🇭',\n 'Le match le plus stressant et magnifique de tout l’euro pour l’instant. Un petit pas pour les autres un énorme pour la Suisse.',\n 'Les larmes aux yeux devant l’écran, incroyables commentateurs et meilleur match de tout les temps  ️️️️',\n \"Franchement on en a presque les larmes aux yeux.\\n\\nC'est fou à quel point le sport (en général) peut vous provoquer de sacrés émotions !! C'est des images qu'on pourra voir et revoir sans s'en lasser, même des années après.\",\n 'Match inoubliable….le plus beau à mes yeux.\\nMerci les joueurs pour votre exploit.\\nJuste fou.',\n 'Tout simplement incroyable! HISTORIQUE! Merci aux joueurs qui ont absolument tout donné!! Soirée de rêve!',\n \"Bravo aux suisses, de vrais guerrier! Remonter à 3-3 il en faut dans le slibard. \\nUne défense solides et des buts confiants. \\nJ'aime bien cette coupe. Suisse, Danemark, rep.tchèque: place aux autres pour une fois!\",\n 'Cette année j’avais décidé de ne plus regarder les matchs ce soir j ai quand même regarder et c est le plus beau match que j ai vue depuis 24 ans d’existence',\n 'Je regarde les goals 3 fois par jours depuis ce match c ouf ️️🇨🇭🇨🇭',\n \"J'vous jure c'est la 10ème fois que je regarde cette vidéo, à chaque fois elle me met les larmes aux yeux tellement c'est magnifique\",\n \"Merci du plus profond de mon cœur à la Nati ! 30 ans que j'attendais ça .....\",\n \"j'ai absolument ADORÉ les commentateurs suisses. Je ne croyais pas un seul instant que nous allions gagner, quel match incroyable. J'ai vraiment mal au cœur pour Mbappe en revanche. C'est triste que ça ait dû se jouer à un tir au but mais à part ça c'était magnifique.\",\n 'Je ne suis pas du tout foot mais j’ai regardé et franchement, c’était mieux qu’un bon thriller!\\nBravo à la Suisse! J’ai trouvé génial!\\nJ’avais lu avant la rencontre (sur une page française évidemment): « La Suisse, cette petite formalité ».. Et victoire!',\n \"Les larmes de joie infinie <3 ! Merci la Suisse ! Bravo Bravo c'était un magnifique match des deux coté ! Incroyable !!!\",\n 'Merci a ces commentateurs magnifiques! 🇨🇭🇨🇭🇨🇭\\nQuel match!!',\n \"Même si j'suis français (habitant en suisse) j'peux que m'incliner devant la performance! Match extraordinaire!\",\n 'Le matchs était beau et ils ont gagné que demander de plus? Bravo à eux🇨🇭\\nPs: on a les meilleurs commentateurs',\n 'Mais quel magnifique spectacle que ces deux équipes nous ont offert !! La Nati a montré une assurance et un mental à tout épreuve ! Big up pour la Suisse',\n 'Meilleur match de l’euro pour moi, c’était très riche en émotions.',\n \"C'est une victoire entièrement méritée! Félicitations aux Suisses pour la force de leur mental!\",\n \"Les commentateurs sont géniaux. Bravo à la Suisse pour ce super match de la part d'un supporter français et aux deux équipes pour ce super spectacle.\",\n \"J'en reviens toujours pas de ce qui s'est passé. Ce match m'a fait vibrer du début jusqu'à la fin, c'était juste incroyable tout le stress, la tension qu'on a pu ressentir. Personnellement je ne m'attendais pas à grand chose des Suisses, j'espérais au moins un but je leur demandait pas plus, et ils ont accompli l'impossible en battant les champions du monde, et grâce à ça on gagne notre place en quart de finale, place qui s'est joué sur des minuscules détails comme le penalty de Rodriguez, le but hors jeu, les tirs au but et surtout toutes ces occasions qui, dans les deux camps, ne sont pas passées loin de se concrétiser. D'ailleurs on a eu le droit à de magnifiques actions des deux côtés. Vraiment un match pimenté comme on en a pas souvent et une victoire célébrée comme si on avait gagné l'Euro hahaha\",\n 'Match très stressant et incroyablement beau.\\nVive la Suisse.🇨🇭🇨🇭🇨🇭',\n \"🇨🇭🇨🇭🇨🇭🇨🇭️️️ quelle leçon de vie, toute la pression était sur l'équipe de France, la Suisse n'avait rien à perdre, une très belle mentalité on peut tout remporter en pensant comme l'équipe nationale!!!!!!!!\",\n 'J’arrête pas de regarder en boucle encore!! Tellement le kiff!!',\n 'Ce match restera gravé dans ma memoire pour toujours !!!!',\n \"Le meilleur match de l'histoire des euros quelle émotion, simplement incroyable aller la suisse🇨🇭🇨🇭🇨🇭\",\n \"A 3-1 contre les champions du monde et 15 minutes restantes .On pensait vraiment que c'était fini et que le mental était en miette et pourtant les joueurs ont tout donnés et ont continués à se battre jusqu'au bout et ca c'est vraiment magnifique , tellement fier de la Nati\",\n 'Incroyable match, que des emotions tout le long, il faut absolument donner de la force à l’équipe suisse sur les réseaux pour qu’ils voient qu’on est avec eux !!!',\n 'Magnifique ! Quelle joie pour les supporters, pour l’entraîneur, les joueurs, les commentateurs. Depuis 1954, bravo aux joueurs qui se sont battus comme des lions, j’étais défaitiste suite au match contre l’Italie où on ne voyait aucune combativité mais là. J’espérais juste que les joueurs se battent même dans la défaite mais alors la. La RTS svp mettez ce match d’anthologie en intégralité sur Youtube ou mettez au moins l’intégralité de la célébration à la fin des tirs aux buts. Tellement de plaisir de voir ses joueurs réussir l’impossible. Merci aux commentateurs quand je vois ailleurs ceux qu’ils ont, j’ai juste envie de vous dire merci pour la joie et votre énergie. Quelque soit l’équipe, vous êtes heureux de voir du beau foot. Merci',\n 'Ce duo de commentateurs il est légendaire continuez comme ça ',\n '8:20 ET GOAL ET GOAL ET GOAL ET GOAL ET GOOOOOAAAAAAL !!!  Quel match quel match incroyable et émotionnel que nous on fait vivre ces 2 équipes  Yann Sommer meilleur gardien il a sut garder son sang-froid',\n 'De la part d un travailleur frontalier bravo aux suisses... Immemsement decu par l equipe de france bien sur mais remarquable performance des suisses, qui meritent leur qualif au terme d un match exceptionnel',\n \"j'ai fini torse nu et en pleurant. quel match mes amis quel match! c'est historique pour toutes les générations que de voir cette équipe éliminer les champions du monde pour enfin passer en 4ème de final.\",\n \"En tant qu'Espagnol né et vivant depuis toujours en Suisse, je peux vous dire que j'ai plus crié sur les buts Suisses (et le penalty décisif) que sur ceux de l'Espagne contre la Croatie :) J'ai explosé les tympans à ma copine à côté de moi hahaha ! C'était exceptionnel, émouvant, magique ! J'oublierai jamais ce match ! Et maintenant quoi qu'il arrive entre la Suisse et l'Espagne je serai content !\",\n 'Le but 3-3 de Mario Gavranovic est juste incroyable je trouve',\n 'Franchement chapeau bas à la suisse. Ce n’est pas volé bien au contraire. En tant qu’Italo-suisse je suis toujours fasciné de voir la rivalité entre ces 2 pays. Bravo pour ces 3 goals magnifiques, il y a de quoi se la péter. Par contre, je n’aimerais pas être français en suisse aujourd’hui ',\n \"Une belle leçon pour la Suisse. Elle n'aurait pas pu faire cet exploit sans les secondos pourtant souvent critiqués (surtout quand ça va mal). Alors big up à ts les joueurs suisses, qu'importe les origines.\",\n 'Une prestation S T R A T O S P H E R I Q U E !!!! Bravo les gars !!!! On ne les entendra plus pendant longtemps : POGBYE !!!!',\n \"C'est le genre de match qu'on peut passer dans les salles de cinéma au lieu d'un film! Plusieurs collaborateurs au bureau ont regardé 2 è 3 fois )))))))) Merci RTS\",\n 'Bravo les gars. Merci de nous avoir fait vibrer! HOP SUISSE! 🇨🇭',\n 'Légendaire, historique et juste incroyable. Les frissons persistent.',\n 'Match de l’Euro juste incroyable ️',\n \"Quel emotion simplement, magnifique bravo à à les joueurs ils se sont données jusqu'à la fin🇨🇭🇨🇭🇨🇭🇨🇭🇨🇭🇨🇭🇨🇭🇨🇭🇨🇭🇨🇭️️️️️️️️️️️Ma deuxième patrie\",\n \"Quel match, j'en regarde encore les temps forts merci pour ces moments UNIQUES pourvu que les sensations soient toutes aussi intenses vendredi contre l'Espagne, un moment historique mais continuons d'écrire l'histoire, we can do it  ! CH <3\",\n 'au tant qu’Albanais je suis encore fier de cette incroyable équipe de Suisse. Ce match restera gravé dans mon coeur !!!',\n \"Messieurs les commentateurs, vous avez été superbes. Merci d'avoir animé la meilleure soirée footballistique de ma vie \",\n 'MATCH DE LA DÉCENNIE :\\n \" David qui bat Goliath\"\\nBravo aux suisses!',\n 'Jamais je n’oublierais cette soirée . Jamais.',\n 'Je stresse encore en revoyant ce magnifique match. \\nCe match est aussi une leçon de vie : ne jamais baisser la tête tant que c’est pas fini. \\nMerci à tous les joueurs de la NATI même si Rodriguez qui a loupé son penalty . \\nAu passage : Sommer est un monstre',\n 'Le plus beau match de la Suisse...et je suis Francais...victoire méritée et je pense que meme si la France avait mis 9 buts ce soir là, la Suisse en aurait mis 10...incroyable bravo',\n \"J'en reviens pas bordel ,big up à la Suisse. Incroyable\",\n 'UN MATCH À GRAVER DANS LE GRANIT ! L\\'émotion des chroniqueurs,le suspense,1solidarité à toutes épreuves à partir de Yann Sommer,1 mot,  \"magnifique\", à voir et revoir, MERCI ! 🇨🇭🇨🇭',\n \"LE PLUS BEAUX MATCH DE NOTRE PAYS DE TOUS LES TEMPS. NE JAMAIS ABANDONNER TOUT EST POSSIBLE à CELUI QUI CROIT, FIER D'ÊTRE SUISSE !!!!!!!!!!! GOD BLESS SWITZERLAND\",\n 'Meilleur match de l’Euro',\n 'This match was unbelievable! Well done both!!!',\n \"Quel jour de football. Si le match de l'Espagne a été magnifique cet autre a été encore meilleur. La Suisse a toujours cru que le miracle était possible. Je vous félicite, mes amis Suisses et nous nous verrons vendredi soir. J'espère que le match soit à l'hauteur. Et si on doit perdre, mieux contre la Suisse.\",\n \"Le plus incroyable match de l'équipe de suisse.\",\n \"c'est HISTORIQUE cela faisait depuis 1954 que nous n'avions pas atteint les 1/8 et je trouve que pour une fois c'est bien que la suisse gagne\",\n \"L'arrêt de sommer est impressionnant. Mbappé semble ne pas comprendre et le gardien essaie de justifier son superbe arrêt.\",\n \"Quel beau match 🇨🇭 les 2 équipes se sont très bien défendues mais la Suisse s'est démarquée pour le coup bravo bravo 🇨🇭\",\n 'Le meilleur match de cet euro !!! \\nForza Italia et hop Swiss ! 🇮🇹🇨🇭',\n 'Des commentateurs qui nous font vivre des émotions incroyables.. merci ^^',\n \"Sommer très solide , Akanji un monstre de serenité et de justesse , et que dire de Xhaka et Zuber qui ont été monstrueux également , bravo!! Et quand on joue comme ça , je suis confiant pour nos chances contre l'Espagne on peut allez plus loins encore ! 🇨🇭🇨🇭\",\n 'Ce qui est beau, c’est que j’y ai cru à cette victoire même à 3-1 j’ai continué d’y croire et maintenant qu’on l’a fait j’arrive toujours pas à y croire',\n \"Comment j'ai chialé après ce match merci la Suisse on est ensemble 🇨🇭️\",\n \"C'est  vraiment extraordinaire bravo les champions vous avez bien bossé rien à dire🇨🇲🇨🇭\",\n 'Magnifique match .meilleur équipe de Suisse depuis longtemps. Respect a ces joueurs au mental d acier ',\n \"Le plus beau match que j'ai vu de ma vie ! Merci pour tout, ma Suisse que j'aime.\",\n 'sur le but de Gavranovic le dernier \"et goaaaaaaaaaaaaal\" est juste magique ! 🇨🇭️',\n 'Juste un seul mot à dire : incroyable',\n \"Les commentaires sont parfaits! Tout comme mes larmes aux yeux! Le meilleur match de l'histoire de l'equipe de Suisse!\",\n 'Notre  Suisse joue un foot de grande qualité !!!\\n;) un plaisir a voir.\\nForça amigos 🇨🇭🇵🇹',\n '2:56 (Minute 56 du jeux): « on va encore vivre des émotions, croyez-moi. »\\nIl n’avait aucun idée combien d’émotions…',\n 'Devenu la routine d’aller regarder à nouveau ce match 🇨🇭',\n '08:17 Gavranovic qui met dans le vent Kimpembe. Rien que cette action valait le prix du billet ! 🇨🇭',\n 'LA FIERTE DETRE SUISSES🇨🇭🇨🇭🇨🇭',\n 'Quel match ! Pour moi, c’était ma finale personnelle de l’Euro 2020🇨🇭',\n 'Le 3-3 me procure plus d’émotions que l’arrêt de Sommer sur le pénalty de Mbappé.... Le OUI GAVRANOVIC à jamais dans ma mémoire.',\n 'Go Switzerland!\\nDo it like we did it in 2004!!\\nLove from Greece',\n 'La RTS svp mettez le match entier sur Youtube c’est historique ! Liker en masse',\n \"Les meilleurs commentateurs, tout simplement! Leur émotion, leur sympathie et leur joie à toute épreuve font d'eux des trésors nationaux.\",\n \"A 3-1 je suis partie défaitiste mais ce match m'a donné la leçon de ma vie : ne jamais désespérer peu importe qui tu as en face de toi, continues à te battre. Merci mon pays de me rappeler les bases ce soir 🇨🇭\",\n 'Même des mois plus tard, chaques fois que je regarde ce match, je suis tellement contennntt, les sensations sont incroyable, la chaire de poule, le sourire\\nMerci la Nati♥️♥️',\n \"Même si la suisse avait perdu, ce match resterait magnifique. Intense du début à la fin, on a su revenir dans le dernier quart d'heure !\",\n 'J’ai vécu la soirée de sport la plus intense de toute ma vie. Lors du 3-1 j’étais sûr à 100% qu’on allait perdre. Merci pour tout c’était exceptionnel. Et l’ambiance dans les rues de Neuchâtel, de la pure folie.',\n 'INCROYABLE c’est tellement merité franchement repect aux Suisse! 🇨🇭🇨🇭🇨🇭\\nBravo a la france aussi évidemment \\nC’etait un magnifique match',\n 'Sûrement un des plus beau matches de l’histoire de l’equipe de Suisse 🇨🇭 HOPP SUISSEEEE',\n 'Personne ne remercie Granit alors je me permets de le faire. Bravo Xhaka ! Un vrai monstre !',\n \"L'un des plus beaux matchs que j'ai vu. Avec beaucoup d'émotion, dévouement, 2 équipes que prenaient leurs responsabilités. Juste magnifique. Je suis brésilien, j'aime le foot et depuis 2009 j'habite en suisse, j'adore ce pays(suisse) et cet equipe suisse m'a rendu les larmes aux yeux. Un match intense du debut à la fin. avec une equipe que sur le papier était inférieur, les suisses ont pu montré que quand on est sur le terrain, c'est la volonté et la résilience qui peuvent prendre le dessus sur les qualités techniques. Bravo la suisse.  Un match historique. J'espère que ça va motiver encore plus les nouvelles générations et aussi les sponsors. HOP SUISSE 🇨🇭🇨🇭🇨🇭. Merci la RTS. Mettez le match complet en ligne  svp. Et puis les commentateurs,  vraiment incroyable. On voyait que ça venait du fond du cœur. Soirée parfaite\",\n 'Vous avez été incroyable ce soir malgré le 3-1 vous avez remonté la pente en égalisant et gagner au penalty. ON A BATTU LES CHAMPIONS DU MONDE HOP SUISSE🇨🇭🇨🇭🇨🇭',\n \"Ramener les bleus à la maison, aller Sommer, aller !\\nQuel match, quel mental, j'y croyais plus honnêtement après le 3-1. Merci la Nati, et vive la Suisse 🇨🇭\",\n 'Les gens disent que la france a mal joué mais moi je dis que la Suisse a super bien joué, il en faut du courage et des nerfs d’aciers pour remonter un 3:1 et réussir à dévier le tir de la \"star mondiale\". 🇨🇭🇨🇭🇨🇭🇨🇭🇨🇭🇨🇭🇨🇭🇨🇭🇨🇭',\n 'Les autres matchs : 2 min de temps forts\\nSuisse - France : 13 minutes de temps fort.',\n \"Jamais je n'ai eu autant d'émotions lors d'un match de football, et ça me rend d'autant plus fier d'être suisse🇨🇭🇨🇭🇨🇭\",\n \"Félicitations à la Suisse de la part d'un français ! C'était vraiment un magnifique match.\",\n \"3ème fois que je regarde ce résumé, j'en reviens toujours pas. Quel match ! Quel exploit ! Tout simplement historique, merci l'équipe Suisse.\",\n \"Le match le foot le plus émouvant que je n'ai jamais regardé..je le raconterai dans 20 ans à mes enfants..quelles émotions après tant d'années d'attente et de frustration! Juste merci à cette équipe qui n'a jamais abandonné et ces commentaires qui donnent des frissons!\",\n 'C’était un match pour l’histoire et avec ces deux commentateurs c’était magnifique 🇨🇭❤️',\n \"Un match magnifique!\\nSommer est le best selon moi! Il a fait plusieurs arrêts décisifs et a qualifié la Suisse!\\nSuspense de ouf ce match! \\nC'était énorme !\",\n 'Finalment la Suisse a montré ses efforts payés dans ce match contre une équipe assez forte comme la France. Continuez comme ça 🇨🇭',\n 'Le match le plus stressant et magnifique de tout l’euro pour l’instant. Un petit pas pour les autres un énorme pour la Suisse.',\n 'Les larmes aux yeux devant l’écran, incroyables commentateurs et meilleur match de tout les temps  ️️️️',\n \"Franchement on en a presque les larmes aux yeux.\\n\\nC'est fou à quel point le sport (en général) peut vous provoquer de sacrés émotions !! C'est des images qu'on pourra voir et revoir sans s'en lasser, même des années après.\",\n 'Match inoubliable….le plus beau à mes yeux.\\nMerci les joueurs pour votre exploit.\\nJuste fou.',\n 'Tout simplement incroyable! HISTORIQUE! Merci aux joueurs qui ont absolument tout donné!! Soirée de rêve!',\n \"Bravo aux suisses, de vrais guerrier! Remonter à 3-3 il en faut dans le slibard. \\nUne défense solides et des buts confiants. \\nJ'aime bien cette coupe. Suisse, Danemark, rep.tchèque: place aux autres pour une fois!\",\n 'Cette année j’avais décidé de ne plus regarder les matchs ce soir j ai quand même regarder et c est le plus beau match que j ai vue depuis 24 ans d’existence',\n 'Je regarde les goals 3 fois par jours depuis ce match c ouf ️️🇨🇭🇨🇭',\n \"J'vous jure c'est la 10ème fois que je regarde cette vidéo, à chaque fois elle me met les larmes aux yeux tellement c'est magnifique\",\n \"Merci du plus profond de mon cœur à la Nati ! 30 ans que j'attendais ça .....\",\n \"j'ai absolument ADORÉ les commentateurs suisses. Je ne croyais pas un seul instant que nous allions gagner, quel match incroyable. J'ai vraiment mal au cœur pour Mbappe en revanche. C'est triste que ça ait dû se jouer à un tir au but mais à part ça c'était magnifique.\",\n 'Je ne suis pas du tout foot mais j’ai regardé et franchement, c’était mieux qu’un bon thriller!\\nBravo à la Suisse! J’ai trouvé génial!\\nJ’avais lu avant la rencontre (sur une page française évidemment): « La Suisse, cette petite formalité ».. Et victoire!',\n \"Les larmes de joie infinie <3 ! Merci la Suisse ! Bravo Bravo c'était un magnifique match des deux coté ! Incroyable !!!\",\n 'Merci a ces commentateurs magnifiques! 🇨🇭🇨🇭🇨🇭\\nQuel match!!',\n \"Même si j'suis français (habitant en suisse) j'peux que m'incliner devant la performance! Match extraordinaire!\",\n 'Le matchs était beau et ils ont gagné que demander de plus? Bravo à eux🇨🇭\\nPs: on a les meilleurs commentateurs',\n 'Mais quel magnifique spectacle que ces deux équipes nous ont offert !! La Nati a montré une assurance et un mental à tout épreuve ! Big up pour la Suisse',\n 'Meilleur match de l’euro pour moi, c’était très riche en émotions.',\n \"C'est une victoire entièrement méritée! Félicitations aux Suisses pour la force de leur mental!\",\n \"Les commentateurs sont géniaux. Bravo à la Suisse pour ce super match de la part d'un supporter français et aux deux équipes pour ce super spectacle.\",\n \"J'en reviens toujours pas de ce qui s'est passé. Ce match m'a fait vibrer du début jusqu'à la fin, c'était juste incroyable tout le stress, la tension qu'on a pu ressentir. Personnellement je ne m'attendais pas à grand chose des Suisses, j'espérais au moins un but je leur demandait pas plus, et ils ont accompli l'impossible en battant les champions du monde, et grâce à ça on gagne notre place en quart de finale, place qui s'est joué sur des minuscules détails comme le penalty de Rodriguez, le but hors jeu, les tirs au but et surtout toutes ces occasions qui, dans les deux camps, ne sont pas passées loin de se concrétiser. D'ailleurs on a eu le droit à de magnifiques actions des deux côtés. Vraiment un match pimenté comme on en a pas souvent et une victoire célébrée comme si on avait gagné l'Euro hahaha\",\n 'Match très stressant et incroyablement beau.\\nVive la Suisse.🇨🇭🇨🇭🇨🇭',\n \"🇨🇭🇨🇭🇨🇭🇨🇭️️️ quelle leçon de vie, toute la pression était sur l'équipe de France, la Suisse n'avait rien à perdre, une très belle mentalité on peut tout remporter en pensant comme l'équipe nationale!!!!!!!!\",\n 'J’arrête pas de regarder en boucle encore!! Tellement le kiff!!',\n 'Ce match restera gravé dans ma memoire pour toujours !!!!',\n \"Le meilleur match de l'histoire des euros quelle émotion, simplement incroyable aller la suisse🇨🇭🇨🇭🇨🇭\",\n \"A 3-1 contre les champions du monde et 15 minutes restantes .On pensait vraiment que c'était fini et que le mental était en miette et pourtant les joueurs ont tout donnés et ont continués à se battre jusqu'au bout et ca c'est vraiment magnifique , tellement fier de la Nati\",\n 'Incroyable match, que des emotions tout le long, il faut absolument donner de la force à l’équipe suisse sur les réseaux pour qu’ils voient qu’on est avec eux !!!',\n 'Magnifique ! Quelle joie pour les supporters, pour l’entraîneur, les joueurs, les commentateurs. Depuis 1954, bravo aux joueurs qui se sont battus comme des lions, j’étais défaitiste suite au match contre l’Italie où on ne voyait aucune combativité mais là. J’espérais juste que les joueurs se battent même dans la défaite mais alors la. La RTS svp mettez ce match d’anthologie en intégralité sur Youtube ou mettez au moins l’intégralité de la célébration à la fin des tirs aux buts. Tellement de plaisir de voir ses joueurs réussir l’impossible. Merci aux commentateurs quand je vois ailleurs ceux qu’ils ont, j’ai juste envie de vous dire merci pour la joie et votre énergie. Quelque soit l’équipe, vous êtes heureux de voir du beau foot. Merci',\n 'Ce duo de commentateurs il est légendaire continuez comme ça ',\n '8:20 ET GOAL ET GOAL ET GOAL ET GOAL ET GOOOOOAAAAAAL !!!  Quel match quel match incroyable et émotionnel que nous on fait vivre ces 2 équipes  Yann Sommer meilleur gardien il a sut garder son sang-froid',\n 'De la part d un travailleur frontalier bravo aux suisses... Immemsement decu par l equipe de france bien sur mais remarquable performance des suisses, qui meritent leur qualif au terme d un match exceptionnel',\n \"j'ai fini torse nu et en pleurant. quel match mes amis quel match! c'est historique pour toutes les générations que de voir cette équipe éliminer les champions du monde pour enfin passer en 4ème de final.\",\n \"En tant qu'Espagnol né et vivant depuis toujours en Suisse, je peux vous dire que j'ai plus crié sur les buts Suisses (et le penalty décisif) que sur ceux de l'Espagne contre la Croatie :) J'ai explosé les tympans à ma copine à côté de moi hahaha ! C'était exceptionnel, émouvant, magique ! J'oublierai jamais ce match ! Et maintenant quoi qu'il arrive entre la Suisse et l'Espagne je serai content !\",\n 'Le but 3-3 de Mario Gavranovic est juste incroyable je trouve',\n 'Franchement chapeau bas à la suisse. Ce n’est pas volé bien au contraire. En tant qu’Italo-suisse je suis toujours fasciné de voir la rivalité entre ces 2 pays. Bravo pour ces 3 goals magnifiques, il y a de quoi se la péter. Par contre, je n’aimerais pas être français en suisse aujourd’hui ',\n \"Une belle leçon pour la Suisse. Elle n'aurait pas pu faire cet exploit sans les secondos pourtant souvent critiqués (surtout quand ça va mal). Alors big up à ts les joueurs suisses, qu'importe les origines.\",\n 'Une prestation S T R A T O S P H E R I Q U E !!!! Bravo les gars !!!! On ne les entendra plus pendant longtemps : POGBYE !!!!',\n \"C'est le genre de match qu'on peut passer dans les salles de cinéma au lieu d'un film! Plusieurs collaborateurs au bureau ont regardé 2 è 3 fois )))))))) Merci RTS\",\n 'Bravo les gars. Merci de nous avoir fait vibrer! HOP SUISSE! 🇨🇭',\n 'Légendaire, historique et juste incroyable. Les frissons persistent.',\n 'Match de l’Euro juste incroyable ️',\n \"Quel emotion simplement, magnifique bravo à à les joueurs ils se sont données jusqu'à la fin🇨🇭🇨🇭🇨🇭🇨🇭🇨🇭🇨🇭🇨🇭🇨🇭🇨🇭🇨🇭️️️️️️️️️️️Ma deuxième patrie\",\n \"Quel match, j'en regarde encore les temps forts merci pour ces moments UNIQUES pourvu que les sensations soient toutes aussi intenses vendredi contre l'Espagne, un moment historique mais continuons d'écrire l'histoire, we can do it  ! CH <3\",\n 'au tant qu’Albanais je suis encore fier de cette incroyable équipe de Suisse. Ce match restera gravé dans mon coeur !!!',\n \"Messieurs les commentateurs, vous avez été superbes. Merci d'avoir animé la meilleure soirée footballistique de ma vie \",\n 'MATCH DE LA DÉCENNIE :\\n \" David qui bat Goliath\"\\nBravo aux suisses!',\n 'Jamais je n’oublierais cette soirée . Jamais.',\n 'Je stresse encore en revoyant ce magnifique match. \\nCe match est aussi une leçon de vie : ne jamais baisser la tête tant que c’est pas fini. \\nMerci à tous les joueurs de la NATI même si Rodriguez qui a loupé son penalty . \\nAu passage : Sommer est un monstre',\n 'Le plus beau match de la Suisse...et je suis Francais...victoire méritée et je pense que meme si la France avait mis 9 buts ce soir là, la Suisse en aurait mis 10...incroyable bravo',\n \"J'en reviens pas bordel ,big up à la Suisse. Incroyable\",\n 'UN MATCH À GRAVER DANS LE GRANIT ! L\\'émotion des chroniqueurs,le suspense,1solidarité à toutes épreuves à partir de Yann Sommer,1 mot,  \"magnifique\", à voir et revoir, MERCI ! 🇨🇭🇨🇭',\n \"LE PLUS BEAUX MATCH DE NOTRE PAYS DE TOUS LES TEMPS. NE JAMAIS ABANDONNER TOUT EST POSSIBLE à CELUI QUI CROIT, FIER D'ÊTRE SUISSE !!!!!!!!!!! GOD BLESS SWITZERLAND\",\n 'Meilleur match de l’Euro',\n 'This match was unbelievable! Well done both!!!',\n \"Quel jour de football. Si le match de l'Espagne a été magnifique cet autre a été encore meilleur. La Suisse a toujours cru que le miracle était possible. Je vous félicite, mes amis Suisses et nous nous verrons vendredi soir. J'espère que le match soit à l'hauteur. Et si on doit perdre, mieux contre la Suisse.\",\n \"Le plus incroyable match de l'équipe de suisse.\",\n \"c'est HISTORIQUE cela faisait depuis 1954 que nous n'avions pas atteint les 1/8 et je trouve que pour une fois c'est bien que la suisse gagne\",\n \"L'arrêt de sommer est impressionnant. Mbappé semble ne pas comprendre et le gardien essaie de justifier son superbe arrêt.\",\n \"Quel beau match 🇨🇭 les 2 équipes se sont très bien défendues mais la Suisse s'est démarquée pour le coup bravo bravo 🇨🇭\",\n 'Le meilleur match de cet euro !!! \\nForza Italia et hop Swiss ! 🇮🇹🇨🇭',\n 'Des commentateurs qui nous font vivre des émotions incroyables.. merci ^^',\n \"Sommer très solide , Akanji un monstre de serenité et de justesse , et que dire de Xhaka et Zuber qui ont été monstrueux également , bravo!! Et quand on joue comme ça , je suis confiant pour nos chances contre l'Espagne on peut allez plus loins encore ! 🇨🇭🇨🇭\",\n 'Ce qui est beau, c’est que j’y ai cru à cette victoire même à 3-1 j’ai continué d’y croire et maintenant qu’on l’a fait j’arrive toujours pas à y croire',\n \"Comment j'ai chialé après ce match merci la Suisse on est ensemble 🇨🇭️\",\n \"C'est  vraiment extraordinaire bravo les champions vous avez bien bossé rien à dire🇨🇲🇨🇭\",\n 'Magnifique match .meilleur équipe de Suisse depuis longtemps. Respect a ces joueurs au mental d acier ',\n \"Le plus beau match que j'ai vu de ma vie ! Merci pour tout, ma Suisse que j'aime.\",\n 'sur le but de Gavranovic le dernier \"et goaaaaaaaaaaaaal\" est juste magique ! 🇨🇭️',\n 'Juste un seul mot à dire : incroyable',\n \"Les commentaires sont parfaits! Tout comme mes larmes aux yeux! Le meilleur match de l'histoire de l'equipe de Suisse!\",\n 'Notre  Suisse joue un foot de grande qualité !!!\\n;) un plaisir a voir.\\nForça amigos 🇨🇭🇵🇹',\n '2:56 (Minute 56 du jeux): « on va encore vivre des émotions, croyez-moi. »\\nIl n’avait aucun idée combien d’émotions…',\n 'Devenu la routine d’aller regarder à nouveau ce match 🇨🇭',\n '08:17 Gavranovic qui met dans le vent Kimpembe. Rien que cette action valait le prix du billet ! 🇨🇭',\n 'LA FIERTE DETRE SUISSES🇨🇭🇨🇭🇨🇭',\n 'Quel match ! Pour moi, c’était ma finale personnelle de l’Euro 2020🇨🇭',\n 'Le 3-3 me procure plus d’émotions que l’arrêt de Sommer sur le pénalty de Mbappé.... Le OUI GAVRANOVIC à jamais dans ma mémoire.',\n 'Go Switzerland!\\nDo it like we did it in 2004!!\\nLove from Greece']"
     },
     "execution_count": 80,
     "metadata": {},
     "output_type": "execute_result"
    }
   ],
   "source": [
    "comments"
   ],
   "metadata": {
    "collapsed": false,
    "pycharm": {
     "name": "#%%\n"
    }
   }
  },
  {
   "cell_type": "code",
   "execution_count": 81,
   "outputs": [],
   "source": [
    "# Vectorizer for TF-IDF\n",
    "tfidf_vectorizer = TfidfVectorizer(preprocessor=preprocessor, tokenizer=tokenizer)\n",
    "\n",
    "# Transform the comments corpus\n",
    "# into a sparse TF-IDF matrix\n",
    "tfidf_matrix = tfidf_vectorizer.fit_transform(comments)\n",
    "\n",
    "# Save the matrix\n",
    "scipy.sparse.save_npz('data/tfidf_comments.npz', tfidf_matrix)\n",
    "\n",
    "# Save the vocabulary : dict(term: feature index)\n",
    "with open('data/vocabulary.pickle', 'wb') as f:\n",
    "    pickle.dump(tfidf_vectorizer.vocabulary_, f)"
   ],
   "metadata": {
    "collapsed": false,
    "pycharm": {
     "name": "#%%\n"
    }
   }
  },
  {
   "cell_type": "markdown",
   "source": [
    "# Latent Semantic Analyis : SVD of the TF-IDF matrix"
   ],
   "metadata": {
    "collapsed": false
   }
  },
  {
   "cell_type": "code",
   "execution_count": 82,
   "outputs": [],
   "source": [
    "def project_SVD(X, dim=2, seed=0):\n",
    "    \"\"\"\n",
    "    Compute the truncated SVD of the matrix X, keeping\n",
    "    an approximation of rank dim (i.e. dim features\n",
    "    in the embedding)\n",
    "    :param X: TF-IDF sparse matrix\n",
    "    :param dim: rank of the truncated SVD\n",
    "    :param seed: seed for the random SVD\n",
    "    :return: Documents embedding, tokens embedding\n",
    "    \"\"\"\n",
    "    # Compute the truncated SVD\n",
    "    U, sigmas, Vt = randomized_svd(X, n_components=dim, random_state=seed)\n",
    "\n",
    "    # Tokens embeddings\n",
    "    X_emb = U @ np.diag(sigmas)\n",
    "\n",
    "    return X_emb, Vt"
   ],
   "metadata": {
    "collapsed": false,
    "pycharm": {
     "name": "#%%\n"
    }
   }
  },
  {
   "cell_type": "code",
   "execution_count": 83,
   "outputs": [],
   "source": [
    "def print_features_description(Vt, index_map, top_num=5):\n",
    "    \"\"\"\n",
    "    Print the most important tokens for each\n",
    "    features of the tokens embeddings.\n",
    "    :param Vt: tokens embedding\n",
    "    :param index_map: dict(feature index: terme)\n",
    "    :param top_num: number of tokens to print\n",
    "    :return: -\n",
    "    \"\"\"\n",
    "    for i in range(Vt.shape[0]):\n",
    "        sord_idx = np.argsort(Vt[i])\n",
    "        top_min_idx = sord_idx[:top_num]\n",
    "        top_max_idx = sord_idx[::-1][:top_num]\n",
    "        print(f'\\nThe top {top_num} max values for feature {i} are:')\n",
    "        for index in top_max_idx:\n",
    "            print(f'{index_map[index]:<30} {Vt[i,index]:.4f}')\n",
    "\n",
    "        print(f'\\nThe top {top_num} min values for feature {i} are:')\n",
    "        for index in top_min_idx:\n",
    "            print(f'{index_map[index]:<30} {Vt[i,index]:.4f}')\n",
    "\n",
    "        print(\"\\n\")"
   ],
   "metadata": {
    "collapsed": false,
    "pycharm": {
     "name": "#%%\n"
    }
   }
  },
  {
   "cell_type": "code",
   "execution_count": 84,
   "outputs": [],
   "source": [
    "X_emb, Vt = project_SVD(tfidf_matrix, dim=5)"
   ],
   "metadata": {
    "collapsed": false,
    "pycharm": {
     "name": "#%%\n"
    }
   }
  },
  {
   "cell_type": "code",
   "execution_count": 85,
   "outputs": [],
   "source": [
    "index_map = {v: k for k, v in tfidf_vectorizer.vocabulary_.items()}"
   ],
   "metadata": {
    "collapsed": false,
    "pycharm": {
     "name": "#%%\n"
    }
   }
  },
  {
   "cell_type": "code",
   "execution_count": 86,
   "outputs": [
    {
     "name": "stdout",
     "output_type": "stream",
     "text": [
      "\n",
      "The top 5 max values for feature 0 are:\n",
      ":Switzerland:                  0.6617\n",
      "match                          0.3043\n",
      "suisse                         0.1914\n",
      "Suisse                         0.1690\n",
      "incroyable                     0.1552\n",
      "\n",
      "The top 5 min values for feature 0 are:\n",
      "go                             0.0002\n",
      "Do                             0.0002\n",
      "Love                           0.0002\n",
      "like                           0.0002\n",
      "in                             0.0002\n",
      "\n",
      "\n",
      "\n",
      "The top 5 max values for feature 1 are:\n",
      ":Switzerland:                  0.6117\n",
      "detre                          0.0744\n",
      "fierte                         0.0744\n",
      "magnifiques                    0.0406\n",
      "joué                           0.0403\n",
      "\n",
      "The top 5 min values for feature 1 are:\n",
      "match                          -0.2596\n",
      "plus                           -0.2047\n",
      "Suisse                         -0.1891\n",
      "incroyable                     -0.1820\n",
      "équipe                         -0.1772\n",
      "\n",
      "\n",
      "\n",
      "The top 5 max values for feature 2 are:\n",
      "juste                          0.4797\n",
      "incroyable                     0.4134\n",
      "Euro                           0.3472\n",
      "but                            0.1930\n",
      "Gavranovic                     0.1815\n",
      "\n",
      "The top 5 min values for feature 2 are:\n",
      "Suisse                         -0.2180\n",
      "magnifique                     -0.1140\n",
      "Bravo                          -0.1108\n",
      ":switzerland:                  -0.1017\n",
      "commentateurs                  -0.0894\n",
      "\n",
      "\n",
      "\n",
      "The top 5 max values for feature 3 are:\n",
      "meilleur                       0.4170\n",
      "Euro                           0.3322\n",
      "match                          0.1725\n",
      "euro                           0.1608\n",
      "émotions                       0.1492\n",
      "\n",
      "The top 5 min values for feature 3 are:\n",
      "suisse                         -0.3371\n",
      "plus                           -0.1575\n",
      "incroyable                     -0.1247\n",
      "bravo                          -0.1206\n",
      "bien                           -0.1138\n",
      "\n",
      "\n",
      "\n",
      "The top 5 max values for feature 4 are:\n",
      "magnifique                     0.2574\n",
      "deux                           0.2373\n",
      "Suisse                         0.1833\n",
      "part                           0.1770\n",
      "Bravo                          0.1736\n",
      "\n",
      "The top 5 min values for feature 4 are:\n",
      "plus                           -0.2505\n",
      "émotions                       -0.2471\n",
      "jamais                         -0.1887\n",
      "merci                          -0.1553\n",
      "regarder                       -0.1374\n",
      "\n",
      "\n"
     ]
    }
   ],
   "source": [
    "print_features_description(Vt, index_map)"
   ],
   "metadata": {
    "collapsed": false,
    "pycharm": {
     "name": "#%%\n"
    }
   }
  },
  {
   "cell_type": "code",
   "execution_count": null,
   "outputs": [],
   "source": [],
   "metadata": {
    "collapsed": false,
    "pycharm": {
     "name": "#%%\n"
    }
   }
  }
 ],
 "metadata": {
  "kernelspec": {
   "display_name": "Python 3",
   "language": "python",
   "name": "python3"
  },
  "language_info": {
   "codemirror_mode": {
    "name": "ipython",
    "version": 2
   },
   "file_extension": ".py",
   "mimetype": "text/x-python",
   "name": "python",
   "nbconvert_exporter": "python",
   "pygments_lexer": "ipython2",
   "version": "2.7.6"
  }
 },
 "nbformat": 4,
 "nbformat_minor": 0
}