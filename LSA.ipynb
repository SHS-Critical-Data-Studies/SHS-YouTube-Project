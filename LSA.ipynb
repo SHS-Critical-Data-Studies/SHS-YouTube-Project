{
 "cells": [
  {
   "cell_type": "code",
   "execution_count": 4,
   "metadata": {
    "collapsed": true
   },
   "outputs": [
    {
     "data": {
      "text/plain": "<spacy_langdetect.spacy_langdetect.LanguageDetector at 0x7f07429f00d0>"
     },
     "execution_count": 4,
     "metadata": {},
     "output_type": "execute_result"
    }
   ],
   "source": [
    "import os\n",
    "\n",
    "import pickle\n",
    "\n",
    "import nltk\n",
    "import emoji\n",
    "import numpy as np\n",
    "import re\n",
    "\n",
    "import pandas as pd\n",
    "import scipy.sparse\n",
    "from nltk import WordNetLemmatizer\n",
    "from nltk.corpus import stopwords\n",
    "from sklearn.feature_extraction.text import TfidfVectorizer\n",
    "from sklearn.utils.extmath import randomized_svd\n",
    "\n",
    "en_stopwords = set(stopwords.words('english'))\n",
    "en_stopwords.update([s.capitalize() for s in stopwords.words('english')])\n",
    "\n",
    "#fr_stopwords = set(stopwords.words('french'))\n",
    "#fr_stopwords.update([s.capitalize() for s in stopwords.words('french')])\n",
    "\n",
    "import spacy\n",
    "from spacy_langdetect import LanguageDetector\n",
    "from spacy.language import Language\n",
    "\n",
    "@Language.factory('language_detector')\n",
    "def language_detector(nlp, name):\n",
    "    return LanguageDetector()\n",
    "\n",
    "nlp = spacy.load(\"en_core_web_sm\")\n",
    "nlp.add_pipe('language_detector', last=True)"
   ]
  },
  {
   "cell_type": "markdown",
   "source": [
    "# Comments preprocessing pipeline"
   ],
   "metadata": {
    "collapsed": false
   }
  },
  {
   "cell_type": "markdown",
   "source": [
    "## Loading data"
   ],
   "metadata": {
    "collapsed": false,
    "pycharm": {
     "name": "#%% md\n"
    }
   }
  },
  {
   "cell_type": "code",
   "execution_count": 61,
   "outputs": [],
   "source": [
    "def load_walk(path, mode):\n",
    "    \"\"\"\n",
    "    Load the data of a walk\n",
    "    :param path: path of the file\n",
    "    :param mode: what data to load\n",
    "    :return: dataframe containing the data of the walk\n",
    "    \"\"\"\n",
    "    use_cols = None\n",
    "    if mode == 'comments':\n",
    "        use_cols = range(1, 6)\n",
    "    elif mode == 'infos':\n",
    "        use_cols = range(1, 10)\n",
    "    else:\n",
    "        print('Mode not supported')\n",
    "        return\n",
    "    return pd.read_csv(path, compression='bz2', usecols=use_cols)\n",
    "\n",
    "\n",
    "def load_from_folder(folder, processing, mode):\n",
    "    \"\"\"\n",
    "    Load the comments of all the walks\n",
    "    present in the given folder\n",
    "    :param folder: folder containing the walks\n",
    "    :param processing: function that process each file of\n",
    "    the folder\n",
    "    :param mode: what data to load\n",
    "    :return: dataframe containing all the comments\n",
    "    \"\"\"\n",
    "    dfs = []\n",
    "    walks = 0\n",
    "\n",
    "    with os.scandir(folder) as it:\n",
    "        for entry in it:\n",
    "            if entry.name.endswith(f'{mode}.csv.bz2') and entry.is_file():\n",
    "                df = processing(os.path.join(folder, entry.name), walks)\n",
    "                dfs.append(df)\n",
    "                walks += 1\n",
    "\n",
    "    return pd.concat(dfs)\n",
    "\n",
    "\n",
    "def load_all_walks_comments(folder, keep_en):\n",
    "    \"\"\"\n",
    "    Load the comments of all the walks\n",
    "    present in the given folder\n",
    "    :param folder: folder containing the walks\n",
    "    :param keep_en: only keeps english comments\n",
    "    :return: dataframe containing all the comments\n",
    "    \"\"\"\n",
    "    def processing(path, walk):\n",
    "        df = load_walk(path, 'comments')\n",
    "        if keep_en:\n",
    "            df = df.loc[df['text'].apply(lambda x: nlp(str(x))._.language['language'] == 'en'), :]\n",
    "        df['walk'] = walk\n",
    "        return df\n",
    "\n",
    "    return load_from_folder(folder, processing, 'comments')\n",
    "\n",
    "def load_all_walks_tags(folder, keep_en):\n",
    "    \"\"\"\n",
    "    Load the tags of all the walks\n",
    "    present in the given folder\n",
    "    :param folder: folder containing the walks\n",
    "    :param keep_en: only keeps english tags\n",
    "    :return: dataframe containing all the tags\n",
    "    \"\"\"\n",
    "    def processing(path, walk):\n",
    "        df = load_walk(path, 'infos')\n",
    "        def process(tags):\n",
    "            res = []\n",
    "            for t in tags[1:-1].replace(\"'\", '').split(', '):\n",
    "                if keep_en:\n",
    "                    if nlp(str(t))._.language['language'] == 'en':\n",
    "                        res.append(t)\n",
    "                else:\n",
    "                    res.append(t)\n",
    "\n",
    "            return ' '.join(res) if len(res) > 0 else np.nan\n",
    "\n",
    "        df['keywords'] = df['keywords'].apply(process)\n",
    "        df['walk'] = walk\n",
    "        return df\n",
    "\n",
    "    return load_from_folder(folder, processing, 'infos')"
   ],
   "metadata": {
    "collapsed": false,
    "pycharm": {
     "name": "#%%\n"
    }
   }
  },
  {
   "cell_type": "markdown",
   "source": [
    "## Comment preprocessing"
   ],
   "metadata": {
    "collapsed": false
   }
  },
  {
   "cell_type": "code",
   "execution_count": 7,
   "outputs": [],
   "source": [
    "# Complete preprocessing\n",
    "def preprocess(comment):\n",
    "    \"\"\"\n",
    "    Preprocess a comment :\n",
    "        - remove numbers\n",
    "        - lower first letter of each sentence\n",
    "        - remove stopwords and words of 1 letter\n",
    "        - lower the words entirely in capital\n",
    "        - lemmatize\n",
    "        - remove again stopwords and words of 1 letter\n",
    "    :param comment: string containing the comment\n",
    "    :return: list of the tokens\n",
    "    \"\"\"\n",
    "    # Remove numbers\n",
    "    comment = re.sub(r'\\d+', '', comment)\n",
    "\n",
    "    # Lower first letter of each sentence\n",
    "    lower_first_word = lambda tab: ' '.join(tab[0].lower() + tab[1:])\n",
    "    comment = ' '.join([lower_first_word(sentence.split(' ')) for sentence in comment.split('.')])\n",
    "\n",
    "    # Tokenize by word\n",
    "    tokenizer = nltk.RegexpTokenizer(r'\\w+')\n",
    "    words_tokens = tokenizer.tokenize(comment)\n",
    "\n",
    "    # Remove stopwords and words of length 1\n",
    "    remove_stopwords = lambda wts: [w for w in wts if (not w in en_stopwords) and len(w) > 1]\n",
    "    words_tokens = remove_stopwords(words_tokens)\n",
    "\n",
    "    # Lower capital words\n",
    "    for i in range(len(words_tokens)):\n",
    "        if words_tokens[i].isupper():\n",
    "            words_tokens[i] = words_tokens[i].lower()\n",
    "\n",
    "    # Lemmatization with WordNet\n",
    "    lemmatizer = WordNetLemmatizer()\n",
    "    words_tokens = [lemmatizer.lemmatize(wt) for wt in words_tokens]\n",
    "\n",
    "    # Remove stopwords and words of length 1\n",
    "    words_tokens = remove_stopwords(words_tokens)\n",
    "\n",
    "    return words_tokens"
   ],
   "metadata": {
    "collapsed": false,
    "pycharm": {
     "name": "#%%\n"
    }
   }
  },
  {
   "cell_type": "code",
   "execution_count": 8,
   "outputs": [],
   "source": [
    "# Preprocessor and tokenizer to be used directly in TfidfVectorizer\n",
    "def preprocessor(comment):\n",
    "    \"\"\"\n",
    "    Preprocess a comment:\n",
    "        - remove numbers\n",
    "        - demojize the comment\n",
    "        - lower first letter of each sentence\n",
    "    :param comment: string containing the comment\n",
    "    :return: string containing the preprocessed comment\n",
    "    \"\"\"\n",
    "    # Remove numbers\n",
    "    comment = re.sub(r'\\d+', '', comment)\n",
    "\n",
    "    # Demojize the comment\n",
    "    comment = emoji.demojize(comment)\n",
    "\n",
    "    # Lower first letter of each sentence\n",
    "    lower_first_word = lambda tab: ' '.join([tab[0].lower()] + tab[1:])\n",
    "    comment = ' '.join([lower_first_word(sentence.split(' ')) for sentence in comment.split('.')])\n",
    "\n",
    "    return comment\n",
    "\n",
    "def tokenizer(comment):\n",
    "    \"\"\"\n",
    "    Tokenize and process the tokens of a comment :\n",
    "        - tokenize the comment by word\n",
    "        - remove stopwords and words of 1 letter\n",
    "        - lower the words entirely in capital\n",
    "        - lemmatize\n",
    "        - remove stopwords and words of 1 letter\n",
    "    :param comment: string containing the comment\n",
    "    :return: list of tokens for this comment\n",
    "    \"\"\"\n",
    "    # Tokenize by word\n",
    "    tokenizer = nltk.RegexpTokenizer(r'\\w+|:\\w+:')\n",
    "    words_tokens = tokenizer.tokenize(comment)\n",
    "\n",
    "    # Remove stopwords and words of lenght 1\n",
    "    remove_stopwords = lambda wts: [w for w in wts if (not w in en_stopwords) and len(w) > 1]\n",
    "    words_tokens = remove_stopwords(words_tokens)\n",
    "\n",
    "    # Lower capital words\n",
    "    for i in range(len(words_tokens)):\n",
    "        if words_tokens[i].isupper():\n",
    "            words_tokens[i] = words_tokens[i].lower()\n",
    "\n",
    "    # Lemmatization with WordNet\n",
    "    lemmatizer = WordNetLemmatizer()\n",
    "    words_tokens = [lemmatizer.lemmatize(wt) for wt in words_tokens]\n",
    "\n",
    "    # Remove stopwords and words of lenght 1\n",
    "    words_tokens = remove_stopwords(words_tokens)\n",
    "\n",
    "    return words_tokens"
   ],
   "metadata": {
    "collapsed": false,
    "pycharm": {
     "name": "#%%\n"
    }
   }
  },
  {
   "cell_type": "markdown",
   "source": [
    "## TF-IDF Matrix"
   ],
   "metadata": {
    "collapsed": false
   }
  },
  {
   "cell_type": "code",
   "execution_count": 62,
   "outputs": [],
   "source": [
    "# Load the data\n",
    "#walk_path = '2022_03_20.20_28_27.0'\n",
    "#data = load_walk(f'data/P3/{walk_path}.comments.csv.bz2')\n",
    "\n",
    "walks_folder = 'data/P3'\n",
    "walk_path = 'all_p3'\n",
    "#data = load_all_walks_comments(walks_folder, True)\n",
    "data = load_all_walks_tags(walks_folder, True)"
   ],
   "metadata": {
    "collapsed": false,
    "pycharm": {
     "name": "#%%\n"
    }
   }
  },
  {
   "cell_type": "code",
   "execution_count": 63,
   "outputs": [
    {
     "data": {
      "text/plain": "                                    video_link  \\\n0  https://www.youtube.com/watch?v=Vaz_kpmTi0M   \n1  https://www.youtube.com/watch?v=Kl5B6MBAntI   \n2  https://www.youtube.com/watch?v=0HKfjsM2hSw   \n3  https://www.youtube.com/watch?v=dhQtq9YxrGI   \n4  https://www.youtube.com/watch?v=r6q3SkBIdTI   \n\n                                               title  \\\n0  Hey Mama - David Guetta ft. Nicki Minaj, Bebe ...   \n1                                                NaN   \n2  #JusticeForMOMOLAND #MerriesStandWithDAISY Mom...   \n3     TAKI TAKI | @placedancers Choreography Julie B   \n4      MOMOLAND(모모랜드) - \"BAAM\" Moving Dance Practice   \n\n                                         description           channel_link  \\\n0  Minny Park teaches choreography to Hey Mama by...  1MILLION Dance Studio   \n1  ED SHEERAN - Shape Of You | Dance Choreography...          KYLE HANAGAMI   \n2  Daisy says ‘Finding Momoland’ survival show wa...             kurokuroku   \n3                                                NaN                  PLACE   \n4  MOMOLAND(모모랜드) - \"BAAM\" Moving Dance Practice\\...      MLD ENTERTAINMENT   \n\n                                       channel_title  \\\n0  https://www.youtube.com/channel/UCw8ZhLPdQ0u_Y...   \n1  https://www.youtube.com/channel/UCGzGbfhdFsjP1...   \n2  https://www.youtube.com/channel/UCRUE1E1_DOnXN...   \n3  https://www.youtube.com/channel/UCo3BbgAZgkT7T...   \n4  https://www.youtube.com/channel/UC62GnXAfqgm8F...   \n\n                                            keywords    nb_like     nb_views  \\\n0                               choreography  hiphop  1,542,688  118,020,394   \n1  ed sheeran  Shape of you  hip hop  choreograph...  2,022,904         None   \n2   momoland comeback  momoland new song  momolan...    588,633  227,955,367   \n3                                       choreography     53,433   15,609,749   \n4                                                NaN    845,199  224,876,346   \n\n  nb_sub  walk  \n0    25M     0  \n1  4.54M     0  \n2   None     0  \n3   375K     0  \n4  1.91M     0  ",
      "text/html": "<div>\n<style scoped>\n    .dataframe tbody tr th:only-of-type {\n        vertical-align: middle;\n    }\n\n    .dataframe tbody tr th {\n        vertical-align: top;\n    }\n\n    .dataframe thead th {\n        text-align: right;\n    }\n</style>\n<table border=\"1\" class=\"dataframe\">\n  <thead>\n    <tr style=\"text-align: right;\">\n      <th></th>\n      <th>video_link</th>\n      <th>title</th>\n      <th>description</th>\n      <th>channel_link</th>\n      <th>channel_title</th>\n      <th>keywords</th>\n      <th>nb_like</th>\n      <th>nb_views</th>\n      <th>nb_sub</th>\n      <th>walk</th>\n    </tr>\n  </thead>\n  <tbody>\n    <tr>\n      <th>0</th>\n      <td>https://www.youtube.com/watch?v=Vaz_kpmTi0M</td>\n      <td>Hey Mama - David Guetta ft. Nicki Minaj, Bebe ...</td>\n      <td>Minny Park teaches choreography to Hey Mama by...</td>\n      <td>1MILLION Dance Studio</td>\n      <td>https://www.youtube.com/channel/UCw8ZhLPdQ0u_Y...</td>\n      <td>choreography  hiphop</td>\n      <td>1,542,688</td>\n      <td>118,020,394</td>\n      <td>25M</td>\n      <td>0</td>\n    </tr>\n    <tr>\n      <th>1</th>\n      <td>https://www.youtube.com/watch?v=Kl5B6MBAntI</td>\n      <td>NaN</td>\n      <td>ED SHEERAN - Shape Of You | Dance Choreography...</td>\n      <td>KYLE HANAGAMI</td>\n      <td>https://www.youtube.com/channel/UCGzGbfhdFsjP1...</td>\n      <td>ed sheeran  Shape of you  hip hop  choreograph...</td>\n      <td>2,022,904</td>\n      <td>None</td>\n      <td>4.54M</td>\n      <td>0</td>\n    </tr>\n    <tr>\n      <th>2</th>\n      <td>https://www.youtube.com/watch?v=0HKfjsM2hSw</td>\n      <td>#JusticeForMOMOLAND #MerriesStandWithDAISY Mom...</td>\n      <td>Daisy says ‘Finding Momoland’ survival show wa...</td>\n      <td>kurokuroku</td>\n      <td>https://www.youtube.com/channel/UCRUE1E1_DOnXN...</td>\n      <td>momoland comeback  momoland new song  momolan...</td>\n      <td>588,633</td>\n      <td>227,955,367</td>\n      <td>None</td>\n      <td>0</td>\n    </tr>\n    <tr>\n      <th>3</th>\n      <td>https://www.youtube.com/watch?v=dhQtq9YxrGI</td>\n      <td>TAKI TAKI | @placedancers Choreography Julie B</td>\n      <td>NaN</td>\n      <td>PLACE</td>\n      <td>https://www.youtube.com/channel/UCo3BbgAZgkT7T...</td>\n      <td>choreography</td>\n      <td>53,433</td>\n      <td>15,609,749</td>\n      <td>375K</td>\n      <td>0</td>\n    </tr>\n    <tr>\n      <th>4</th>\n      <td>https://www.youtube.com/watch?v=r6q3SkBIdTI</td>\n      <td>MOMOLAND(모모랜드) - \"BAAM\" Moving Dance Practice</td>\n      <td>MOMOLAND(모모랜드) - \"BAAM\" Moving Dance Practice\\...</td>\n      <td>MLD ENTERTAINMENT</td>\n      <td>https://www.youtube.com/channel/UC62GnXAfqgm8F...</td>\n      <td>NaN</td>\n      <td>845,199</td>\n      <td>224,876,346</td>\n      <td>1.91M</td>\n      <td>0</td>\n    </tr>\n  </tbody>\n</table>\n</div>"
     },
     "execution_count": 63,
     "metadata": {},
     "output_type": "execute_result"
    }
   ],
   "source": [
    "data.head()"
   ],
   "metadata": {
    "collapsed": false,
    "pycharm": {
     "name": "#%%\n"
    }
   }
  },
  {
   "cell_type": "code",
   "execution_count": 64,
   "outputs": [
    {
     "name": "stdout",
     "output_type": "stream",
     "text": [
      "<class 'pandas.core.frame.DataFrame'>\n",
      "Int64Index: 525 entries, 0 to 45\n",
      "Data columns (total 10 columns):\n",
      " #   Column         Non-Null Count  Dtype \n",
      "---  ------         --------------  ----- \n",
      " 0   video_link     525 non-null    object\n",
      " 1   title          509 non-null    object\n",
      " 2   description    453 non-null    object\n",
      " 3   channel_link   525 non-null    object\n",
      " 4   channel_title  525 non-null    object\n",
      " 5   keywords       492 non-null    object\n",
      " 6   nb_like        525 non-null    object\n",
      " 7   nb_views       525 non-null    object\n",
      " 8   nb_sub         525 non-null    object\n",
      " 9   walk           525 non-null    int64 \n",
      "dtypes: int64(1), object(9)\n",
      "memory usage: 45.1+ KB\n"
     ]
    }
   ],
   "source": [
    "data.info()"
   ],
   "metadata": {
    "collapsed": false,
    "pycharm": {
     "name": "#%%\n"
    }
   }
  },
  {
   "cell_type": "code",
   "execution_count": 65,
   "outputs": [
    {
     "data": {
      "text/plain": "video_link        0\ntitle            16\ndescription      72\nchannel_link      0\nchannel_title     0\nkeywords         33\nnb_like           0\nnb_views          0\nnb_sub            0\nwalk              0\ndtype: int64"
     },
     "execution_count": 65,
     "metadata": {},
     "output_type": "execute_result"
    }
   ],
   "source": [
    "data.isna().sum()"
   ],
   "metadata": {
    "collapsed": false,
    "pycharm": {
     "name": "#%%\n"
    }
   }
  },
  {
   "cell_type": "code",
   "execution_count": 66,
   "outputs": [],
   "source": [
    "# Drop the comments where nan occurs\n",
    "data = data.dropna(subset='keywords')"
   ],
   "metadata": {
    "collapsed": false,
    "pycharm": {
     "name": "#%%\n"
    }
   }
  },
  {
   "cell_type": "code",
   "execution_count": 67,
   "outputs": [
    {
     "name": "stdout",
     "output_type": "stream",
     "text": [
      "<class 'pandas.core.frame.DataFrame'>\n",
      "Int64Index: 492 entries, 0 to 45\n",
      "Data columns (total 10 columns):\n",
      " #   Column         Non-Null Count  Dtype \n",
      "---  ------         --------------  ----- \n",
      " 0   video_link     492 non-null    object\n",
      " 1   title          476 non-null    object\n",
      " 2   description    426 non-null    object\n",
      " 3   channel_link   492 non-null    object\n",
      " 4   channel_title  492 non-null    object\n",
      " 5   keywords       492 non-null    object\n",
      " 6   nb_like        492 non-null    object\n",
      " 7   nb_views       492 non-null    object\n",
      " 8   nb_sub         492 non-null    object\n",
      " 9   walk           492 non-null    int64 \n",
      "dtypes: int64(1), object(9)\n",
      "memory usage: 42.3+ KB\n"
     ]
    }
   ],
   "source": [
    "data.info()"
   ],
   "metadata": {
    "collapsed": false,
    "pycharm": {
     "name": "#%%\n"
    }
   }
  },
  {
   "cell_type": "markdown",
   "source": [
    "We had 5675 non nan entries before filtering on the language.\n",
    "-> filter during crawl ?"
   ],
   "metadata": {
    "collapsed": false,
    "pycharm": {
     "name": "#%% md\n"
    }
   }
  },
  {
   "cell_type": "code",
   "execution_count": 68,
   "outputs": [],
   "source": [
    "#comments = data['text'].tolist()\n",
    "comments = data['keywords'].tolist()"
   ],
   "metadata": {
    "collapsed": false,
    "pycharm": {
     "name": "#%%\n"
    }
   }
  },
  {
   "cell_type": "code",
   "execution_count": 69,
   "outputs": [
    {
     "data": {
      "text/plain": "['choreography  hiphop',\n 'ed sheeran  Shape of you  hip hop  choreography  castle on a hill  shape of you ed  shape of you ed sheeran  cover  shape of you lyrics  shape of you dance  perfect ed sheeran \" hearts dont break around here\"  ed sheeran new album',\n ' momoland comeback  momoland new song  momoland bboom bboom  momoland boom boom  momoland boom  momoland meme  momoland rap  momoland new release  momoland album',\n ' choreography',\n 'New',\n ' world cup song  This Time for Africa  FIFA World Cup Song  Addicted to You  whenever wherever  super bowl  super bowl halftime  halftime show  JLO halftime',\n ' sexiest women  try not to sing  oh baby when you talk like that shakira  power hour \" hips dont lie shakira lyrics\"  4th of July songs \" 2000s hits\"  Wyclef Jean',\n ' the ketchup song',\n 'a little bit of  acoustic  official  lyrics  official video',\n ' acoustic  fighter  xtina official  official  Xtina candyman live  official video  cover  what a girl wants  back to basics  Christina Aguilera candyman official  Christina Aguilera candyman lyrics  Christina Aguilera lyrics  playlist  Christina Aguilera',\n ' summer hit  90s music  party music',\n ' You  Head  Aphrodite  All the Lovers  Neighbours  I should be so lucky  Spinning Around  Roc Nation',\n 'Black  Peas  hip hop  MY HUMPS official music video  BLACK EYED PEAS remastered  remastered music videos  BLACK EYED PEAS official music video hd',\n ' On The Floor  American Idol  JLo',\n ' the  orphans',\n ' informer  snow informer',\n ' black eyed peas  new black eyed peas music  feel the beat  translation  action  news today  new bep',\n ' Lean on  Major lazer lean on  lean on music video  walshy fire  Peace is the mission',\n ' sorry justin bieber lyrics  sorry acoustic justin bieber  sorry justin bieber acoustic  sorry purpose  sorry purpose Justin Bieber  purpose the movement  sorry song',\n ' New Rules  Dua Lipa New Rules  New Rules Official Video  New Rules Lyrics  Pop Music  I got new rules \" one dont pick up the phone\" \" three dont be his friend\"  I got new rules I count em',\n 'cheap thrills  sia cheap thrills  cheap thrills song  come on come on turn the radio on  cheap thrills sia  cheap thrill  come on come on  i love cheap thrills  yacht hits  4th of July songs  house music  greatest Sia  elastic heart Sia',\n 'Tones And I  Tones  Loop station  Dance Monkey  Tones And I Dance Monkey  Dance Monkey Tones And I',\n ' official',\n 'Carly Rae Jepsen  New video  Call Me Maybe video  Carly Rae song  Carly  Schoolboy  CRJ  CMM  Nominated',\n 'britney spears  baby one more time  hit me baby one more time  britney spears baby one more time  britney spears hit me baby one more time  britney spears songs  backstreet boys  britney spears one more time  britney spears toxic  toxic  new years eve  new years eve 2021  new years eve party',\n ' Take It Off  tik tok official  ke$ha official  official video  Blow  Your Love Is My Drug \" CMon\"  kesha official  AMAs 2019',\n 'David Guetta (Musical Artist)  official video  bebe rexha',\n 'Black  Peas  hip hop  BOOM BOOM POW official music video  BLACK EYED PEAS remastered  remastered music videos  BLACK EYED PEAS official music video hd',\n ' shout  britney spears  new song  x factor',\n ' give me everything pitbull  give me everything  pitbull give me everything  give me everything tonight  tonight  everything tonight  pitbull tonight  tonight pitbull  pitbull everything tonight  to night  pop music \" 2010s HITS\"  Rain Over Me Marc Anthony  Jennifer Lopez On The Floor  International Love Chris Brown  new years eve',\n ' Interscope/Blackground  Records',\n 'Black  Peas  MEET ME HALFWAY BLACK EYED PEAS  MEET ME HALFWAY remastered  MEET ME HALFWAY official music video  BLACK EYED PEAS remastered  remastered music videos  BLACK EYED PEAS official music video hd',\n ' NELLY FURTADO SAY IT RIGHT  SAY IT RIGHT  SAY IT RIGHT NELLY FURTADO  SAY IT RIGHT official music video  remastered music videos',\n ' bring me to life',\n 'The  Tears  Universal  Records  The Weeknd  After Hours  Save Your Tears',\n 'blinding lights the weeknd  the weeknd  the weeknd blinding lights  blinded by the light  The Weeknd  blinded by the lights',\n ' pop music  love playlists  spanish pop  Camila Cabello feat. Young Thug  Syco Music/Epic',\n ' Beyoncevevo  official  Put A Ring On It  Single Ladies Put A Ring On It  I Am Sasha Fierce  Sorry  If I Were a Boy  Crazy In Love  Irreplaceable  Love On Top  Best Thing I Never Had  Countdown  Sweet Dreams  Music World Music/Columbia  Single Ladies (Put a Ring on It)',\n ' the best of madonna',\n 'Corrs  Sharon  Breathless',\n '\"Céline Dion Thats The Way It Is\" \" Céline Dion Thats The Way It Is Lyrics\" \" Céline Dion Thats The Way It Is Official\"  lyrics  Céline Dion official \" Im Alive\" \" Its All Coming Back To Me Now\"  Because You Loved Me  The Power Of Love  Think Twice  Immortality  Loved Me Back To Life  official  official video  The',\n ' TAKE A BOW remastered video  TAKE A BOW official music video  remastered music videos',\n ' Records',\n ' Party  The  Records',\n ' official video  lyrics  clarkson  what  kelly clarkson  cover  acoustic  official  playlist  kelly clarkson stronger  kelly clarkson vevo',\n 'kelly clarkson live  because of you  acoustic  kelly clarkson because of you  official  My Life Would Suck Without You  official video  cover  kelly clarkson official  what',\n ' just give me a reason  give me a reason  pink just give me a reason lyrics  pink reason  just give me a reason pink lyrics  pink nate ruess just give me a reason  pink give a reason  kelly clarkson',\n '\" meghan trainor like im going to lose you\"  all about that bass  thank you  treat myself  Meghan Trainor all about that bass  Meghan Trainor like I’m gonna lose you',\n 'Goulding  love me like you do fifty shades of grey  fifty shades of grey  fifty shades of grey ellie goulding  Golding',\n ' You  Country',\n ' closer chainsmokers  chainsmokers  the chainsmokers  chainsmokers closer  the chainsmokers closer  halsey closer  closer the chainsmokers  closer halsey  closer song  halsey chainsmokers  closer lyrics  closer official video chainsmokers  so baby pull me closer  halsey the chainsmokers  calvin harris  halsey and chainsmokers  new years eve  new years eve 2021',\n 'Calvin Harris  sweet nothing  acoustic  Calvin Harris I Need Your Love Official  Calvin Harris official  Under Control  featuring Ellie Goulding  Calvin Harris I Need Your Love  I Need Your Love  Calvin Harris lyrics  official',\n ' sweet but psycho  atlantic records  ava max - sweet but psycho  sweet but psycho - ava max  ava max sweet but psycho  sweet but psycho ava max  official music video  into your arms  into your arms ava max  pop music  new music',\n 'Clean Bandit  Tears  The Voice  Rather Be  Real Love  New Eyes  Dust Clears \" Aint My Fault\"',\n ' Things',\n ' The Monster  new song  official  eminem the monster',\n 'T.I.  Rihanna (Musical Artist)  Hip Hop (Exhibition Subject)  Rapping (Profession)  Music (Industry)  Atlantic Records (Organization)  Warner Music Group (Business Operation)  warnermusicgroup  Clifford Joseph Harris',\n 'Love The Way You Lie  Recovery  Dominic Monaghan',\n ' Records',\n ' Bad at Love  hopeless fountain kingdom  Romeo and Juliet  official video  halsey commercial  saturday night live',\n ' Records  Country',\n 'MARIAH CAREY  MARIAH CAREY WE BELONG TOGETHER  WE BELONG TOGETHER MARIAH CAREY  WE BELONG TOGETHER official music video  remastered music videos  MC30  Emancipation Of Mimi',\n 'MARIAH CAREY  TOUCH MY BODY official music video',\n ' mariah carey we belong together  all i want for christmas is you  toni braxton  we belong together',\n ' Records  Mariah Carey Bye Bye Official Music Video',\n ' Records',\n 'chris brown  with you  chris brown with you  with you chris brown  chris brown songs  chris brown antigas  cris brown  #chrisbrown  chris brown playlist  cris brow  chiste brown  without you chris brown  Chris Brown Slime and B  chris brown undecided  chris brown run it  chris brown tempo  chris brown feat trey songz  chris brown young thug  chris brown choreography  Chris Brown Slime & B',\n 'burn official music video  Ushervevo  acoustic  burn lyrics  usher burn  burn official  contemporary r and b  hip hop  Confessions  UsherVevo  official  usher live  official video  cover  burn live',\n 'THE PUSSYCAT DOLLS  STICKWITU THE PUSSYCAT DOLLS  STICKWITU official music video  THE PUSSYCAT DOLLS remastered  remastered music videos',\n ' camera phone',\n ' BIG GIRLS DON’T CRY remastered  BIG GIRLS DON’T CRY remastered video  BIG GIRLS DON’T CRY official music video  PERSONAL official music video',\n ' star is born  shallow now',\n ' At  You  MileyWorld',\n ' a year without rain  selena gomez a year without rain  a year without rain selena gomez  year without rain  selena gomez rain without a year  selena gomez year without rain  a year without rain selena gomez lyrics',\n ' Country',\n ' who says selena gomez  selena gomez who says  who says selena gomez lyrics  who said selena gomez',\n ' official  RCA Records Label  Wrecking Ball',\n 'new years eve  new years eve 2021  new years eve party  RCA Records Label \" We Cant Stop\"',\n ' beauty and the beat  beauty and a beat  justin bieber beauty and a beat  beauty and the beast  beauty and the beast justin bieber  beauty and a beat justin bieber',\n ' Life  Money  Records/Motown  Records  MOMENT 4 LIFE  MOMENT 4 LIFE remastered  MOMENT 4 LIFE official music video  remastered music videos  NICKI MINAJ official music video hd',\n ' Hilson',\n 'Ne-Yo',\n ' Money  BED ROCK remastered  BED ROCK official music video  remastered music videos  YOUNG MONEY official music video hd',\n ' Black And Yellow  Rolling Papers  Atlantic Records  Pop Rap (Musical Genre)  Hip Hop Music (Musical Genre)  Warner Music Group  Rapping (Literature Subject)',\n ' official video  young wild and free  Wild and Free  official  Atlantic Records  Warner Music Group (Record Label)',\n 'Watch  The  Throne  That  Hip-Hop',\n ' thrift shop  macklemore and ryan lewis  seattle hip-hop  thrift  Macklemore LLC  Kindercore Records  Offical Music Video',\n ' whatcha say  warner records',\n ' and the trumpets they go song  everytime that you get undressed  warner records',\n ' warner records',\n 'chris brown  new flame chris brown  chris brown usher  usher chris brown  chris brown songs  chris brown ft usher  usher ft chris brown  chris brown flame  usher new flame  new flame chris brown lyrics  usher and chris brown  flame chris brown  chris brown undecided  chris brown run it  chris brown tempo  chris brown feat trey songz  chris brown young thug  chris brown choreography',\n 'chris brown  chris brown ayo  ayo chris brown tyga lyrics  ayo chris brown  tyga chris brown  chris brown ft tyga  tyga ft chris brown  chris brown songs  chris brown and tyga  crishbown  chris brown undecided  chris brown run it  chris brown tempo  chris brown feat trey songz  chris brown young thug  chris brown choreography  Chris Brown Slime and B  Chris',\n ' chris brown  wild thoughts  we the best music  celebrate for the ones we lost  dj khaled chris brown  feat.',\n ' Bust It Baby Pt. 2  Bust It Baby (Composition)  Ne-Yo (Musical Artist)  Feat  Plies (Musical Artist)  Hip Hop (Exhibition Subject)  R&b  Hiphop  Rapping (Profession)  Hip-hop Dance (Sport)  Music (Industry)  Atlantic Records (Organization)  Warner Music Group (Business Operation)  Featuring',\n 'Beyoncé feat. Kanye West  Music World Music/Columbia',\n ' field mob so what',\n ' Cole  #KeyshiaCole # #Vevo #Pop #VevoOfficial  Let It Go  Let It Go vevo official  keyshia cole vevo  keyshia cole vevo official',\n ' Cole  Shoulda Let You Go vevo official  keyshia cole  keyshia cole vevo  keyshia cole vevo official',\n ' Cole  I Should Have Cheated  I Should Have Cheate vevo  I Should Have Cheated vevo official  keyshia cole vevo  keyshia cole vevo official',\n ' Beyoncevevo  official  Sorry  If I Were a Boy  Crazy In Love  Irreplaceable  Love on Top  Countdown  Best Thing I Never Had  Parkwood Entertainment/Columbia',\n ' Records  R&B/Soul',\n ' Records',\n ' R&B/Soul  Mary J Blige  Mary J.Blige  R and B  Rhythm and Blues',\n 'Mary  hip hop  BE WITHOUT YOU  BE WITHOUT YOU remastered  BE WITHOUT YOU official music video  MARY J BLIGE remastered  MARY J BLIGE official music video hd',\n 'Cherish  Cherish Unappreciated  Cherish Vevo',\n '\" monica shouldve known better\" \" shouldve known better\" \" monica you shouldve known better\"  monica why love you so much  should have known better \" you shouldve known better\" \" shouldve known better monica keyshia cole\"  you should have known better monica \" shouldve known better monica\"  monica before you walk out my life  the boy is mine  angle of mine  official monica',\n 'another sad love song  ToniBraxtonvevo  toni braxton official  the essential toni braxton  acoustic  just be a man about it official  chopped and screwed  He Wasnt Man Enough  toni braxton just be a man about it  best of  official  toni braxton live  ToniBraxtonVevo  just be a man about it live  official video  cover  unbreak my heart',\n ' Love and War  Braxton  Streamline Records  recording artist  reality TV',\n ' nobody supposed to be here \" debra cox nobodys supposed to be here\" \" deborah cox nobodys supposed to be here\"  how did you get here deborah cox  deborah cox challenge  toni braxton  absolutely not  we cant be friends  official deborah cox',\n ' Traces Of My Lipstick  My Little Secret',\n 'Chante',\n 'Changing Faces All Day  All Night G.H.E.T.T.O.U.T.',\n ' Not',\n 'Mary  hip hop \" IM GOIN DOWN remastered\" \" IM GOIN DOWN official music video\"  MARY J BLIGE remastered  remastered music videos  MARY J BLIGE official music video hd',\n ' Could  Records  High  Quality  Definition  beyonce  pop artist  showbiz  pop music  television show  comedy  african american',\n ' Could  Records  High  Quality  Definition  pop artist  pop music  television show  comedy  african american',\n 'whitney houston  have nothing  whitney houston have nothing  have nothing whitney houston  whitney houston songs  withinew houston  witness houston  witney hostoun songs  nothing  witney hostoun have nothing  witney hostoun always love you paroles  witney hostoun  houston whitney  within houston  nothing whitney houston \" 90s Hits\" \" Greatest 1990s Music Hits\"  Will Always Love You  Un-Break',\n 'whitney houston  will always love you  will always love you whitney houston  whitney houston will always love you lyrics  whitney houston will always love you  witney hostoun always love you paroles  whitney houston songs  and will always love you  Have Nothing  my heart will go on  We are the World USA for Africa \" 90s Hits\" \" Greatest 1990s Music Hits\"  whitney  hits',\n 'Ed Sheeran  Thinking Out Loud  Ed Sheeran Thinking Out Loud  Thinking Out Loud Song  Ed Sheeran Official Video  Thinking Out Loud Official Video  Ed Sheeran music  Ed Sheeran Lyrics  Thinking Out Loud Lyrics  Ed Sheeran Dancing  Ed Sheeran multiply  Ed Sheeran second album  Ed Sheeran 2nd album  Ed Sheeran songs  Pop Music  Ed Sheerin  Ed Sheran  we found love',\n 'Ed Sheeran  Perfect  Ed Sheeran Perfect  Ed Sheeran Official Video  Perfect Official Video  Ed Sheeran music  Ed Sheeran Lyrics  Perfect Lyrics  Ed Sheeran 2017  Ed Sheeran third album  Ed Sheeran 3rd album  Ed Sheeran songs  Pop Music  Ed Sheerin  Ed Sheran  English Song  I Found a Love  Dancing In the dark  you look perfect tonight',\n ' official  Rolling In The Deep  Set Fire to the Rain  XL Recordings/Columbia',\n 'whitney houston  i have nothing  ingles com musica',\n '\" Whats\"  Got  To  With  It \" tina turner whats love got to do with\" \" whats love got to do with it tina turner\" \" whats love got to do with it\"  tina turner official video  tina turner official music videos  official music video',\n ' country',\n ' Gladys Knight I Dont Want To Know',\n 'Karyn White \" Id Rather Be Alone\"',\n ' New Zealand Music',\n ' camera phone  free',\n ' Chill Out Deep House  Summer Mix 2018  Chill Mix 2018  Stay See Summer  Summer Music Mix 2018',\n ' camera phone',\n ' free',\n ' Old School  Chris Brown  Usher',\n 'hip hop  hip hop mix  2000 hip hop mix  90s hip hop  hip hop anos 2000  top hip hop das antigas  hip hop song  hip hop mix 2020 mix  hip hop 2000 \" old school hip hop mix 90s\"  hiphop  mix hip hop  top hip hop das antigas so  hip hop 2000 mix  hip hop 90  hip hop mix 2021  hip hop 90s  hip hop antigo  90s hip hop mix',\n ' r&b party mix  90s rnb party mix  old school ru0026b  rnb music  party mix  90s rnb  old school ru0026b mix \" 90s rnb\"  party music  old school',\n ' keith sweat  old school music  chris brown  slow music  old school \" r&b mix 90s and 2020\"  90s music  trey songz  slow motion  old soul  toni braxton  90s rnb',\n 'TOP 40 Songs of 2021 2022  Best Hit Music Playlist  on Spotify  TOP 40 Songs of 2021  top hits  song top  hits  2021 top music  new songs  new songs 2021  pop music  pop hits  2021 pop music  top pop song  top 40 songs  TOP 40 Songs of 2021 on Spotify  #tophitcover  #topsongs',\n 'TOP 40 Songs of 2021 2022  Best Hit Music Playlist  on Spotify  TOP 40 Songs of 2021  top hits  song top  hits  2021 top music  new songs 2021  pop music  pop hits  2021 pop music  top pop song  top 40 songs  TOP 40 Songs of 2021 on Spotify  #tophitcover  #topsongs',\n ' Nelly  The Game \" Hip Hop 2000s\" \" 2000s rap\" \" 2000s hip hop\" \" best of hip hop 2000s\"  old hip hop  2000s hip hop hits  rap hits 2000s \" 90s hip hop\"  2000s hip hop mix  throwback hip hop  throwback rap  classic hip hop  hip hop classics  old school hip hop  old school rap  hip hop  2000s hip hop',\n ' camera phone  free',\n '\" best rock songs of 2000s\"  best rock songs of 90s and 2000s  classic rock songs  rock music  best rock songs 2000s playlist  classic rock',\n '\" r&b mix 90s and 2020\"  chris brown \" r&b mix 90s and 2000s\"  90 r&b party mix \" 90s r&b party mix\" \" old school r&b mix 70s 80s 90s\"  old school r&b  early 2000 r&b mix  90s and 2000s r&b mix  90s r&b party mix',\n ' r&b party mix  90s rnb party mix  old school ru0026b  rnb music  party mix  90s rnb  old school ru0026b mix \" 90s rnb\"  party music  old school',\n ' r&b party mix  90s rnb party mix  old school ru0026b  ru0026b playlist  party mix  90s rnb  old school ru0026b mix \" 90s rnb\"  party music',\n ' slow rock ballads 70s 80s 90s  80s rock music  90s rock music  80s rock hits  90s rock hits  the best rock ballads songs of all time',\n '2000s rnb playlist  playlist to get you in your feels  playlist to get you in your feels good  boost your mood  music for a better mood  songs to put you in a good mood  music to put you in a better mood  something old something new  r&b playlist  2000s r&b playlist  throwback playlist  good playlist',\n ' camera phone',\n ' rock 2020 playlist  alternative rock 2020 playlist  alternative rock playlist 2020  alternative rock music 2020  alternative rock greatest hits  alternative rock best hits  alternative rock best of  the best alternative rock songs ever  new rock songs 2020  new rock music',\n '\" alternative rock 90s\"  best of alternative  2000s music  best music 2000s  best of linkin park  alternative rock playlist  best of alternative rock  best songs of alternative rock  alternative rock best of playlist  alternative rock 2000 to 2009',\n ' new rock songs  rock 2020 playlist  alternative rock 2020 playlist  alternative rock playlist 2020  alternative rock music 2020  alternative rock greatest hits  alternative rock best hits  alternative rock best of  the best alternative rock songs ever  new rock music',\n ' free',\n ' camera phone',\n ' camera phone',\n 'michael learns to rock  michael learns to rock greatest hits  michael learns to rock love songs  michael learns to rock collection  michael learns to rock playlist  michael learns to rock music  michael learns to rock best songs  michael learns to rock songs with lyrics  michael learns to rock non stop  michael learns to rock 2021  recommended for you  michael learns to rock lyrics  #greatesthits',\n ' mellow rock  soft rock acoustic  greatest soft rock hits  soft rock colection',\n 'acoustic cover  acoustic  cover  cover acoustic  cover playlist  acoustic cover playlist  2021 cover playlist  acoustic cover compilation  2021 cover  2021 acoustic cover  cover 2021  acoustic cover 2021  Stand By Me  Save Your Tears  Bad Habits cover  Stand By Me cover  Save Your Tears cover  cover Bad Habits  cover Stand By Me  cover Save Your Tears',\n 'top hits  top 40 pop songs 2020  best english songs 2020  top song 2020  top songs  pop music  english song  top hits 2020  boy avenue new cover',\n ' cute hamsters  hamster obstacle course  hamster labyrinth  for pets in real life  hamster escapes the pop it maze  rainbow hamster maze  escape hamster maze with traps  labyrinth  hamster pop it obby',\n ' maze with Traps  in real life  Minecraft traps  Minecraft art  Minecraft caves and cliffs',\n ' Hamsterious  poppy playtime  poppy playtime challenge  poppy playtime chapter 2  poppy chapter 2  hamster fight  escaping hamster  hamsterious challenge  in real life',\n ' diy miniature house  bathroom  diy bathroom and bedroom  labyrinth  Maze with monster',\n ' pets in real life  thesecretlifeofmyhamster  hamstercage  hamster minecraft prison escape  hamster minecraft obstacle course',\n ' hamsterious  hamster obstacle course  hamster fight  escaping hamster  obstacle challenge  hamsterious challenge  poppy horror  poppy playtime horror game',\n ' stop motion  stopmotion  among us stop motion  among us stopmotion  among us funny  stop motion paper  Paper StopMotion  Paper Motion  paper stop motion  among us stop motion paper  among us starship  Miserable Orphan Huggy Wuggy',\n ' fnaf security breach',\n ' Fnf animation  Fnf music  Hornstromp  friday night  Friday night funkin parody  WHITTY CAROL FNF  Friday night funkin stress  Fnf stress',\n ' FNF Characters  friday night funkin  Red Light Green Light  FNAF Security Breach  fnaf security breach ending  fnaf security breach walkthrough \" five nights at freddys security breach\"  security breach  five nights at freddys security breach',\n ' Rich Jail vs Broke Jail  SirenHead  Mickey Mouse',\n ' poppy playtime animation  Poppy Playtime animation compilation  Squid Game vs Poppy Playtime  Poppy Playtime Game \" Im not a monster\" \" Im not a monster - Poppy Playtime\"  im not a monster  Fnf animation  friday night funkin  poppy playtime chapter 2',\n ' FNF Characters  friday night funkin  Red Light Green Light \" five nights at freddys security breach\"',\n 'friday night funkin  fnf cartoon  friday night funkin animation  friday night funkin cartoon  fnf animation  friday night funkin vs among us  funny animation',\n 'friday night funkin  friday night funkin animation  friday night funkin cartoon  anination  fnf animation  friday night funkin vs among us  funny animation',\n ' stop motion  among us stop motion  stop motion paper  Paper StopMotion  Paper Motion  paper stop motion  stopmotion  Pibby Rescues Huggy Stuck On Glitch  Learning With Pibby  Poppy Playtime  Rescue Huggy Wuggy',\n '\" five nights at freddys\"  circus baby  sister location',\n ' minecraft song  Minecraft FNAF Animation \" dont come crying\"  The Most Top Russian Songs About Minecraft! \" you cant hide sister location minecraft\" \" you cant hide fnaf minecraft song\" \" Five Nights At Freddys\"',\n ' tv season  double whammy  comedy',\n ' friday night funkin',\n ' enchantedmob  security breach  roxanne wolf',\n ' enchantedmob  security breach  chica  the truth about',\n ' Five Nights at Freddy’s  Chica  Foxy  furry animation  furry fandom  animated  animated short  horror  Halloween  fox  Nights  anthropomorphism  anthropomorphic animals',\n ' manuel mercuri little brother  mercuri tiktok with littile brother  manuel mercuri the brother  manuel mercuri the mother  the mother tiktok  try not to laugh mercuri_88',\n ' animations  horror \" baldis basics in education and learning\"  playtime  family  action  if baldi was in sonic  sonic the hedgehog  sonic vs baldi  funny sonic animations \" baldis basics sonic mod\" \" sonic in baldis basics\"  sonic hedgehog',\n ' free',\n ' security breach \" five nights at freddys\"  fnaf animation  security breach animation',\n ' security breach \" five nights at freddys\"  fnaf animation  security breach animation',\n ' front man',\n ' camera phone  free',\n ' camera phone  free',\n 'friday night funkin - playtime but everytime its huggy wuggy turn a different skin mod is used  playtime but everytime its huggy wuggy turn a different skin mod is used  friday night funkin  playtime but a different skin mod is used  a different skin mod is used  v.s huggy wuggy mod  huggy wuggy but its clay mod  reanimated huggy wuggy mod  kissy missy over huggy wuggy mod  huggy wuggy but its in vent mod  pibby corrupted huggy wuggy',\n ' fnf animation  fnf sonic exe  fnf react  friday night funkin music  friday night funkin mod  friday night funkin week 7  friday night funkin whitty mod  friday night funkin roblox  friday night funkin among us  friday night funkin song  friday night funkin minecraft \" friday night funkin mod characters reacts\"  huggy wuggy is not a monster  poppyplaytime',\n ' enchantedmob',\n ' enchantedmob  fazbear and friends  security breach  roxanne wolf',\n ' Sonic poor  poor sonicbaby  sonic the hedgehog  poor sonic life! so sad story  poor sonic life  BROKE Sonic  sad story in sonic the hedgehog  sonic poor \" sonic and amys family life\"  baby sonic  sonic love mommy  sonic and amy love story  sonic forces  sonic rangers',\n ' boyfriend vs pico  friday night funkin  Fnf animation  Fnf music  Hornstromp  friday night  WHITTY CAROL FNF  Fnf stress  Hornstromp Toons',\n ' boyfriend vs pico  Fnf animation  Fnf music  Hornstromp  friday night  WHITTY CAROL FNF  Fnf stress',\n ' free',\n ' camera phone  free',\n ' camera phone',\n ' camera phone',\n ' camera phone  free',\n ' camera phone',\n ' camera phone  free',\n ' camera phone',\n ' camera phone',\n ' camera phone',\n ' camera phone',\n ' free',\n ' camera phone  free',\n ' camera phone  free',\n ' camera phone  free',\n ' camera phone  free',\n ' camera phone',\n ' free',\n ' camera phone  free',\n ' camera phone  free',\n ' camera phone  free',\n 'magic tricks  magic trick  24 hours  in real life  life hacks',\n ' iphone  iphone unboxing  life hack',\n ' life hacks',\n ' real food  how to  in real life  trick shot  life hack  life hacks  how-to',\n ' camera phone',\n ' free',\n ' free',\n ' camera phone',\n ' free',\n ' free',\n ' free',\n ' free',\n ' camera phone  free',\n ' gta online expanded and enhanced  gta 5 expanded enhanced  new fastest car gta online  fastest car in gta online  speirs the amazing  speirstheamazinghd  gta 5 expanded and enhanced  gta 5 expanded and enhanced ps5  gta online new cars  gta 5 enhanced gameplay  shark cards  i bought',\n '\" Minecraft But Its Only 1 Red Button\"  minecraft but \" minecraft but its only 1 button\"  1 red button  family friendly',\n ' minecraft hardcore  hardcore  100 days hardcore  minecraft 100 days',\n ' free',\n ' minecraft but mod  beating minecraft but  beating minecraft  minecraft but  minecraft but you can craft  minecraft but you can  minecraft but there are  minecraft but structures are bosses  minecraft bosses  bosses  stronghold',\n ' luke thenotable  minecraft hardcore  minecraft hardcore mode  hardcore mode minecraft  hardcore minecraft survival  hardcore survival minecraft  minecraft hardcore survival mode \" I Survived 100 Days of Hardcore Minecraft on a Survival Island.. Heres What Happened..\" \" I Survived 100 Days of Hardcore Minecraft in Madagascar.. Heres What Happened..\"',\n ' i got hunted by hackers  i got hunted by minecraft hackers  minecraft hardcore  hardcore  this minecraft is illegal',\n ' roblox bed wars  bed wars roblox',\n ' red sheep',\n ' wifies escape room',\n ' minecraft lets play  smith \" lets play\"  new minecraft world  smithplays',\n ' Chooses My Fate  Marble track',\n ' marble world',\n ' marble world',\n ' RailroadsOnline  Railroadonline  Trains Online  Trains  How To Download Maps  TrackEditor',\n ' RailroadsOnline  Railroadonline  Trains Online  Trains  How To Download Maps  TrackEditor',\n ' railroads online  new train game 2021  train game 2021  train sandbox game  new train sandbox  railroad sandbox  railroad builder game  multiplayer train sandbox  new train games 2021  railroads online winter  railroads online snow',\n ' scrap mechanic multiplayer  scrap mechanic coop  scrap mechanic multiplayer survival',\n ' scrap mechanic  scrap mechanic tank  scrap mechanic airlift  airlifting a tank  scrap mechanic gameplay  scrap mechanic multiplayer',\n ' steam games  gameplay first looks  instruments of destruction  instruments of destruction gameplay  instruments of destruction game  demolition vehicles  construction vehicles  force field  force field machine',\n ' scrap mechanic piston  scrap mechanic unlimited fuel',\n ' scrap mechanic  scrap mechanic kan  scrap mechanic auto watering  scrap mechanic auto planting  scrap mechanic auto harvest',\n ' Derail Valley  Railroads Online  Train Games  Trains Online  Railroad online',\n ' railroads online  pro train engineer  professional  locomotive engineer  train conductor',\n ' ghost ship  ship graveyard simulator  ship graveyard simulator gameplay  ship graveyard documentary  ship graveyard simulator free download  ship graveyard simulator release date  ship salvage  real civil engineer',\n ' ghost ship  ship graveyard simulator gameplay  ship graveyard documentary  ship graveyard game  ship graveyard simulator free download  ship graveyard simulator release date',\n ' free',\n ' game of life  life games  office simulator  life choices  life choices game  hell architect  hell architect gameplay  hell architect ep 1',\n ' chainsaw cookies  worlds most powerful chainsaw  best chainsaw  stihl battery powered chainsaw  best battery chainsaw  largest chainsaw in the World',\n ' camera phone  free',\n ' camera phone',\n ' camera phone  free',\n ' life hacks  crafts',\n ' how to  Simple Life Hacksks  useful things  tasty buzzfeed  3 Awesome ideas or Life Hacks  Easy DIY Ideas!  DIY your ideas  ideas for Men!  DIY ideas for Men !  cool inventions  craft ideas  craft life hack  amazing 3 craft ideas 5-Minute Crafts  Do It Youself  lifehacks  Northern Craftsman  workshop',\n 'free gas  gas free  I get free Gas from a Fridge Compressor  fridge compressor project  how to',\n ' motor generator machine  fridge compressor engine',\n ' motor generator machine  fridge compressor engine',\n 'I turn Washing Machine Motor into 220v electric Generator  washing machine motor generator  washing machine motor  electric generator from a washing machine',\n ' make wind turbine at home  I turn a fan into high power 220v electric Wind Turbine generator  wind generator homemade',\n ' Inventions  inventions  how to make  life hacks  ideas  crafts  coke  creative  led ideas  light  power supply',\n '4 WAYS HOW TO REUSE REFRIGERATOR MOTOR COMPRESSOR  HOW TO REUSE  HOW TO REUSE REFRIGERATOR MOTOR  4 WAYS HOW TO REUSE OLD REFRIGERATOR MOTOR COMPRESSOR  How to make Homemade air Silent Compressor  How to make',\n ' make air compressor from refrigerator  making air compressor  I make Air Compressor from a Fridge Compressor',\n ' how to  restoration  German Compressor',\n ' COMO REPARAR COMPRESORES DE CARROS  CHEVROLET  REPARACIONES DE COMPRESORES DE COCHE  COMPRESOR DE COCHE VOTA GAS  COMPRESOR DE CARRO SUENA  LA CORREA DEL COMPRESOR SUENA',\n ' how to  how to make  easy way to  learn how to make  How to repair dead dry battery at home  Lead acid battery repairation',\n ' battery charger  sealed lead acid  recover',\n ' electricity  free  exhibition  to  dry battery  repair dry battery  how to repair dry battery  dry battery at home repair  repair old dead dry battery  acid battery repairation  battery repairation  repair old  how to repair dry battery at home  battery repair',\n 'How to make  creative  Creative  newstodayinfor  education  The  Wrench  American tech  How to  Dry Battery  at home  No need to  Free Energy 100%  Repair bad cell of dry battery Testing Before repair  #newstoday #News #Today #information',\n 'how to  restore sealed lead acid battery  how to recover 12 v battery  ups battery  how to recover the battery  restore 12v lead-acid battery  lead acid battery repair  battery reconditioning  battery repair 12v  how to restore 12v lead-acid battery  how to restore 12v sealed lead-acid battery  lead acid battery repair solution  sealed lead acid battery repair  car battery  dead battery  How to Repair',\n ' 90 Amps  alternator by mr electron  self excited  Self Excited Generator  self excitation  how to self excite an alternator  self excited alternator',\n ' lithium  repacking  to',\n ' free',\n ' how to make mozzarella cheese at home  how to make mozzarella cheese without rennet  mozzarella cheese without citric acid  how to make mozzarella  in the kitchen with matt  food  easy cheese recipe  make mozzarella with vinegar',\n 'Brot  no knead bread  Topfbrot  brot topf  brot im Topf backen',\n ' Cabbage Jeon  simple cooking  asmr cooking',\n 'Suck Deep Well -Amazing idea to make Auto Suck water from Very deep river without Electricity Energy  idea to make pump from deep well  how to make auto pump from deep well',\n 'Hand pump  water pump  how to make hand water pump  free energy water pump  water pump without electricity',\n 'Learn For Life  Learn For Idea  Free Energy water pump for plaint farm | Pump without electricit',\n 'How to use free gas from garbage  How to use free gas from garbage & vegetables waste  free gas  how to make free gas  biogas plant at home  biogas at home  how to make gas  use free gas from garbage  gas free',\n ' How to  process rubbish  free gas  gas free  Fabrication 5 minutes  turning waste into gas  How to use free gas from garbage  free gaz  shortDescription  turning waste into',\n 'homemade electric stove  electric stove 1000 watts  making electric stove  how to make electric stove at home  electric stove heating element  how to make electric cooking stove  how to make simple electric stove',\n 'How to use free gas from garbage  How to  process rubbish  free gas  gas free  Fabrication 5 minutes  turning waste into gas  free gaz  shortDescription  turning waste into  ow to make free gas  how to make gas  se free gas  use free gas from garbage  Fabricated 5 minutes  Fabricated_5_minutes',\n ' laboratory at home  lab in house  Cool science  yeast  How to make ALCOHOL from SUGAR  sugar to alcohol conversion  Distillation from Yeast Sugar wash  hand sanitizer at HOME  yeast fermentation experiment  How to make Ethanol at home  how to make alcohol at home  sugar to alcohol',\n 'chemistry',\n '\"heros fountain\" \" herons foutain\"  homeschool science  water demonstrtions',\n ' self pouring  self flowing  self-pouring  polyethylene oxide  the action lab  hydraulic press action  chamber  fly in vacuum  king of random  motion  action  physics  flow',\n 'free energy water pump  how to make non stop water fountain at home  how to make non stop water fountain without electricity  how to make free energy use water pump  how to make free energy auto water pumps  how to make free energy water pump',\n ' camera phone  free',\n 'Free Energy water Pump  Pump without electricity  auto water pump  How to make free energy water pump  Pressured Pump from Deep well  Amazing Auto water motion from deep well using pressure tank',\n ' camera phone  free',\n ' camera phone  free',\n ' tiktok cringe compilation  tiktok compilation funny',\n ' tiktok cringe compilation  tiktok compilation funny  cringe',\n ' the downfall of onlyjayus: the most hated content creator on tiktok!  the downfall of onlyjayus  the most hated content creator on tiktok!  onlyjayus screenshots in word  onlyjayus drama screenshot  onlyjayus cancelled screenshot  onlyjayus cancelled  onlyjayus exposed',\n ' the rise and fall of nikocado avocado  the never ending nightmare of nikocado avocado  why im scared of nikocado avocado  what happened to nikocado avocado',\n ' good morning america  hip hop  lil tay flexing  what happened to lil tay  whoa vicky  cash me outside  twitter  where is lil tay  the tragic tale  rise and fall',\n 'ace family foreclosure  ace family eviction  ace family house tour  ace family house  ace family drama  austin mcbroom lawsuit  catherine mcbroom channel  catherine mcbroom lawsuit  catherine mcbroom makeup  catherine mcbroom skin care  mcbroom family drama  mcbroom family broke  mcbroom family house  the ace family drama  house foreclosure  hard money  hard money loans',\n 'ace family foreclosure  ace family eviction  ace family house tour  ace family house  ace family drama  catherine mcbroom channel  catherine mcbroom lawsuit  catherine mcbroom makeup  catherine mcbroom skin care  mcbroom family drama  mcbroom family broke  mcbroom family house  the ace family drama  house foreclosure  hard money  hard money loans',\n 'beauty standards \" youre not ugly youre just broke\"  singles inferno  plastic surgery  let me in thailand  commentary  reaction  plastic surgery tiktok  reality tv  transformation  unrealistic beauty standards',\n ' shane dawson cancelled  facebook  theranos  business  bella thorne  shanedawsontv  comedy  catastrophe  the tragic tale',\n 'jack wright  jack wright and sienna  jack wright tik tok  what sienna mae did to me  what sienna mae did to me reaction  what sienna mae did to me jack wright  sienna mae jack wright drama',\n 'gabby petito  gabby petito updates  gabby petito clues  gabby petito red flags  gabby petito police body cam  gabby petito found  gabby petito youtube channel  gabby petito youtube  gabby petito autopsy',\n ' Tara Brown  Liam Bartlett  gabby petito  relationship  awareness  small town  influencers  tourists',\n ' News  house of horrors  Turpin family house  Turpin children  documentary Turpins',\n 'the  fictional  horror  character  Wisconsin',\n ' Charles Wooley  Tara Brown  Richard Carleton  Tracey Curro  Michael Usher  Ross Coulthart  tics',\n 'Sunday Night  7 Network  News  Australian News  Current Affairs  world news  family  Multiple Personality Disorder  mental health',\n ' lillee jean followers  fake followers  beauty youtuber  beauty youtuber drama  beauty community  photoshop vs reality  venus angelic mom  exposed sub botting  caught sub botting  buying followers  influencer  instagram influencer',\n ' the gamer from mars  internet historian  controversy  famous families on youtube  family of five  4chan stories  youtube family  shay carl cheating  cheating  caught cheating',\n 'the rewired soul  the rewired soul drama  tea by ali  the rewired soul deleted video  therapy  therapist  the rewired soul trisha paytas  trisha paytas talking about the rewired soul  the rewired soul trisha bpd  the rewired soul trisha jason  bobby burns  bobby burns the rewired soul  the rewired soul drama channels  the rewired soul apology',\n ' titanic sinclair  that poppy  who is poppy  thatpoppy  before they were famous  the film theorists  sumerian records  low life',\n ' poppy history  who is poppy  poppy real life story  tragic story poppy  tragic story of poppy  poppy famous  poppy truth  poppy secrets  poppy titanic sinclair',\n ' tiktok cheating  cheaters  cheaters caught  cheaters get caught  cheaters caught cheating tiktok  cheaters caught tiktok  tiktok cheaters exposed  tiktok cheaters caught  tiktok cheaters caught cheating  tik tok cheating  tik tok cheating caught  tik tok cheaters  cheating husband  cheaters exposed  cheating wife exposed  cheating husband exposed  cheater exposed  cheating wife',\n ' astroworld  astroworld festival  astroworld concert',\n ' travis scott astroworld festival  travis scott festival footage  travis scott festival tragedy  travis scott tragedy footage  travis scott live astroworld  travis scott astroworld festival video  travis scott astroworld live  astroworld 2021 footage  astroworld festival 2021  astroworld  travis scott astroworld',\n ' kris wu scandal evidence  kris wu allegations  kris wu controversy  kris wu prison life  kris wu cancelled',\n ' duct taped to seat airplane  duct taped passenger  duct taped to seat  duct taped on plane  duct taped passenger video  duct taped airline passenger  duct taped airline guy  duct tape flight attendant  duct tape flight  duct tape flight passenger  13 year old duct taped on flight  american airlines duct tape  american airlines',\n ' bee scooping lady  bee lady exposed',\n ' food dumpster diving  dumpster diving tech  dumpster diving live animals  dumpster diving in america',\n 'MagicofRahat  MagicofRahat returns  MagicofRahat eric  Magic of Rahat  Magic of Rahat drama  Magic of Rahat Returns  Magic of Rahat exposes Eric  Magic of Rahat receipts  Magic of Rahat proof  Magic of Rahat exposed  Magic of Rahat razz  Magic of Rahat jaylaw  magic of rahat  magic of rahat homeless  magic of rahat homeless man  magic of rahat homeless exposed  magic of rahat exposed  magic of rahat eric',\n ' nas daily exposed  nas daily whang od controversy  nas daily whang od reaction  nas daily whang od video  nas daily tattoo artist  nas daily tattoo artist issue  nas daily philippines reaction  nas daily cancelled philippines  nas daily reaction  nas daily louise',\n ' james charles apology reaction  james charles apology tati',\n 'britney spears  britney spears needs help  britney spears drama  britney spears past  britney spears life  britney spears help  britney spears doc  britney spears documentary  britney spears father  britney spears conservatorship  britney spears spill  britney spears tea spill  britney spears breakdown  dark past of britney spears  framing britney spears  framing britney spears documentary  Framing Britney Spears',\n ' frozen water  water ice  water ice cream  water ice cream rolls  ice water  iced water  cold water  waterice  instant ice  ice cream water  water transformation  iced  asmr ice  cold as ice  ice asmr  ice transformation  water ice asmr  water frozen',\n ' minecraft speed run  minecraft survival lets play  minecraft beating the ender dragon  minecraft beating the game  minecraft books  minecraft guide to the nether and the end  minecraft guide to exploration  beating minecraft using guides',\n ' pack.png seed',\n ' history',\n ' fake minecraft speedruns in a nutshell  caves and cliffs update',\n 'minecraft but  sandiction',\n '\"minecraft facts you didnt know\" \" minecraft things you didnt know\" \" things you didnt know about minecraft\"  minecraft facts  block facts  minecraft education edition  minecraft earth  minecraft earth shutting down  minecraft earth mobs  skip the tutorial  wifies  minecraft baby ghast',\n ' new weapons  new items  caves and cliffs update  caves and cliffs  hilarious  new minecraft mobs  mobs when nobody is looking  minecraft animation  mobs when no one is looking  minecraft when nobody is playing',\n ' fake minecraft speedruns in a nutshell  caves and cliffs update  most hilarious fake minecraft speedruns',\n ' fake minecraft speedruns in a nutshell  caves and cliffs update  most hilarious fake minecraft speedruns',\n ' free',\n ' minecraft hardcore  hardcore series',\n ' inventions  minecraft inventions',\n ' luke thenotable  minecraft hardcore  100 days in minecraft  minecraft 100 days  fake 100 days in minecraft  fake 100 days minecraft youtubers exposed  fake youtubers exposed  fake minecraft youtubers exposed  exposing fake minecraft youtubers  fake 100 days minecraft  fake 100 days exposed  minecraft 100 days exposed  100 days minecraft',\n ' free',\n ' minecraft health bar  minecraft thirst  minecraft thirst bar  minecraft thirst mod  eightsidedsquare  eightsidedsquare youtube  worse minecraft  minecraft but worse  minecraft but bad',\n '\" The Story Of Minecrafts ERROR 422\"  wifies \" Can You Beat Minecrafts Hardest Escape Room?\"  What Is Minecraft Steve?  minecraft error 422 download  The UNKNOWN Story of Minecrafts Potions...  Testing a Haunted Version of Minecraft.. (Error 422)  I Survived [REDACTED] Days in Error 422 in Minecraft...  Testing Minecraft’s Most Scary Version That Was Banned  The story of minecraft',\n ' camera phone  free',\n ' minecraft facts',\n 'wifies  how to  skip the tutorial  skip the tutorial minecraft  28 minecraft things  minecraft things you should do  minecraft things  minecraft things you should know \" scuffed the tutorial lol thats funny\"  minecraft facts',\n ' free',\n ' skip the tutorial  25 ways to ruin your friendships in minecraft  skip the tutorial minecraft  minecraft ruin you friendships  minecraft mess with your friends  minecraft prank your friends  mess with your friends minecraft  mess with your friends in minecraft  ruin your friendships minecraft  pranks in minecraft  pranks minecraft',\n ' new weapons  new items  caves and cliffs update  caves and cliffs  hilarious  new minecraft mobs  custom item  custom items  custom weapon  custom weapons  custom armors  mobs when the server is empty  offline  offline mobs',\n ' camera phone  free',\n ' new weapons  new items  caves and cliffs update  caves and cliffs  hilarious  creeper  new minecraft mobs  custom weapon  custom weapons  custom cow',\n ' new weapons  new items  caves and cliffs update  caves and cliffs  hilarious  creeper  new minecraft mobs  custom item  custom items  custom cow  custom chicken',\n ' new weapons  new items  caves and cliffs update  caves and cliffs  hilarious  new minecraft mobs  presidents in minecraft  president of the united states  white house  government',\n ' minecraft but opposite  creeper  stray  new minecraft mobs  new minecraft animals  how to play minecraft  what if minecraft  what if  minecraft mobs but opposite  upsidedown  new minecraft update',\n ' new weapons  new items  caves and cliffs update  caves and cliffs  hilarious  new minecraft mobs  creeper spie  secret base  secret mobs in minecraft',\n ' of  the  roleplay  Minecraft story  playthrough  shriveling world  shriveling  minecraft end of the world  end of the world  minecraft world  destroyed world',\n ' notch  minecraft notch  40 Updates NOTCH Wanted in Minecraft  sharks in minecraft  secret doors in minecraft  new update  new minecraft update',\n 'ghost minecraft  halloween ideas minecraft  halloween minecraft  halloween minecraft builds  halloween pumpkin minecraft  minecraft halloween  minecraft halloween builds  minecraft halloween ideas  minecraft scary build hacks  minecraft scary builds  minecraft scary halloween  minecraft spooky builds  scary minecraft build hacks  scary minecraft builds  type craft',\n ' camera phone  free',\n ' camera phone',\n ' camera phone',\n ' skip the tutorial  19 Insane Places to Build Your Minecraft Base  skip the tutorial minecraft  minecraft bases  minecraft base ideas  minecraft base  minecraft insane bases  minecraft builds  minecraft house  minecraft house ideas  minecraft hidden base ideas  hidden base ideas minecraft  base minecraft  bases in minecraft  insane places to build your minecraft base  minecraft insane places to build your base',\n '\" Whats Below The Void?\"  What Is Under The Void  Comedy  Nether',\n ' How Deep is The Void in Minecraft?  how deep is the minecraft void  the minecraft void is deeper than you think  surviving in the void  How to survive the void  what is in the minecraft void  what is below the minecraft void  minecraft but the void is infinite  minecraft mystery',\n 'How Rare Can Minecraft Get?  rarest minecraft seeds  Spds Rare  how rare can minecraft get spds  How rare is minecraft  spds how rare  how rare is minecraft pink sheep  spds minecraft  ranking minecrafts rarest occurences  probability comparison: minecraft',\n ' free',\n 'the amazing world of gumball  amazing world of gumball  the copycats gumball  the copycats  amazing world of gumball funny moments  cartoon network  gumball cartoon network  the amazing world of elmore  miracle star english  miracle star english version',\n ' camera phone',\n ' camera phone  free',\n ' quackity lore  dream breaks out of prison  techno breaks dream out of prison  boomerNA dream smp  philza saves tommy from dream  techno phil niki break out dream  dream meets tommy at exile area',\n ' camera phone  free',\n ' cooking  how to cook  cooking at home',\n ' 5-minute crafts recycle  howto  cook  old into new  handcraft  cooking  useful things  life hacks  food  crafts  cake  tricks  rainbow food  trash into treasure  new uses  lifehacks',\n ' crafts  diy activities  handcraft  howto  life hacks  lifehacks  useful things',\n ' Do it yourself  crafts  life hacks  useful things  lifehacks  howto  5-Minute Crafts Recycle  recycle  new uses  old into new  trash into treasure  dough pastry  fried food  cooking tricks  food ideas',\n ' 5-Minute crafts VS  Do it yourself  crafts  life hacks  useful things  lifehacks  howto  how to  now then  reality  commercial vs reality food  commercial vs reality  ads vs reality  fast food  fast foos commercials vs reality  advertisements vs reality',\n 'marshmallow ideas  cookie shapes  cookie forming ideas  easy food to make at home  easy dessert ideas  how to cook  food challenge  breakfast ideas  best recipes  food hacks  cooking hacks  how to make',\n ' coffee hacks  heart-warming beverages  easy food to make at home  healthy recipes  scrambled eggs  microwave hacks  how to cook  breakfast ideas  recipes for dinner  best recipes  recipes with onion  food hacks  cooking hacks  how to make',\n ' 5-minute crafts girly  crafts  handcraft  lifehacks  useful things',\n ' 5 minute crafts food  5 minute crafts for school  5 minute crafts school  5-minute crafts teens  crafts  handcraft  life hacks  lifehacks  school hacks  useful things',\n ' shawarma recipe  recipes in the microwave  cooking ideas  easy food to make at home  sandwich recipe  how to cook  best recipes  food hacks  cooking hacks  how to make  meatballs',\n ' how to cook  food hacks  easy food to make at home  how to make  cooking hacks  watermelon recipes  watermelon ideas  how to cut watermelon  how to make ice cream  clean microwave',\n ' healthy dessert  easy food to make at home  microwave hacks  pastry ideas  how to cook  watermelon cake  food hacks  cooking hacks  how to make',\n 'ramen noodle dishes  cooking tricks  tasty noodles hacks  easy food to make at home  scrambled eggs  recipes with toast  how to cook  breakfast ideas  food hacks  cooking hacks  how to make',\n ' Do it yourself  crafts  life hacks  useful things  lifehacks  tricks  howto  easy crafts  clay  clay crafts  easy DIYs  DIY ideas  polymer clay  old toys',\n ' CEMENT CRAFT IDEAS  CREATIVE IDEAS of CEMENT  diy cement craft ideas  creative cement ideas  how to make water aquarium simple  Reuse Toilet Paper Rolls And Cement .Ideas Making Beautiful 3 - Floor Waterfall Aquarium At Home .  small fish tank  small fish pond in garden  toilet paper roll craft ideas',\n 'How to make pots  Creative cement ideas  Cement craft tips  cement ideas with foam boxes  cement ideas with plastic plates  cement craft ideas  make pots easily at home  cement and sand  cement diy ideas  creative ideas  Creative cement craft ideas for garden decoration  Ideas from foam boxes  Plastic plates and Cement',\n ' CEMENT CRAFT IDEAS  CREATIVE IDEAS of CEMENT  flower pots making  diy cement craft ideas  cement ideas  creative cement ideas  making coffee table From Wood Pallet  decorate Your Home From Twigs And Cement .Making Coffee Table - Chairs And Lampes .  how to make coffee table  how to make coffee table using twigs  ideas from wood pallets',\n 'trash to treasure  how to restore funiture',\n ' CEMENT CRAFT IDEAS  CREATIVE IDEAS of CEMENT  amazing idea . make coffee table and chair from glass bottles old tire and cement.  diy cement craft ideas  cement ideas  cement ideas diy  creative cement ideas  make coffee table and chairs  ideas glass bottles  garden ideas using old tires  diy ideas for old tires  diy old glass bottles  diy coffee table  making coffee table  glass bottles and cement',\n 'Fountains  fish ponds  sand and cement  cement ideas  cement craft ideas  Make a fountain at home  Make a fish pond at home  ideas  ideas with cement  ideas with cement at home  Unique idea with cement  Great idea',\n ' how to cast cement stoves  creation from cement',\n 'How to cast smokeless stove',\n ' free',\n ' Creative Heart-Shaped Smoke-Free Cement Stove  Save firewood  DIY heart-shaped wood stove from cement  Heart-shaped wood stove  wood burning stove  DIY firewood stove  firewood stove  outdoor fire stove  Stove for wood  Wood burning stove outdoor  Outdoor wood fire stove  wood fire stove',\n ' make your own wood stove  make a wood stove from a dishwasher tray  close kitchen  multi-function wood stove',\n 'Creative Cement Projects',\n 'Outdoor Multifunc Wood Stove  How To Building  New Pizza Oven Easy Build  Create wood stove from iron paint bucket  Ideas from cement and clay',\n 'Brick BBQ  Brick Barbeque  Wood fired oven  wood fired pizza oven  how to build a pizza oven  brick oven build  Brick oven time lapse  brick oven construction',\n ' Crossing Excavator Driving  Excavator Driving  Building Demolition',\n ' idea with a drill  life hack  old saw ideas  lifehack  ideas  awesome ideas  brilliant Idea  bright idea  how to make  creative ideas  smart ideas  tricks',\n ' Most Worth Watching  Project Cheap  Furniture Plastic Baskets With Old Pallets  How To  Amazing Design Ideas  Furniture Homemade From Pallet And Plastic Baskets  Cheap Furniture From Pallets  Furniture Products Incredible',\n 'How to make unique and creative coffee table  creative coffee table  how to make a coffee table  DIY handmade coffee table  creative coffee table design  techniques making tables from gloves and cement',\n ' free',\n 'How to make coffee tables and chairs  coffee tables and chairs  garden tables and chairs  penpenvn making tables and chairs  coffee tables',\n 'How to make tables and chairs  how to make porcelain tables and chairs  reading tables  making tables and chairs  penpenvn making tables and chairs',\n 'Creative cement ideas  Cement craft ideas  How to make pots  Creative ideas diy  ideas  cement and sand  casting cement pots from plastic table',\n ' sand and cement  cement ideas  cement craft ideas  fish pond  fish house  fish tank  make a fish pond at home  cement project at home  how to make fishponds at home  ideas with cement',\n 'Cement craft ideas  Cement Craft Tips  Flower pots Making Technique  Creative cement ideas  Flower pots design ideas  Cement with gloves  cement and watermelon  cement and towels  how to make pots  making pots for plants  Making pots for garden decor  Diy ideas  craft tips  ideas',\n 'Making a Beautiful Plant Pot  Plastic Bottles and Cement  Make Plant Pot For Small Garden  Make Pot From Plastic Bottles and Cement  Ideas Cement Pot',\n ' The most unique creative idea from wood  Unique ideas from dry wood  dead wood table  coffee table  tea table  The most beautiful coffee table',\n 'inventions  another level',\n ' excavator working  road construction  Crash Steering Wheel\\\\u200b  Dump Truck Dirt Crash  Dumper Truck Fall Down  Fails Recovery  excavator hitachi  dump truck excavator recovery',\n ' Truck Driving  Heavy Equipment Machines Working  Fails Truck Driving',\n 'Cutting Tree Machine',\n ' manufacturing truck wheel hub  manufacturing process  manufacturing process truck trailer fifth wheels  truck repair  how to repair truck trailer fifth wheels  production process of wheel rim plate  how to repair fifth wheel coupling  trailer fifth wheel plate  trailer fifth wheel lock  trailer fifth wheel king pin  trailer vs fifth wheel',\n ' stihl chainsaw  sawmill cookies  worlds most powerful chainsaw  best chainsaw  best stihl chainsaw  stihl battery powered chainsaw  best battery chainsaw  largest chainsaw in the World',\n ' Woodworking Factory  Woodworking Factory You must see  Wood Cutting',\n 'Tree  Forestry  West coast',\n ' 5000 years old  expensive wood  most expensive wood  most expensive wood in the world  Shockingly',\n ' Woodworking Craftsman  Woodturning  Giant Wood Lathes  One Big Red Tree Create A Wooden Vase  Lathe Complete  Lathe Art  Tractor  CNC  Wood Carving  Lathe  Primitive Technology  Big Red Wooden Vase Lathe Dangerous',\n ' free',\n ' cooking wine  Manufacturing Process wine  Tree  FULL VIDEO: Manufacturing Process wine From Tree  how to build  how to make  white wine  manufacturing process',\n 'black walnut table  how to make epoxy table  how to make river table  resin table  how to  how to build a dining table',\n ' bookmatched wood  bookmatched guitar top  figured woods  how to build a desk  how to  do it yourself projects  expensive wood  most expensive wood  most expensive wood in the world',\n ' bookmatch  bookmatch dining table  bookmatch walnut  epoxy dining table  furniture portland oregon  how to make an epoxy table  how to make river table  live edge furniture  reclaimed table  resin table top  fireplace mantel installation  fireplace mantel makeover',\n ' cutting board  butcher block  turning',\n ' free',\n ' free',\n 'Steam',\n ' camera phone',\n ' vehicle  3-wheeled  tricycle  tricycle restoration  restoring  3-wheeled transport  transport vehicle  3-wheeled vehicle  three wheeler  atc  Restoration & Making',\n ' wilderness cooking  cooking  cooking show  snow camping  wild camping  how to grill  how to cook  food  tasty recipes  food asmr  traditional cooking  snowing video  campfire cooking',\n 'blacksmithing  blacksmith  wood turning',\n 'rebuilding a wrecked car  caterpillar wheel loader engine  caterpillar inc. (award winner)  caterpillar wheel loader  caterpillar wrenching',\n ' restoration  I restored the machine that was under the sea for many years  restoration engine',\n 'restoration  rusty angle grinder restoration  destroyed machine  destroyed angle grinder repair',\n 'Restoration  restoration 2R  restoring  saw restoration',\n 'Restorations The Old Rusty Hand-held Makita Concrete Cutter  The Worker Excellent Restoration Skills  Restorations Skills The Old Rusty Hand-held Makita Concrete Cutter  How To Restore Rusty Old Makita Handheld Concrete Cutter  Restorations The Hand-held Makita Concrete Cutter  Hand-held Makita Concrete Cutter  Handheld Concrete Cutting Machine  Restoreation Concrete Brick Cutting Machine  Restore The Old Rusty Hand-held Makita Concrete Cutter  MAKITA Concrete Block Cutter Restoration',\n ' tool restoration  restoring  Catalyst  Restorations  My Mechanics  teardown  130 years old',\n 'restoration  refurbished  great restoration  hand tool rescue  how to restore',\n ' how to restore  restoring  restoring tools  restoration old things  good restoration  old items  tool repair',\n ' dude perfect water bottle flip  bottle flip  water bottle flip  dude perfect world record  trick shots  trick shot  family  bowling  family friendly  bubble wrap  football  styrofoam  paper airplane battle',\n ' dude perfect water bottle flip  bottle flip  water bottle flip  dude perfect basketball  dude perfect world record  trick shots  trick shot  family  bowling  family friendly  bubble wrap  football  arrow  archery  toy  bottle  bust  crossbow  bow and arrow  archery trick shots',\n ' dude perfect water bottle flip  bottle flip  water bottle flip  dude perfect world record  trick shots  trick shot  family  bowling  clean  family friendly  bubble wrap  football  brittish',\n ' dude perfect water bottle flip  bottle flip  water bottle flip  dude perfect bottle flip  dude perfect world record  trick shots  trick shot  family  bowling  family friendly  bubble wrap  football  inflatable',\n ' dude perfect water bottle flip  bottle flip  water bottle flip  dude perfect basketball  dude perfect world record  trick shots  trick shot  family  bowling  family friendly  bubble wrap  football  boat  a boat  top',\n ' basketball trick shots  trick shots  trick shot  trickshot  cool  iphone game  world record  basketball world record  basketball world record edition  ruffles world record  guinness world records  guiness worlds highest basketball shot  worlds hightst basketball shot  worlds longest basketball shot  world record trick shot',\n ' basketball trick shots  trick shots  trick shot  trickshot  iphone game  mixed reality  virtual archery  virtual bow and arrow  virtual ice fishing',\n ' dude perfect water bottle flip  bottle flip  water bottle flip  dude perfect world record  trick shots  trick shot  family  bowling  family friendly  bubble wrap  football  fishing  boat',\n ' dude perfect water bottle flip  bottle flip  water bottle flip  dude perfect world record  trick shots  trick shot  family  bowling  family friendly  bubble wrap  football  beasts',\n ' dude perfect water bottle flip  bottle flip  water bottle flip  dude perfect bottle flip  dude perfect world record  trick shots  trick shot  family  bowling  family friendly  bubble wrap  football  top',\n ' dude perfect water bottle flip  bottle flip  water bottle flip  dude perfect world record  trick shots  trick shot  family  bowling  family friendly  bubble wrap  football  running out of gas  coby  rolls royce  bently',\n ' dude perfect water bottle flip  bottle flip  water bottle flip  dude perfect world record  trick shots  trick shot  family  bowling  family friendly  bubble wrap  football  comedy',\n ' dude perfect water bottle flip  bottle flip  water bottle flip  dude perfect world record  trick shots  trick shot  family  bowling  family friendly  bubble wrap  football  halloween  or \" ones\"  fight  clown',\n ' dude perfect water bottle flip  bottle flip  water bottle flip  dude perfect world record  trick shots  trick shot  family  family friendly  bubble wrap  football  speedway',\n ' dude perfect water bottle flip  bottle flip  water bottle flip  dude perfect bottle flip  dude perfect basketball  dude perfect world record  trick shots  trick shot  family  bowling  family friendly  bubble wrap  football  Football  Paintball  Comedy  Family',\n ' dude perfect water bottle flip  bottle flip  water bottle flip  world cup  dude perfect world record  trick shots  trick shot  family  clean  family friendly  bubble wrap  football  league  iceland  23andme',\n ' dude perfect water bottle flip  bottle flip  water bottle flip  dude perfect world record  trick shots  trick shot  family  bowling  family friendly  bubble wrap  football  tirerack  tirerack.com  high  even the score',\n ' dude perfect water bottle flip  bottle flip  water bottle flip  dude perfect bottle flip  dude perfect basketball  dude perfect world record  trick shots  trick shot  family  family friendly  bubble wrap  football  crush  crack',\n ' dude perfect water bottle flip  bottle flip  water bottle flip  dude perfect bottle flip  dude perfect basketball  dude perfect world record  trick shots  trick shot  family  bowling  family friendly  bubble wrap  football  coby',\n ' dude perfect water bottle flip  bottle flip  water bottle flip  dude perfect basketball  dude perfect world record  trick shots  trick shot  family  bowling  family friendly  bubble wrap  football  fight  wheel  knights  id tech  giveaway',\n ' dude perfect water bottle flip  bottle flip  water bottle flip  dude perfect bottle flip  dude perfect world record  trick shots  trick shot  family  bowling  family friendly  bubble wrap  football  victory royale  season 4  tilted towers',\n ' dude perfect water bottle flip  bottle flip  water bottle flip  dude perfect world record  trick shots  trick shot  family  bowling  family friendly  bubble wrap  football  cool not cool  wives',\n ' dude perfect water bottle flip  bottle flip  water bottle flip  dude perfect bottle flip  dude perfect world record  trick shots  trick shot  family  family friendly  bubble wrap  football',\n ' dude perfect water bottle flip  bottle flip  water bottle flip  dude perfect world record  trick shots  trick shot  family  bowling  family friendly  bubble wrap  football  cool not cool  wheel',\n ' dude perfect water bottle flip  bottle flip  water bottle flip  dude perfect basketball  dude perfect world record  trick shots  trick shot  family  bowling  family friendly  bubble wrap  football  airsoft  fight  call of duty  clancy',\n ' dude perfect water bottle flip  bottle flip  water bottle flip  dude perfect bottle flip  dude perfect world record  trick shots  trick shot  family  bowling  clean  family friendly  bubble wrap  football  airsoft  of  coby',\n ' dude perfect water bottle flip  bottle flip  water bottle flip  dude perfect basketball  dude perfect world record  trick shots  trick shot  family  bowling  family friendly  bubble wrap  football  throwing  card throwing  card throwing trick shots',\n ' dude perfect water bottle flip  bottle flip  water bottle flip  dude perfect world record  trick shots  trick shot  family  bowling  family friendly  bubble wrap  betcha  pounds  top  treats  clash  cool  floating',\n ' dude perfect water bottle flip  bottle flip  water bottle flip  dude perfect bottle flip  dude perfect world record  trick shots  trick shot  family  bowling  family friendly  bubble wrap  football',\n ' dude perfect water bottle flip  bottle flip  water bottle flip  dude perfect basketball  dude perfect world record  trick shots  trick shot  family  clean  family friendly  bubble wrap  football  high  fox',\n ' dude perfect water bottle flip  bottle flip  water bottle flip  dude perfect bottle flip  dude perfect world record  trick shots  trick shot  family  bowling  family friendly  bubble wrap  football  wheel  coby',\n ' dude perfect water bottle flip  bottle flip  water bottle flip  dude perfect bottle flip  dude perfect world record  trick shots  trick shot  family  bowling  family friendly  bubble wrap  football  with  shock  shaving',\n ' dude perfect water bottle flip  bottle flip  water bottle flip  dude perfect world record  trick shots  trick shot  family  bowling  family friendly  bubble wrap  football  not cool  wheel',\n ' dude perfect water bottle flip  bottle flip  water bottle flip  dude perfect bottle flip  dude perfect world record  trick shots  trick shot  family  bowling  family friendly  bubble wrap  football  giveaway  cool',\n ' dude perfect water bottle flip  bottle flip  water bottle flip  dude perfect basketball  dude perfect world record  trick shots  trick shot  family  bowling  family friendly  bubble wrap  football  cool not cool  betcha  olympics  coffee  thermal',\n ' dude perfect water bottle flip  bottle flip  water bottle flip  dude perfect bottle flip  dude perfect world record  trick shots  trick shot  family  bowling  family friendly  bubble wrap  football  crickets  worlds smallest  wheel',\n ' dude perfect water bottle flip  bottle flip  water bottle flip  dude perfect bottle flip  dude perfect world record  trick shots  trick shot  family  bowling  clean  family friendly  bubble wrap  football  blowing  shattering',\n ' basketball trick shots  trick shots  trick shot  trickshot  cool  iphone game  toy  stress ball',\n ' dude perfect water bottle flip  bottle flip  water bottle flip  dude perfect world record  trick shots  trick shot  family  bowling  family friendly  bubble wrap  football  boat  build a boat  plastic bottle',\n ' dude perfect water bottle flip  bottle flip  water bottle flip  dude perfect bottle flip  dude perfect world record  trick shots  trick shot  family  bowling  family friendly  bubble wrap  football  foam airplane  farthest throw  flight  tall tower  austin texas  race track  throw',\n ' dude perfect water bottle flip  bottle flip  water bottle flip  dude perfect bottle flip  dude perfect world record  trick shots  trick shot  family  bowling  clean  family friendly  bubble wrap  football  carving  wheel',\n ' dude perfect water bottle flip  bottle flip  water bottle flip  dude perfect bottle flip  dude perfect world record  trick shots  trick shot  family  bowling  family friendly  bubble wrap  football  wheel  cool',\n ' dude perfect water bottle flip  bottle flip  water bottle flip  dude perfect world record  trick shots  trick shot  family  bowling  clean  family friendly  bubble wrap  football  theme  cool not cool  animated fish  tow your car  city  office',\n ' dude perfect water bottle flip  bottle flip  water bottle flip  dude perfect basketball  dude perfect world record  trick shots  trick shot  family  bowling  family friendly  bubble wrap  football  wheel unfortunate  24 hours  thrower  cool  not cool  betcha  character',\n ' dude perfect water bottle flip  bottle flip  water bottle flip  dude perfect world record  trick shots  trick shot  family  bowling  family friendly  bubble wrap  football  name this win that  in a  top']"
     },
     "execution_count": 69,
     "metadata": {},
     "output_type": "execute_result"
    }
   ],
   "source": [
    "comments"
   ],
   "metadata": {
    "collapsed": false,
    "pycharm": {
     "name": "#%%\n"
    }
   }
  },
  {
   "cell_type": "code",
   "execution_count": 71,
   "outputs": [],
   "source": [
    "# Vectorizer for TF-IDF\n",
    "tfidf_vectorizer = TfidfVectorizer(preprocessor=preprocessor, tokenizer=tokenizer)\n",
    "\n",
    "# Transform the comments corpus\n",
    "# into a sparse TF-IDF matrix\n",
    "tfidf_matrix = tfidf_vectorizer.fit_transform(comments)\n",
    "\n",
    "# Save the matrix\n",
    "scipy.sparse.save_npz(f'data/TF_IDF/{walk_path}_tfidf_comments.npz', tfidf_matrix)\n",
    "\n",
    "# Save the vocabulary : dict(term: feature index)\n",
    "with open(f'data/vocabulary/{walk_path}_vocabulary.pickle', 'wb') as f:\n",
    "    pickle.dump(tfidf_vectorizer.vocabulary_, f)"
   ],
   "metadata": {
    "collapsed": false,
    "pycharm": {
     "name": "#%%\n"
    }
   }
  },
  {
   "cell_type": "markdown",
   "source": [
    "# Latent Semantic Analyis : SVD of the TF-IDF matrix"
   ],
   "metadata": {
    "collapsed": false
   }
  },
  {
   "cell_type": "code",
   "execution_count": 21,
   "outputs": [],
   "source": [
    "def project_SVD(X, dim=2, seed=0):\n",
    "    \"\"\"\n",
    "    Compute the truncated SVD of the matrix X, keeping\n",
    "    an approximation of rank dim (i.e. dim features\n",
    "    in the embedding)\n",
    "    :param X: TF-IDF sparse matrix\n",
    "    :param dim: rank of the truncated SVD\n",
    "    :param seed: seed for the random SVD\n",
    "    :return: Documents embedding, tokens embedding\n",
    "    \"\"\"\n",
    "    # Compute the truncated SVD\n",
    "    U, sigmas, Vt = randomized_svd(X, n_components=dim, random_state=seed)\n",
    "\n",
    "    # Tokens embeddings\n",
    "    X_emb = U @ np.diag(sigmas)\n",
    "\n",
    "    return X_emb, Vt"
   ],
   "metadata": {
    "collapsed": false,
    "pycharm": {
     "name": "#%%\n"
    }
   }
  },
  {
   "cell_type": "code",
   "execution_count": 26,
   "outputs": [],
   "source": [
    "def print_features_description(Vt, index_map, top_num=10):\n",
    "    \"\"\"\n",
    "    Print the most important tokens for each\n",
    "    features of the tokens embeddings.\n",
    "    :param Vt: tokens embedding\n",
    "    :param index_map: dict(feature index: terme)\n",
    "    :param top_num: number of tokens to print\n",
    "    :return: -\n",
    "    \"\"\"\n",
    "    for i in range(Vt.shape[0]):\n",
    "        sord_idx = np.argsort(Vt[i])\n",
    "        top_min_idx = sord_idx[:top_num]\n",
    "        top_max_idx = sord_idx[::-1][:top_num]\n",
    "        print(f'\\nThe top {top_num} max values for feature {i} are:')\n",
    "        for index in top_max_idx:\n",
    "            print(f'{index_map[index]:<30} {Vt[i,index]:.4f}')\n",
    "\n",
    "        print(f'\\nThe top {top_num} min values for feature {i} are:')\n",
    "        for index in top_min_idx:\n",
    "            print(f'{index_map[index]:<30} {Vt[i,index]:.4f}')\n",
    "\n",
    "        print(\"\\n\")"
   ],
   "metadata": {
    "collapsed": false,
    "pycharm": {
     "name": "#%%\n"
    }
   }
  },
  {
   "cell_type": "code",
   "execution_count": 72,
   "outputs": [],
   "source": [
    "X_emb, Vt = project_SVD(tfidf_matrix, dim=10)"
   ],
   "metadata": {
    "collapsed": false,
    "pycharm": {
     "name": "#%%\n"
    }
   }
  },
  {
   "cell_type": "code",
   "execution_count": 73,
   "outputs": [],
   "source": [
    "index_map = {v: k for k, v in tfidf_vectorizer.vocabulary_.items()}"
   ],
   "metadata": {
    "collapsed": false,
    "pycharm": {
     "name": "#%%\n"
    }
   }
  },
  {
   "cell_type": "code",
   "execution_count": 74,
   "outputs": [
    {
     "name": "stdout",
     "output_type": "stream",
     "text": [
      "\n",
      "The top 10 max values for feature 0 are:\n",
      "free                           0.6208\n",
      "camera                         0.5560\n",
      "phone                          0.5525\n",
      "gas                            0.0139\n",
      "use                            0.0039\n",
      "garbage                        0.0037\n",
      "waste                          0.0035\n",
      "water                          0.0034\n",
      "pump                           0.0034\n",
      "make                           0.0032\n",
      "\n",
      "The top 10 min values for feature 0 are:\n",
      "country                        -0.0000\n",
      "Hilson                         -0.0000\n",
      "yo                             -0.0000\n",
      "ne                             -0.0000\n",
      "Lipstick                       -0.0000\n",
      "Secret                         -0.0000\n",
      "Little                         -0.0000\n",
      "Traces                         -0.0000\n",
      "lithium                        -0.0000\n",
      "repacking                      -0.0000\n",
      "\n",
      "\n",
      "\n",
      "The top 10 max values for feature 1 are:\n",
      "bottle                         0.4404\n",
      "flip                           0.4378\n",
      "dude                           0.3386\n",
      "perfect                        0.3342\n",
      "shot                           0.2654\n",
      "trick                          0.2558\n",
      "water                          0.2506\n",
      "family                         0.2487\n",
      "world                          0.1337\n",
      "bubble                         0.1290\n",
      "\n",
      "The top 10 min values for feature 1 are:\n",
      "camera                         -0.0034\n",
      "phone                          -0.0034\n",
      "MileyWorld                     -0.0000\n",
      "chemistry                      -0.0000\n",
      "orphan                         -0.0000\n",
      "Hilson                         -0.0000\n",
      "Around                         -0.0000\n",
      "Nation                         -0.0000\n",
      "Head                           -0.0000\n",
      "Lovers                         -0.0000\n",
      "\n",
      "\n",
      "\n",
      "The top 10 max values for feature 2 are:\n",
      "free                           0.7824\n",
      "gas                            0.0374\n",
      "use                            0.0106\n",
      "garbage                        0.0100\n",
      "waste                          0.0093\n",
      "pump                           0.0091\n",
      "make                           0.0090\n",
      "turning                        0.0076\n",
      "water                          0.0061\n",
      "energy                         0.0060\n",
      "\n",
      "The top 10 min values for feature 2 are:\n",
      "camera                         -0.4403\n",
      "phone                          -0.4376\n",
      "bottle                         -0.0026\n",
      "flip                           -0.0026\n",
      "dude                           -0.0021\n",
      "perfect                        -0.0020\n",
      "shot                           -0.0016\n",
      "trick                          -0.0015\n",
      "family                         -0.0015\n",
      "Rules                          -0.0008\n",
      "\n",
      "\n",
      "\n",
      "The top 10 max values for feature 3 are:\n",
      "minecraft                      0.8007\n",
      "new                            0.2159\n",
      "idea                           0.1693\n",
      "cave                           0.1435\n",
      "cliff                          0.1435\n",
      "update                         0.1207\n",
      "mob                            0.1200\n",
      "hardcore                       0.1154\n",
      "fake                           0.1123\n",
      "hack                           0.1034\n",
      "\n",
      "The top 10 min values for feature 3 are:\n",
      "flip                           -0.0103\n",
      "dude                           -0.0082\n",
      "perfect                        -0.0079\n",
      "bottle                         -0.0064\n",
      "wrap                           -0.0029\n",
      "bubble                         -0.0029\n",
      "football                       -0.0029\n",
      "bowling                        -0.0026\n",
      "free                           -0.0018\n",
      "record                         -0.0013\n",
      "\n",
      "\n",
      "\n",
      "The top 10 max values for feature 4 are:\n",
      "idea                           0.5210\n",
      "cement                         0.3310\n",
      "hack                           0.2919\n",
      "craft                          0.2520\n",
      "make                           0.2516\n",
      "table                          0.1884\n",
      "life                           0.1781\n",
      "food                           0.1763\n",
      "cooking                        0.1325\n",
      "home                           0.1259\n",
      "\n",
      "The top 10 min values for feature 4 are:\n",
      "minecraft                      -0.2707\n",
      "cave                           -0.0503\n",
      "cliff                          -0.0503\n",
      "hardcore                       -0.0448\n",
      "update                         -0.0441\n",
      "fake                           -0.0439\n",
      "mob                            -0.0419\n",
      "speedruns                      -0.0365\n",
      "new                            -0.0326\n",
      "fact                           -0.0294\n",
      "\n",
      "\n",
      "\n",
      "The top 10 max values for feature 5 are:\n",
      "official                       0.4406\n",
      "Records                        0.4336\n",
      "music                          0.3630\n",
      "video                          0.3527\n",
      "remastered                     0.2377\n",
      "rock                           0.2178\n",
      "black                          0.1317\n",
      "eyed                           0.0983\n",
      "pea                            0.0983\n",
      "song                           0.0972\n",
      "\n",
      "The top 10 min values for feature 5 are:\n",
      "idea                           -0.0749\n",
      "minecraft                      -0.0626\n",
      "cement                         -0.0569\n",
      "table                          -0.0277\n",
      "make                           -0.0260\n",
      "craft                          -0.0197\n",
      "creative                       -0.0179\n",
      "coffee                         -0.0168\n",
      "pot                            -0.0165\n",
      "diy                            -0.0138\n",
      "\n",
      "\n",
      "\n",
      "The top 10 max values for feature 6 are:\n",
      "Records                        0.7612\n",
      "Country                        0.1143\n",
      "Soul                           0.0699\n",
      "Party                          0.0673\n",
      "Blackground                    0.0402\n",
      "Interscope                     0.0402\n",
      "Music                          0.0379\n",
      "minecraft                      0.0283\n",
      "Label                          0.0278\n",
      "artist                         0.0257\n",
      "\n",
      "The top 10 min values for feature 6 are:\n",
      "night                          -0.2580\n",
      "friday                         -0.1983\n",
      "funkin                         -0.1921\n",
      "music                          -0.1537\n",
      "breach                         -0.1520\n",
      "security                       -0.1520\n",
      "animation                      -0.1426\n",
      "rock                           -0.1398\n",
      "official                       -0.1266\n",
      "video                          -0.1202\n",
      "\n",
      "\n",
      "\n",
      "The top 10 max values for feature 7 are:\n",
      "night                          0.4189\n",
      "Records                        0.3892\n",
      "friday                         0.3228\n",
      "funkin                         0.3151\n",
      "breach                         0.2704\n",
      "security                       0.2704\n",
      "animation                      0.2365\n",
      "Fnf                            0.1411\n",
      "fnf                            0.1391\n",
      "fnaf                           0.1335\n",
      "\n",
      "The top 10 min values for feature 7 are:\n",
      "official                       -0.1626\n",
      "video                          -0.1347\n",
      "rock                           -0.1305\n",
      "music                          -0.1058\n",
      "remastered                     -0.0946\n",
      "black                          -0.0583\n",
      "alternative                    -0.0503\n",
      "pea                            -0.0435\n",
      "eyed                           -0.0435\n",
      "best                           -0.0433\n",
      "\n",
      "\n",
      "\n",
      "The top 10 max values for feature 8 are:\n",
      "hack                           0.4414\n",
      "life                           0.3716\n",
      "food                           0.2349\n",
      "cooking                        0.1865\n",
      "craft                          0.1230\n",
      "recipe                         0.1197\n",
      "new                            0.1063\n",
      "cook                           0.1047\n",
      "real                           0.0940\n",
      "lifehacks                      0.0921\n",
      "\n",
      "The top 10 min values for feature 8 are:\n",
      "cement                         -0.3415\n",
      "table                          -0.3022\n",
      "idea                           -0.2512\n",
      "coffee                         -0.1311\n",
      "creative                       -0.1057\n",
      "wood                           -0.0940\n",
      "pot                            -0.0920\n",
      "official                       -0.0896\n",
      "chair                          -0.0843\n",
      "minecraft                      -0.0760\n",
      "\n",
      "\n",
      "\n",
      "The top 10 max values for feature 9 are:\n",
      "rock                           0.6485\n",
      "alternative                    0.2869\n",
      "best                           0.2290\n",
      "song                           0.2190\n",
      "new                            0.1697\n",
      "hit                            0.1487\n",
      "playlist                       0.1230\n",
      "top                            0.1189\n",
      "Records                        0.0778\n",
      "pop                            0.0757\n",
      "\n",
      "The top 10 min values for feature 9 are:\n",
      "official                       -0.3156\n",
      "video                          -0.1980\n",
      "remastered                     -0.1177\n",
      "life                           -0.0972\n",
      "minecraft                      -0.0888\n",
      "hack                           -0.0772\n",
      "black                          -0.0735\n",
      "vevo                           -0.0590\n",
      "eyed                           -0.0538\n",
      "pea                            -0.0538\n",
      "\n",
      "\n"
     ]
    }
   ],
   "source": [
    "print_features_description(Vt, index_map)"
   ],
   "metadata": {
    "collapsed": false,
    "pycharm": {
     "name": "#%%\n"
    }
   }
  },
  {
   "cell_type": "code",
   "execution_count": null,
   "outputs": [],
   "source": [],
   "metadata": {
    "collapsed": false,
    "pycharm": {
     "name": "#%%\n"
    }
   }
  }
 ],
 "metadata": {
  "kernelspec": {
   "display_name": "Python 3",
   "language": "python",
   "name": "python3"
  },
  "language_info": {
   "codemirror_mode": {
    "name": "ipython",
    "version": 2
   },
   "file_extension": ".py",
   "mimetype": "text/x-python",
   "name": "python",
   "nbconvert_exporter": "python",
   "pygments_lexer": "ipython2",
   "version": "2.7.6"
  }
 },
 "nbformat": 4,
 "nbformat_minor": 0
}